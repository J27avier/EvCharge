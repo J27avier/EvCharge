{
 "cells": [
  {
   "cell_type": "code",
   "execution_count": 199,
   "id": "5381d760-4a51-4a31-b2a9-c0968e62858d",
   "metadata": {},
   "outputs": [],
   "source": [
    "from EvGym.charge_world import ChargeWorldEnv, Session\n",
    "from EvGym.charge_agent import agentRB\n",
    "import pandas as pd\n",
    "import numpy as np\n",
    "import time\n",
    "from tqdm.notebook import tqdm\n",
    "from IPython.display import clear_output\n",
    "from EvGym import config\n",
    "import datetime\n",
    "from math import isclose\n",
    "\n",
    "pd.set_option('display.max_rows', 500)\n",
    "pd.set_option('display.max_colwidth', None)\n",
    "np.set_printoptions(formatter={'float': lambda x: \"{0:0.3f}\".format(x)})"
   ]
  },
  {
   "cell_type": "code",
   "execution_count": 3,
   "id": "4cc48a62",
   "metadata": {},
   "outputs": [
    {
     "name": "stdout",
     "output_type": "stream",
     "text": [
      "TransactionStartTS:\t min 1.0,\tmax 35028.0\n",
      "TransactionStopTS:\t min 33.0,\tmax 35104.0\n",
      "--------\n",
      "<class 'pandas.core.frame.DataFrame'>\n",
      "RangeIndex: 10000 entries, 0 to 9999\n",
      "Data columns (total 25 columns):\n",
      " #   Column                   Non-Null Count  Dtype         \n",
      "---  ------                   --------------  -----         \n",
      " 0   TransactionId            10000 non-null  int64         \n",
      " 1   ChargePoint              10000 non-null  object        \n",
      " 2   Connector                10000 non-null  int64         \n",
      " 3   TransactionStartDT       10000 non-null  datetime64[ns]\n",
      " 4   TransactionStopDT        10000 non-null  datetime64[ns]\n",
      " 5   StartCard                10000 non-null  object        \n",
      " 6   ConnectedTime            10000 non-null  float64       \n",
      " 7   ChargeTime               10000 non-null  float64       \n",
      " 8   TotalEnergy              10000 non-null  float64       \n",
      " 9   MaxPower                 10000 non-null  float64       \n",
      " 10  BatteryCapacity          10000 non-null  int64         \n",
      " 11  SOC_arr                  10000 non-null  float64       \n",
      " 12  TransactionStartDate     10000 non-null  object        \n",
      " 13  TransactionStopDate      10000 non-null  object        \n",
      " 14  TransactionStartSecDay   10000 non-null  float64       \n",
      " 15  TransactionStopSecDay    10000 non-null  float64       \n",
      " 16  TransactionStartHourDay  10000 non-null  float64       \n",
      " 17  TransactionStopHourDay   10000 non-null  float64       \n",
      " 18  TransactionStartAbsSec   10000 non-null  float64       \n",
      " 19  TransactionStopAbsSec    10000 non-null  float64       \n",
      " 20  TransactionStartTS       10000 non-null  float64       \n",
      " 21  TransactionStopTS        10000 non-null  float64       \n",
      " 22  ConnectedTimeMin         10000 non-null  float64       \n",
      " 23  measConnectedTimeMin     10000 non-null  float64       \n",
      " 24  errConnectedTime         10000 non-null  float64       \n",
      "dtypes: datetime64[ns](2), float64(16), int64(3), object(4)\n",
      "memory usage: 1.9+ MB\n"
     ]
    }
   ],
   "source": [
    "df_data = pd.read_csv(\"data/prepared_elaad_transactions.csv\", parse_dates=[\"TransactionStartDT\", \"TransactionStopDT\"])\n",
    "df_data[\"TransactionStartDate\"] = pd.to_datetime(df_data[\"TransactionStartDate\"]).dt.date\n",
    "df_data[\"TransactionStopDate\"] = pd.to_datetime(df_data[\"TransactionStopDate\"]).dt.date\n",
    "print(f\"TransactionStartTS:\\t min {df_data['TransactionStartTS'].min()},\\tmax {df_data['TransactionStartTS'].max()}\")\n",
    "print(f\"TransactionStopTS:\\t min {df_data['TransactionStopTS'].min()},\\tmax {df_data['TransactionStopTS'].max()}\")\n",
    "print(\"--------\")\n",
    "df_data.info()"
   ]
  },
  {
   "cell_type": "code",
   "execution_count": 4,
   "id": "168a5374",
   "metadata": {},
   "outputs": [
    {
     "data": {
      "text/html": [
       "<div>\n",
       "<style scoped>\n",
       "    .dataframe tbody tr th:only-of-type {\n",
       "        vertical-align: middle;\n",
       "    }\n",
       "\n",
       "    .dataframe tbody tr th {\n",
       "        vertical-align: top;\n",
       "    }\n",
       "\n",
       "    .dataframe thead th {\n",
       "        text-align: right;\n",
       "    }\n",
       "</style>\n",
       "<table border=\"1\" class=\"dataframe\">\n",
       "  <thead>\n",
       "    <tr style=\"text-align: right;\">\n",
       "      <th></th>\n",
       "      <th>TransactionId</th>\n",
       "      <th>ChargePoint</th>\n",
       "      <th>Connector</th>\n",
       "      <th>TransactionStartDT</th>\n",
       "      <th>TransactionStopDT</th>\n",
       "      <th>StartCard</th>\n",
       "      <th>ConnectedTime</th>\n",
       "      <th>ChargeTime</th>\n",
       "      <th>TotalEnergy</th>\n",
       "      <th>MaxPower</th>\n",
       "      <th>...</th>\n",
       "      <th>TransactionStopSecDay</th>\n",
       "      <th>TransactionStartHourDay</th>\n",
       "      <th>TransactionStopHourDay</th>\n",
       "      <th>TransactionStartAbsSec</th>\n",
       "      <th>TransactionStopAbsSec</th>\n",
       "      <th>TransactionStartTS</th>\n",
       "      <th>TransactionStopTS</th>\n",
       "      <th>ConnectedTimeMin</th>\n",
       "      <th>measConnectedTimeMin</th>\n",
       "      <th>errConnectedTime</th>\n",
       "    </tr>\n",
       "  </thead>\n",
       "  <tbody>\n",
       "    <tr>\n",
       "      <th>0</th>\n",
       "      <td>3261657</td>\n",
       "      <td>e62c50d1be0a2f80ec51d471f9630a4e</td>\n",
       "      <td>2</td>\n",
       "      <td>2019-01-01 00:30:00</td>\n",
       "      <td>2019-01-01 08:24:00</td>\n",
       "      <td>826d337c1d84900452edfcb27a3fb11bcbd06f35da8406abd9ca28b1291d219c</td>\n",
       "      <td>7.91</td>\n",
       "      <td>1.0</td>\n",
       "      <td>6.53</td>\n",
       "      <td>9.818</td>\n",
       "      <td>...</td>\n",
       "      <td>30240.0</td>\n",
       "      <td>0.0</td>\n",
       "      <td>8.0</td>\n",
       "      <td>0.0</td>\n",
       "      <td>28440.0</td>\n",
       "      <td>1.0</td>\n",
       "      <td>33.0</td>\n",
       "      <td>474.6</td>\n",
       "      <td>474.0</td>\n",
       "      <td>0.6</td>\n",
       "    </tr>\n",
       "  </tbody>\n",
       "</table>\n",
       "<p>1 rows × 25 columns</p>\n",
       "</div>"
      ],
      "text/plain": [
       "   TransactionId                       ChargePoint  Connector  \\\n",
       "0        3261657  e62c50d1be0a2f80ec51d471f9630a4e          2   \n",
       "\n",
       "   TransactionStartDT   TransactionStopDT  \\\n",
       "0 2019-01-01 00:30:00 2019-01-01 08:24:00   \n",
       "\n",
       "                                                          StartCard  \\\n",
       "0  826d337c1d84900452edfcb27a3fb11bcbd06f35da8406abd9ca28b1291d219c   \n",
       "\n",
       "   ConnectedTime  ChargeTime  TotalEnergy  MaxPower  ...  \\\n",
       "0           7.91         1.0         6.53     9.818  ...   \n",
       "\n",
       "   TransactionStopSecDay  TransactionStartHourDay TransactionStopHourDay  \\\n",
       "0                30240.0                      0.0                    8.0   \n",
       "\n",
       "  TransactionStartAbsSec  TransactionStopAbsSec  TransactionStartTS  \\\n",
       "0                    0.0                28440.0                 1.0   \n",
       "\n",
       "   TransactionStopTS  ConnectedTimeMin  measConnectedTimeMin  errConnectedTime  \n",
       "0               33.0             474.6                 474.0               0.6  \n",
       "\n",
       "[1 rows x 25 columns]"
      ]
     },
     "execution_count": 4,
     "metadata": {},
     "output_type": "execute_result"
    }
   ],
   "source": [
    "df_data[df_data[\"TransactionStartTS\"] == 1].sort_values([\"TransactionStartTS\"]).head()"
   ]
  },
  {
   "cell_type": "code",
   "execution_count": null,
   "id": "88f3c190-9c73-4cc0-98c1-278269fc0ce1",
   "metadata": {},
   "outputs": [],
   "source": []
  },
  {
   "cell_type": "code",
   "execution_count": 4,
   "id": "ba8b86ef",
   "metadata": {},
   "outputs": [],
   "source": [
    "world = ChargeWorldEnv(df_data)\n",
    "agent = agentRB()\n"
   ]
  },
  {
   "cell_type": "code",
   "execution_count": 5,
   "id": "6b5f28cf",
   "metadata": {},
   "outputs": [
    {
     "data": {
      "text/html": [
       "<div>\n",
       "<style scoped>\n",
       "    .dataframe tbody tr th:only-of-type {\n",
       "        vertical-align: middle;\n",
       "    }\n",
       "\n",
       "    .dataframe tbody tr th {\n",
       "        vertical-align: top;\n",
       "    }\n",
       "\n",
       "    .dataframe thead th {\n",
       "        text-align: right;\n",
       "    }\n",
       "</style>\n",
       "<table border=\"1\" class=\"dataframe\">\n",
       "  <thead>\n",
       "    <tr style=\"text-align: right;\">\n",
       "      <th></th>\n",
       "      <th>idSess</th>\n",
       "      <th>t_arr</th>\n",
       "      <th>soc_arr</th>\n",
       "      <th>t_dep</th>\n",
       "      <th>soc_t</th>\n",
       "    </tr>\n",
       "  </thead>\n",
       "  <tbody>\n",
       "    <tr>\n",
       "      <th>0</th>\n",
       "      <td>-1</td>\n",
       "      <td>0</td>\n",
       "      <td>0</td>\n",
       "      <td>0</td>\n",
       "      <td>0</td>\n",
       "    </tr>\n",
       "    <tr>\n",
       "      <th>1</th>\n",
       "      <td>-1</td>\n",
       "      <td>0</td>\n",
       "      <td>0</td>\n",
       "      <td>0</td>\n",
       "      <td>0</td>\n",
       "    </tr>\n",
       "    <tr>\n",
       "      <th>2</th>\n",
       "      <td>-1</td>\n",
       "      <td>0</td>\n",
       "      <td>0</td>\n",
       "      <td>0</td>\n",
       "      <td>0</td>\n",
       "    </tr>\n",
       "    <tr>\n",
       "      <th>3</th>\n",
       "      <td>-1</td>\n",
       "      <td>0</td>\n",
       "      <td>0</td>\n",
       "      <td>0</td>\n",
       "      <td>0</td>\n",
       "    </tr>\n",
       "    <tr>\n",
       "      <th>4</th>\n",
       "      <td>-1</td>\n",
       "      <td>0</td>\n",
       "      <td>0</td>\n",
       "      <td>0</td>\n",
       "      <td>0</td>\n",
       "    </tr>\n",
       "    <tr>\n",
       "      <th>5</th>\n",
       "      <td>-1</td>\n",
       "      <td>0</td>\n",
       "      <td>0</td>\n",
       "      <td>0</td>\n",
       "      <td>0</td>\n",
       "    </tr>\n",
       "    <tr>\n",
       "      <th>6</th>\n",
       "      <td>-1</td>\n",
       "      <td>0</td>\n",
       "      <td>0</td>\n",
       "      <td>0</td>\n",
       "      <td>0</td>\n",
       "    </tr>\n",
       "    <tr>\n",
       "      <th>7</th>\n",
       "      <td>-1</td>\n",
       "      <td>0</td>\n",
       "      <td>0</td>\n",
       "      <td>0</td>\n",
       "      <td>0</td>\n",
       "    </tr>\n",
       "    <tr>\n",
       "      <th>8</th>\n",
       "      <td>-1</td>\n",
       "      <td>0</td>\n",
       "      <td>0</td>\n",
       "      <td>0</td>\n",
       "      <td>0</td>\n",
       "    </tr>\n",
       "    <tr>\n",
       "      <th>9</th>\n",
       "      <td>-1</td>\n",
       "      <td>0</td>\n",
       "      <td>0</td>\n",
       "      <td>0</td>\n",
       "      <td>0</td>\n",
       "    </tr>\n",
       "    <tr>\n",
       "      <th>10</th>\n",
       "      <td>-1</td>\n",
       "      <td>0</td>\n",
       "      <td>0</td>\n",
       "      <td>0</td>\n",
       "      <td>0</td>\n",
       "    </tr>\n",
       "    <tr>\n",
       "      <th>11</th>\n",
       "      <td>-1</td>\n",
       "      <td>0</td>\n",
       "      <td>0</td>\n",
       "      <td>0</td>\n",
       "      <td>0</td>\n",
       "    </tr>\n",
       "    <tr>\n",
       "      <th>12</th>\n",
       "      <td>-1</td>\n",
       "      <td>0</td>\n",
       "      <td>0</td>\n",
       "      <td>0</td>\n",
       "      <td>0</td>\n",
       "    </tr>\n",
       "    <tr>\n",
       "      <th>13</th>\n",
       "      <td>-1</td>\n",
       "      <td>0</td>\n",
       "      <td>0</td>\n",
       "      <td>0</td>\n",
       "      <td>0</td>\n",
       "    </tr>\n",
       "    <tr>\n",
       "      <th>14</th>\n",
       "      <td>-1</td>\n",
       "      <td>0</td>\n",
       "      <td>0</td>\n",
       "      <td>0</td>\n",
       "      <td>0</td>\n",
       "    </tr>\n",
       "    <tr>\n",
       "      <th>15</th>\n",
       "      <td>-1</td>\n",
       "      <td>0</td>\n",
       "      <td>0</td>\n",
       "      <td>0</td>\n",
       "      <td>0</td>\n",
       "    </tr>\n",
       "    <tr>\n",
       "      <th>16</th>\n",
       "      <td>-1</td>\n",
       "      <td>0</td>\n",
       "      <td>0</td>\n",
       "      <td>0</td>\n",
       "      <td>0</td>\n",
       "    </tr>\n",
       "    <tr>\n",
       "      <th>17</th>\n",
       "      <td>-1</td>\n",
       "      <td>0</td>\n",
       "      <td>0</td>\n",
       "      <td>0</td>\n",
       "      <td>0</td>\n",
       "    </tr>\n",
       "    <tr>\n",
       "      <th>18</th>\n",
       "      <td>-1</td>\n",
       "      <td>0</td>\n",
       "      <td>0</td>\n",
       "      <td>0</td>\n",
       "      <td>0</td>\n",
       "    </tr>\n",
       "    <tr>\n",
       "      <th>19</th>\n",
       "      <td>-1</td>\n",
       "      <td>0</td>\n",
       "      <td>0</td>\n",
       "      <td>0</td>\n",
       "      <td>0</td>\n",
       "    </tr>\n",
       "    <tr>\n",
       "      <th>20</th>\n",
       "      <td>-1</td>\n",
       "      <td>0</td>\n",
       "      <td>0</td>\n",
       "      <td>0</td>\n",
       "      <td>0</td>\n",
       "    </tr>\n",
       "    <tr>\n",
       "      <th>21</th>\n",
       "      <td>-1</td>\n",
       "      <td>0</td>\n",
       "      <td>0</td>\n",
       "      <td>0</td>\n",
       "      <td>0</td>\n",
       "    </tr>\n",
       "    <tr>\n",
       "      <th>22</th>\n",
       "      <td>-1</td>\n",
       "      <td>0</td>\n",
       "      <td>0</td>\n",
       "      <td>0</td>\n",
       "      <td>0</td>\n",
       "    </tr>\n",
       "    <tr>\n",
       "      <th>23</th>\n",
       "      <td>-1</td>\n",
       "      <td>0</td>\n",
       "      <td>0</td>\n",
       "      <td>0</td>\n",
       "      <td>0</td>\n",
       "    </tr>\n",
       "    <tr>\n",
       "      <th>24</th>\n",
       "      <td>-1</td>\n",
       "      <td>0</td>\n",
       "      <td>0</td>\n",
       "      <td>0</td>\n",
       "      <td>0</td>\n",
       "    </tr>\n",
       "  </tbody>\n",
       "</table>\n",
       "</div>"
      ],
      "text/plain": [
       "   idSess t_arr soc_arr t_dep soc_t\n",
       "0      -1     0       0     0     0\n",
       "1      -1     0       0     0     0\n",
       "2      -1     0       0     0     0\n",
       "3      -1     0       0     0     0\n",
       "4      -1     0       0     0     0\n",
       "5      -1     0       0     0     0\n",
       "6      -1     0       0     0     0\n",
       "7      -1     0       0     0     0\n",
       "8      -1     0       0     0     0\n",
       "9      -1     0       0     0     0\n",
       "10     -1     0       0     0     0\n",
       "11     -1     0       0     0     0\n",
       "12     -1     0       0     0     0\n",
       "13     -1     0       0     0     0\n",
       "14     -1     0       0     0     0\n",
       "15     -1     0       0     0     0\n",
       "16     -1     0       0     0     0\n",
       "17     -1     0       0     0     0\n",
       "18     -1     0       0     0     0\n",
       "19     -1     0       0     0     0\n",
       "20     -1     0       0     0     0\n",
       "21     -1     0       0     0     0\n",
       "22     -1     0       0     0     0\n",
       "23     -1     0       0     0     0\n",
       "24     -1     0       0     0     0"
      ]
     },
     "metadata": {},
     "output_type": "display_data"
    },
    {
     "name": "stdout",
     "output_type": "stream",
     "text": [
      "3261657 departed with soc of 1\n",
      "t= 33, reward 0,\n",
      "power 0.00, \n",
      "action [0.000 0.000 0.000 0.000 0.000 0.000 0.000 0.000 0.000 0.000]\n",
      "[0.000 0.000 0.000 0.000 0.000 0.000 0.000 0.000 0.000 0.000 0.000 0.000\n",
      " 0.000 0.000 0.000]\n"
     ]
    },
    {
     "ename": "KeyboardInterrupt",
     "evalue": "Interrupted by user",
     "output_type": "error",
     "traceback": [
      "\u001b[0;31m---------------------------------------------------------------------------\u001b[0m",
      "\u001b[0;31mKeyboardInterrupt\u001b[0m                         Traceback (most recent call last)",
      "\u001b[0;32m/tmp/ipykernel_548840/1299498658.py\u001b[0m in \u001b[0;36m<module>\u001b[0;34m\u001b[0m\n\u001b[1;32m     18\u001b[0m         \u001b[0mtime\u001b[0m\u001b[0;34m.\u001b[0m\u001b[0msleep\u001b[0m\u001b[0;34m(\u001b[0m\u001b[0;36m0.2\u001b[0m\u001b[0;34m)\u001b[0m\u001b[0;34m\u001b[0m\u001b[0;34m\u001b[0m\u001b[0m\n\u001b[1;32m     19\u001b[0m     \u001b[0;32melse\u001b[0m\u001b[0;34m:\u001b[0m\u001b[0;34m\u001b[0m\u001b[0;34m\u001b[0m\u001b[0m\n\u001b[0;32m---> 20\u001b[0;31m         \u001b[0minput\u001b[0m\u001b[0;34m(\u001b[0m\u001b[0;34m)\u001b[0m\u001b[0;34m\u001b[0m\u001b[0;34m\u001b[0m\u001b[0m\n\u001b[0m\u001b[1;32m     21\u001b[0m     \u001b[0mdf_state_minus1\u001b[0m \u001b[0;34m=\u001b[0m \u001b[0mdf_state\u001b[0m\u001b[0;34m.\u001b[0m\u001b[0mcopy\u001b[0m\u001b[0;34m(\u001b[0m\u001b[0;34m)\u001b[0m\u001b[0;34m\u001b[0m\u001b[0;34m\u001b[0m\u001b[0m\n\u001b[1;32m     22\u001b[0m \u001b[0;34m\u001b[0m\u001b[0m\n",
      "\u001b[0;32m~/.local/lib/python3.8/site-packages/ipykernel/kernelbase.py\u001b[0m in \u001b[0;36mraw_input\u001b[0;34m(self, prompt)\u001b[0m\n\u001b[1;32m   1005\u001b[0m                 \u001b[0;34m\"raw_input was called, but this frontend does not support input requests.\"\u001b[0m\u001b[0;34m\u001b[0m\u001b[0;34m\u001b[0m\u001b[0m\n\u001b[1;32m   1006\u001b[0m             )\n\u001b[0;32m-> 1007\u001b[0;31m         return self._input_request(\n\u001b[0m\u001b[1;32m   1008\u001b[0m             \u001b[0mstr\u001b[0m\u001b[0;34m(\u001b[0m\u001b[0mprompt\u001b[0m\u001b[0;34m)\u001b[0m\u001b[0;34m,\u001b[0m\u001b[0;34m\u001b[0m\u001b[0;34m\u001b[0m\u001b[0m\n\u001b[1;32m   1009\u001b[0m             \u001b[0mself\u001b[0m\u001b[0;34m.\u001b[0m\u001b[0m_parent_ident\u001b[0m\u001b[0;34m[\u001b[0m\u001b[0;34m\"shell\"\u001b[0m\u001b[0;34m]\u001b[0m\u001b[0;34m,\u001b[0m\u001b[0;34m\u001b[0m\u001b[0;34m\u001b[0m\u001b[0m\n",
      "\u001b[0;32m~/.local/lib/python3.8/site-packages/ipykernel/kernelbase.py\u001b[0m in \u001b[0;36m_input_request\u001b[0;34m(self, prompt, ident, parent, password)\u001b[0m\n\u001b[1;32m   1050\u001b[0m             \u001b[0;32mexcept\u001b[0m \u001b[0mKeyboardInterrupt\u001b[0m\u001b[0;34m:\u001b[0m\u001b[0;34m\u001b[0m\u001b[0;34m\u001b[0m\u001b[0m\n\u001b[1;32m   1051\u001b[0m                 \u001b[0;31m# re-raise KeyboardInterrupt, to truncate traceback\u001b[0m\u001b[0;34m\u001b[0m\u001b[0;34m\u001b[0m\u001b[0;34m\u001b[0m\u001b[0m\n\u001b[0;32m-> 1052\u001b[0;31m                 \u001b[0;32mraise\u001b[0m \u001b[0mKeyboardInterrupt\u001b[0m\u001b[0;34m(\u001b[0m\u001b[0;34m\"Interrupted by user\"\u001b[0m\u001b[0;34m)\u001b[0m \u001b[0;32mfrom\u001b[0m \u001b[0;32mNone\u001b[0m\u001b[0;34m\u001b[0m\u001b[0;34m\u001b[0m\u001b[0m\n\u001b[0m\u001b[1;32m   1053\u001b[0m             \u001b[0;32mexcept\u001b[0m \u001b[0mException\u001b[0m\u001b[0;34m:\u001b[0m\u001b[0;34m\u001b[0m\u001b[0;34m\u001b[0m\u001b[0m\n\u001b[1;32m   1054\u001b[0m                 \u001b[0mself\u001b[0m\u001b[0;34m.\u001b[0m\u001b[0mlog\u001b[0m\u001b[0;34m.\u001b[0m\u001b[0mwarning\u001b[0m\u001b[0;34m(\u001b[0m\u001b[0;34m\"Invalid Message:\"\u001b[0m\u001b[0;34m,\u001b[0m \u001b[0mexc_info\u001b[0m\u001b[0;34m=\u001b[0m\u001b[0;32mTrue\u001b[0m\u001b[0;34m)\u001b[0m\u001b[0;34m\u001b[0m\u001b[0;34m\u001b[0m\u001b[0m\n",
      "\u001b[0;31mKeyboardInterrupt\u001b[0m: Interrupted by user"
     ]
    }
   ],
   "source": [
    "\n",
    "df_state = world.reset()\n",
    "df_state_minus1 = df_state.copy()\n",
    "for i in range(df_data.shape[0]):\n",
    "    clear_output(wait=True)  # Clear the output from the previous iteration\n",
    "    action = agent.get_action(df_state)\n",
    "    df_state, reward, done, info = world.step(action)\n",
    "    \n",
    "    display(df_state)  # Display the data frame\n",
    "    \n",
    "    #display(f\"t= {world.t}, action {action}, power {world.power_t.sum()}\")  # Display the iteration number\n",
    "    \n",
    "    if world.df_depart.shape[0] > 0:\n",
    "        for _, dep in world.df_depart.iterrows():\n",
    "            print(f\"{dep.idSess} departed with soc of {dep.soc_t}\")\n",
    "    print(f\"t= {world.t}, reward {reward},\\npower {world.power_t.sum():.02f}, \\naction {action[:10]}\\n{action[10:]}\")\n",
    "    \n",
    "    if (df_state_minus1.values == df_state.values).all():\n",
    "        time.sleep(0.2)\n",
    "    else:\n",
    "        input()\n",
    "    df_state_minus1 = df_state.copy()\n",
    "\n",
    "\n",
    "    "
   ]
  },
  {
   "cell_type": "code",
   "execution_count": null,
   "id": "c14fd72c-3431-4cb4-b5d5-9a937961cd28",
   "metadata": {},
   "outputs": [],
   "source": []
  },
  {
   "cell_type": "code",
   "execution_count": null,
   "id": "15a054cf-a996-4661-a804-a2b16b94bedd",
   "metadata": {},
   "outputs": [],
   "source": [
    "world.reset()\n",
    "# Before 50-60 sec\n",
    "for i in range(10): #tqdm(range(df_data[\"TransactionStopTS\"].max().astype(int))):\n",
    "    world.step(np.zeros(world.max_cars))\n",
    "\n",
    "#world.step()\n",
    "#print(world.t)\n",
    "#world.df_park.head(200)\n"
   ]
  },
  {
   "cell_type": "code",
   "execution_count": 12,
   "id": "e1ff3a96-61d9-434d-89c3-b82f1b5a825d",
   "metadata": {},
   "outputs": [
    {
     "data": {
      "text/plain": [
       "numpy.ndarray"
      ]
     },
     "execution_count": 12,
     "metadata": {},
     "output_type": "execute_result"
    }
   ],
   "source": [
    "type(df_data.values)"
   ]
  },
  {
   "cell_type": "code",
   "execution_count": 119,
   "id": "c442ea5b-51e9-41a9-a4c0-bd4dcf80810f",
   "metadata": {},
   "outputs": [
    {
     "data": {
      "text/html": [
       "<div>\n",
       "<style scoped>\n",
       "    .dataframe tbody tr th:only-of-type {\n",
       "        vertical-align: middle;\n",
       "    }\n",
       "\n",
       "    .dataframe tbody tr th {\n",
       "        vertical-align: top;\n",
       "    }\n",
       "\n",
       "    .dataframe thead th {\n",
       "        text-align: right;\n",
       "    }\n",
       "</style>\n",
       "<table border=\"1\" class=\"dataframe\">\n",
       "  <thead>\n",
       "    <tr style=\"text-align: right;\">\n",
       "      <th></th>\n",
       "      <th>id</th>\n",
       "      <th>age</th>\n",
       "      <th>letter</th>\n",
       "    </tr>\n",
       "  </thead>\n",
       "  <tbody>\n",
       "    <tr>\n",
       "      <th>0</th>\n",
       "      <td>0</td>\n",
       "      <td>1</td>\n",
       "      <td>a</td>\n",
       "    </tr>\n",
       "    <tr>\n",
       "      <th>1</th>\n",
       "      <td>1</td>\n",
       "      <td>5</td>\n",
       "      <td>b</td>\n",
       "    </tr>\n",
       "    <tr>\n",
       "      <th>2</th>\n",
       "      <td>1</td>\n",
       "      <td>7</td>\n",
       "      <td>c</td>\n",
       "    </tr>\n",
       "    <tr>\n",
       "      <th>3</th>\n",
       "      <td>0</td>\n",
       "      <td>4</td>\n",
       "      <td>d</td>\n",
       "    </tr>\n",
       "  </tbody>\n",
       "</table>\n",
       "</div>"
      ],
      "text/plain": [
       "   id  age letter\n",
       "0   0    1      a\n",
       "1   1    5      b\n",
       "2   1    7      c\n",
       "3   0    4      d"
      ]
     },
     "execution_count": 119,
     "metadata": {},
     "output_type": "execute_result"
    }
   ],
   "source": [
    "df_c = pd.DataFrame([[0,1,'a'], [1, 2, 'b'], [1, 3, 'c'], [0,4, 'd']], columns = [\"id\", \"age\", \"letter\"])\n",
    "big_id = df_c[\"id\"] > 0\n",
    "df_c.loc[big_id, \"age\"] = 2*df_c.loc[big_id][\"age\"] + df_c.loc[big_id][\"id\"]\n",
    "df_c"
   ]
  },
  {
   "cell_type": "code",
   "execution_count": 125,
   "id": "d758f61e-695e-4da3-9f80-11ae35c07c97",
   "metadata": {},
   "outputs": [
    {
     "data": {
      "text/plain": [
       "0     True\n",
       "1    False\n",
       "2    False\n",
       "3     True\n",
       "Name: id, dtype: bool"
      ]
     },
     "execution_count": 125,
     "metadata": {},
     "output_type": "execute_result"
    }
   ],
   "source": [
    "~big_id"
   ]
  },
  {
   "cell_type": "code",
   "execution_count": 61,
   "id": "55eb8179-5829-43f9-bd67-6604a7501db8",
   "metadata": {},
   "outputs": [],
   "source": [
    "df_a_lag = pd.DataFrame([[0,'a'], [0, 'b'], [0, 'c'], [0, \"d\"]], columns = [\"id\", \"letter\"])\n",
    "df_a = pd.DataFrame([[0,'a'], [1, 'b'], [0, 'c'], [1, \"d\"]], columns = [\"id\", \"letter\"])"
   ]
  },
  {
   "cell_type": "code",
   "execution_count": 66,
   "id": "20e52d48-07e0-4b0a-9de0-cbf7e62d0459",
   "metadata": {},
   "outputs": [
    {
     "name": "stdout",
     "output_type": "stream",
     "text": [
      "0 a\n",
      "1 m\n",
      "2 c\n",
      "3 m\n"
     ]
    }
   ],
   "source": [
    "new_arrival_id = df_a['id'] != df_a_lag['id']\n",
    "arr_a = df_a.values\n",
    "for i, row in df_a.iterrows():\n",
    "    string = str(i) + \" \" + row[\"letter\"]\n",
    "    if new_arrival_id[i]:\n",
    "        string = config.bcolors.FAIL + string + config.bcolors.ENDC\n",
    "    print(string)"
   ]
  },
  {
   "cell_type": "code",
   "execution_count": 67,
   "id": "8b0d841e-019f-4840-884c-39d7b0fb1ea9",
   "metadata": {},
   "outputs": [
    {
     "data": {
      "text/plain": [
       "'a'"
      ]
     },
     "execution_count": 67,
     "metadata": {},
     "output_type": "execute_result"
    }
   ],
   "source": [
    "df_a.iloc[0].letter"
   ]
  },
  {
   "cell_type": "code",
   "execution_count": 68,
   "id": "119bbb7f-0860-4340-918a-e4556f30fdc1",
   "metadata": {},
   "outputs": [],
   "source": [
    "blank_row = [0, \"m\"]"
   ]
  },
  {
   "cell_type": "code",
   "execution_count": 69,
   "id": "e603b3df-1582-4a56-988b-4e4fd017dd10",
   "metadata": {},
   "outputs": [
    {
     "data": {
      "text/html": [
       "<div>\n",
       "<style scoped>\n",
       "    .dataframe tbody tr th:only-of-type {\n",
       "        vertical-align: middle;\n",
       "    }\n",
       "\n",
       "    .dataframe tbody tr th {\n",
       "        vertical-align: top;\n",
       "    }\n",
       "\n",
       "    .dataframe thead th {\n",
       "        text-align: right;\n",
       "    }\n",
       "</style>\n",
       "<table border=\"1\" class=\"dataframe\">\n",
       "  <thead>\n",
       "    <tr style=\"text-align: right;\">\n",
       "      <th></th>\n",
       "      <th>id</th>\n",
       "      <th>letter</th>\n",
       "    </tr>\n",
       "  </thead>\n",
       "  <tbody>\n",
       "    <tr>\n",
       "      <th>0</th>\n",
       "      <td>0</td>\n",
       "      <td>a</td>\n",
       "    </tr>\n",
       "    <tr>\n",
       "      <th>1</th>\n",
       "      <td>0</td>\n",
       "      <td>m</td>\n",
       "    </tr>\n",
       "    <tr>\n",
       "      <th>2</th>\n",
       "      <td>0</td>\n",
       "      <td>c</td>\n",
       "    </tr>\n",
       "    <tr>\n",
       "      <th>3</th>\n",
       "      <td>0</td>\n",
       "      <td>m</td>\n",
       "    </tr>\n",
       "  </tbody>\n",
       "</table>\n",
       "</div>"
      ],
      "text/plain": [
       "   id letter\n",
       "0   0      a\n",
       "1   0      m\n",
       "2   0      c\n",
       "3   0      m"
      ]
     },
     "metadata": {},
     "output_type": "display_data"
    },
    {
     "name": "stdout",
     "output_type": "stream",
     "text": [
      "0    False\n",
      "1    False\n",
      "2    False\n",
      "3    False\n",
      "Name: id, dtype: bool\n"
     ]
    },
    {
     "data": {
      "text/html": [
       "<div>\n",
       "<style scoped>\n",
       "    .dataframe tbody tr th:only-of-type {\n",
       "        vertical-align: middle;\n",
       "    }\n",
       "\n",
       "    .dataframe tbody tr th {\n",
       "        vertical-align: top;\n",
       "    }\n",
       "\n",
       "    .dataframe thead th {\n",
       "        text-align: right;\n",
       "    }\n",
       "</style>\n",
       "<table border=\"1\" class=\"dataframe\">\n",
       "  <thead>\n",
       "    <tr style=\"text-align: right;\">\n",
       "      <th></th>\n",
       "      <th>id</th>\n",
       "      <th>letter</th>\n",
       "    </tr>\n",
       "  </thead>\n",
       "  <tbody>\n",
       "    <tr>\n",
       "      <th>0</th>\n",
       "      <td>0</td>\n",
       "      <td>a</td>\n",
       "    </tr>\n",
       "    <tr>\n",
       "      <th>1</th>\n",
       "      <td>0</td>\n",
       "      <td>m</td>\n",
       "    </tr>\n",
       "    <tr>\n",
       "      <th>2</th>\n",
       "      <td>0</td>\n",
       "      <td>c</td>\n",
       "    </tr>\n",
       "    <tr>\n",
       "      <th>3</th>\n",
       "      <td>0</td>\n",
       "      <td>m</td>\n",
       "    </tr>\n",
       "  </tbody>\n",
       "</table>\n",
       "</div>"
      ],
      "text/plain": [
       "   id letter\n",
       "0   0      a\n",
       "1   0      m\n",
       "2   0      c\n",
       "3   0      m"
      ]
     },
     "execution_count": 69,
     "metadata": {},
     "output_type": "execute_result"
    }
   ],
   "source": [
    "display(df_a)\n",
    "index_replace = (df_a[\"id\"] == 1)\n",
    "print(index_replace)\n",
    "df_a.loc[index_replace] = blank_row\n",
    "df_a"
   ]
  },
  {
   "cell_type": "code",
   "execution_count": 100,
   "id": "5e396486-88a9-4789-a8db-d25bbcc99974",
   "metadata": {},
   "outputs": [
    {
     "data": {
      "text/plain": [
       "False"
      ]
     },
     "execution_count": 100,
     "metadata": {},
     "output_type": "execute_result"
    }
   ],
   "source": [
    "arr_num = np.array([1,2,3,4])\n",
    "(arr_num[barr_big] > 2).all()"
   ]
  },
  {
   "cell_type": "code",
   "execution_count": 102,
   "id": "921f2aec-1676-4dd5-9623-a5add4b8216d",
   "metadata": {},
   "outputs": [
    {
     "data": {
      "text/plain": [
       "array([2, 2, 3, 3])"
      ]
     },
     "execution_count": 102,
     "metadata": {},
     "output_type": "execute_result"
    }
   ],
   "source": [
    "arr_clip = np.clip(arr_num, 2, 3)\n",
    "arr_clip"
   ]
  },
  {
   "cell_type": "code",
   "execution_count": 94,
   "id": "5e1f6a0e-ea74-4729-8cfd-3662b90b6227",
   "metadata": {},
   "outputs": [
    {
     "data": {
      "text/plain": [
       "True"
      ]
     },
     "execution_count": 94,
     "metadata": {},
     "output_type": "execute_result"
    }
   ],
   "source": [
    "barr_big.any()"
   ]
  },
  {
   "cell_type": "code",
   "execution_count": 86,
   "id": "fe19a29f-d74d-4eac-b71b-956e9b16a2c5",
   "metadata": {},
   "outputs": [
    {
     "data": {
      "text/html": [
       "<div>\n",
       "<style scoped>\n",
       "    .dataframe tbody tr th:only-of-type {\n",
       "        vertical-align: middle;\n",
       "    }\n",
       "\n",
       "    .dataframe tbody tr th {\n",
       "        vertical-align: top;\n",
       "    }\n",
       "\n",
       "    .dataframe thead th {\n",
       "        text-align: right;\n",
       "    }\n",
       "</style>\n",
       "<table border=\"1\" class=\"dataframe\">\n",
       "  <thead>\n",
       "    <tr style=\"text-align: right;\">\n",
       "      <th></th>\n",
       "      <th>id</th>\n",
       "      <th>letter</th>\n",
       "    </tr>\n",
       "  </thead>\n",
       "  <tbody>\n",
       "    <tr>\n",
       "      <th>0</th>\n",
       "      <td>1</td>\n",
       "      <td>a</td>\n",
       "    </tr>\n",
       "    <tr>\n",
       "      <th>1</th>\n",
       "      <td>32</td>\n",
       "      <td>m</td>\n",
       "    </tr>\n",
       "    <tr>\n",
       "      <th>2</th>\n",
       "      <td>32</td>\n",
       "      <td>c</td>\n",
       "    </tr>\n",
       "    <tr>\n",
       "      <th>3</th>\n",
       "      <td>1</td>\n",
       "      <td>m</td>\n",
       "    </tr>\n",
       "  </tbody>\n",
       "</table>\n",
       "</div>"
      ],
      "text/plain": [
       "   id letter\n",
       "0   1      a\n",
       "1  32      m\n",
       "2  32      c\n",
       "3   1      m"
      ]
     },
     "execution_count": 86,
     "metadata": {},
     "output_type": "execute_result"
    }
   ],
   "source": [
    "barr_big = df_a[\"id\"] > 1\n",
    "df_a.loc[index_big, \"id\"] += 1\n",
    "\n",
    "df_a"
   ]
  },
  {
   "cell_type": "code",
   "execution_count": 79,
   "id": "b4c087fb-e8df-4771-af30-d5d0da2150b8",
   "metadata": {},
   "outputs": [
    {
     "data": {
      "text/html": [
       "<div>\n",
       "<style scoped>\n",
       "    .dataframe tbody tr th:only-of-type {\n",
       "        vertical-align: middle;\n",
       "    }\n",
       "\n",
       "    .dataframe tbody tr th {\n",
       "        vertical-align: top;\n",
       "    }\n",
       "\n",
       "    .dataframe thead th {\n",
       "        text-align: right;\n",
       "    }\n",
       "</style>\n",
       "<table border=\"1\" class=\"dataframe\">\n",
       "  <thead>\n",
       "    <tr style=\"text-align: right;\">\n",
       "      <th></th>\n",
       "      <th>id</th>\n",
       "      <th>letter</th>\n",
       "    </tr>\n",
       "  </thead>\n",
       "  <tbody>\n",
       "    <tr>\n",
       "      <th>0</th>\n",
       "      <td>1</td>\n",
       "      <td>a</td>\n",
       "    </tr>\n",
       "    <tr>\n",
       "      <th>1</th>\n",
       "      <td>25</td>\n",
       "      <td>m</td>\n",
       "    </tr>\n",
       "    <tr>\n",
       "      <th>2</th>\n",
       "      <td>25</td>\n",
       "      <td>c</td>\n",
       "    </tr>\n",
       "    <tr>\n",
       "      <th>3</th>\n",
       "      <td>1</td>\n",
       "      <td>m</td>\n",
       "    </tr>\n",
       "  </tbody>\n",
       "</table>\n",
       "</div>"
      ],
      "text/plain": [
       "   id letter\n",
       "0   1      a\n",
       "1  25      m\n",
       "2  25      c\n",
       "3   1      m"
      ]
     },
     "execution_count": 79,
     "metadata": {},
     "output_type": "execute_result"
    }
   ],
   "source": [
    "for i, row in df_a.iterrows():\n",
    "    df_a.loc[[1,2], \"id\"] += 1\n",
    "df_a"
   ]
  },
  {
   "cell_type": "code",
   "execution_count": 73,
   "id": "4bc41d7b-a61e-47b2-a115-4080cf1b2d66",
   "metadata": {},
   "outputs": [
    {
     "data": {
      "text/plain": [
       "~F"
      ]
     },
     "execution_count": 73,
     "metadata": {},
     "output_type": "execute_result"
    }
   ],
   "source": [
    "pd._typing.F"
   ]
  },
  {
   "cell_type": "code",
   "execution_count": 135,
   "id": "4efb6301-bc77-4e9a-8cdb-e6362decb46d",
   "metadata": {},
   "outputs": [
    {
     "data": {
      "text/plain": [
       "'2023-03-29-12:46:19'"
      ]
     },
     "execution_count": 135,
     "metadata": {},
     "output_type": "execute_result"
    }
   ],
   "source": [
    "datetime.datetime.now().strftime(\"%Y-%m-%d-%H:%M:%S\")"
   ]
  },
  {
   "cell_type": "code",
   "execution_count": 186,
   "id": "9985e6d8-1310-43c0-a982-80097952c0b0",
   "metadata": {},
   "outputs": [],
   "source": [
    "dict_a = {0: 0, 1: 11, 2: 22, 3: 33}\n",
    "dict_b = {1: 101, 2: 202, 3: 303, 4: 404}\n",
    "\n",
    "df_a = pd.DataFrame(np.array([list(dict_a.keys()), (list(dict_a.values()))]).T, columns = [\"time\", \"val_a\"])\n",
    "df_b = pd.DataFrame(np.array([list(dict_b.keys()), (list(dict_b.values()))]).T, columns = [\"time\", \"val_b\"])"
   ]
  },
  {
   "cell_type": "code",
   "execution_count": 187,
   "id": "f749c941-f7d4-4e7f-8219-d5ec70766424",
   "metadata": {},
   "outputs": [
    {
     "data": {
      "text/html": [
       "<div>\n",
       "<style scoped>\n",
       "    .dataframe tbody tr th:only-of-type {\n",
       "        vertical-align: middle;\n",
       "    }\n",
       "\n",
       "    .dataframe tbody tr th {\n",
       "        vertical-align: top;\n",
       "    }\n",
       "\n",
       "    .dataframe thead th {\n",
       "        text-align: right;\n",
       "    }\n",
       "</style>\n",
       "<table border=\"1\" class=\"dataframe\">\n",
       "  <thead>\n",
       "    <tr style=\"text-align: right;\">\n",
       "      <th></th>\n",
       "      <th>time</th>\n",
       "      <th>val_a</th>\n",
       "    </tr>\n",
       "  </thead>\n",
       "  <tbody>\n",
       "    <tr>\n",
       "      <th>0</th>\n",
       "      <td>0</td>\n",
       "      <td>0</td>\n",
       "    </tr>\n",
       "    <tr>\n",
       "      <th>1</th>\n",
       "      <td>1</td>\n",
       "      <td>11</td>\n",
       "    </tr>\n",
       "    <tr>\n",
       "      <th>2</th>\n",
       "      <td>2</td>\n",
       "      <td>22</td>\n",
       "    </tr>\n",
       "    <tr>\n",
       "      <th>3</th>\n",
       "      <td>3</td>\n",
       "      <td>33</td>\n",
       "    </tr>\n",
       "  </tbody>\n",
       "</table>\n",
       "</div>"
      ],
      "text/plain": [
       "   time  val_a\n",
       "0     0      0\n",
       "1     1     11\n",
       "2     2     22\n",
       "3     3     33"
      ]
     },
     "execution_count": 187,
     "metadata": {},
     "output_type": "execute_result"
    }
   ],
   "source": [
    "df_a"
   ]
  },
  {
   "cell_type": "code",
   "execution_count": 195,
   "id": "316d8b79-d2dc-4b90-9e93-6bb8d50eecc8",
   "metadata": {},
   "outputs": [
    {
     "data": {
      "text/html": [
       "<div>\n",
       "<style scoped>\n",
       "    .dataframe tbody tr th:only-of-type {\n",
       "        vertical-align: middle;\n",
       "    }\n",
       "\n",
       "    .dataframe tbody tr th {\n",
       "        vertical-align: top;\n",
       "    }\n",
       "\n",
       "    .dataframe thead th {\n",
       "        text-align: right;\n",
       "    }\n",
       "</style>\n",
       "<table border=\"1\" class=\"dataframe\">\n",
       "  <thead>\n",
       "    <tr style=\"text-align: right;\">\n",
       "      <th></th>\n",
       "      <th>time</th>\n",
       "      <th>val_a</th>\n",
       "      <th>val_b</th>\n",
       "    </tr>\n",
       "  </thead>\n",
       "  <tbody>\n",
       "    <tr>\n",
       "      <th>0</th>\n",
       "      <td>0</td>\n",
       "      <td>0.0</td>\n",
       "      <td>0.0</td>\n",
       "    </tr>\n",
       "    <tr>\n",
       "      <th>1</th>\n",
       "      <td>1</td>\n",
       "      <td>11.0</td>\n",
       "      <td>101.0</td>\n",
       "    </tr>\n",
       "    <tr>\n",
       "      <th>2</th>\n",
       "      <td>2</td>\n",
       "      <td>22.0</td>\n",
       "      <td>202.0</td>\n",
       "    </tr>\n",
       "    <tr>\n",
       "      <th>3</th>\n",
       "      <td>3</td>\n",
       "      <td>33.0</td>\n",
       "      <td>303.0</td>\n",
       "    </tr>\n",
       "    <tr>\n",
       "      <th>4</th>\n",
       "      <td>4</td>\n",
       "      <td>0.0</td>\n",
       "      <td>404.0</td>\n",
       "    </tr>\n",
       "  </tbody>\n",
       "</table>\n",
       "</div>"
      ],
      "text/plain": [
       "   time  val_a  val_b\n",
       "0     0    0.0    0.0\n",
       "1     1   11.0  101.0\n",
       "2     2   22.0  202.0\n",
       "3     3   33.0  303.0\n",
       "4     4    0.0  404.0"
      ]
     },
     "execution_count": 195,
     "metadata": {},
     "output_type": "execute_result"
    }
   ],
   "source": [
    "df_res = pd.merge(df_a, df_b, on = [\"time\"], how= \"outer\")\n",
    "df_res = df_res.fillna(0)\n",
    "df_res"
   ]
  },
  {
   "cell_type": "code",
   "execution_count": 197,
   "id": "106d03f9-2bbe-4766-b341-0a731530bdf8",
   "metadata": {},
   "outputs": [
    {
     "data": {
      "text/html": [
       "<div>\n",
       "<style scoped>\n",
       "    .dataframe tbody tr th:only-of-type {\n",
       "        vertical-align: middle;\n",
       "    }\n",
       "\n",
       "    .dataframe tbody tr th {\n",
       "        vertical-align: top;\n",
       "    }\n",
       "\n",
       "    .dataframe thead th {\n",
       "        text-align: right;\n",
       "    }\n",
       "</style>\n",
       "<table border=\"1\" class=\"dataframe\">\n",
       "  <thead>\n",
       "    <tr style=\"text-align: right;\">\n",
       "      <th></th>\n",
       "      <th>A</th>\n",
       "      <th>B</th>\n",
       "      <th>C</th>\n",
       "    </tr>\n",
       "  </thead>\n",
       "  <tbody>\n",
       "    <tr>\n",
       "      <th>0</th>\n",
       "      <td>1</td>\n",
       "      <td>11</td>\n",
       "      <td>21</td>\n",
       "    </tr>\n",
       "    <tr>\n",
       "      <th>1</th>\n",
       "      <td>2</td>\n",
       "      <td>12</td>\n",
       "      <td>22</td>\n",
       "    </tr>\n",
       "    <tr>\n",
       "      <th>2</th>\n",
       "      <td>3</td>\n",
       "      <td>13</td>\n",
       "      <td>23</td>\n",
       "    </tr>\n",
       "  </tbody>\n",
       "</table>\n",
       "</div>"
      ],
      "text/plain": [
       "   A   B   C\n",
       "0  1  11  21\n",
       "1  2  12  22\n",
       "2  3  13  23"
      ]
     },
     "execution_count": 197,
     "metadata": {},
     "output_type": "execute_result"
    }
   ],
   "source": [
    "df_res = pd.DataFrame([[1, 11, 21], [2, 12, 22], [3, 13, 23]], columns = [\"A\", \"B\", \"C\"] )\n",
    "df_res"
   ]
  },
  {
   "cell_type": "code",
   "execution_count": 201,
   "id": "0f4f0184-d6d6-4b8e-bc0c-2bfcab570462",
   "metadata": {},
   "outputs": [
    {
     "data": {
      "text/plain": [
       "array([ True,  True,  True])"
      ]
     },
     "execution_count": 201,
     "metadata": {},
     "output_type": "execute_result"
    }
   ],
   "source": [
    "B_list = [11, 12, 13]\n",
    "np.isclose(df_res[\"B\"], B_list)"
   ]
  },
  {
   "cell_type": "code",
   "execution_count": 203,
   "id": "37e3d5a3-1e27-4c71-86f5-29b99ed13ca0",
   "metadata": {},
   "outputs": [
    {
     "data": {
      "text/plain": [
       "array([0, 1, 2, 3, 4, 5, 6, 7, 8, 9])"
      ]
     },
     "execution_count": 203,
     "metadata": {},
     "output_type": "execute_result"
    }
   ],
   "source": [
    "np.arange(0, 10)"
   ]
  },
  {
   "cell_type": "code",
   "execution_count": null,
   "id": "d3cf388c-d1a6-4881-87f5-fdc8c688b8a3",
   "metadata": {},
   "outputs": [],
   "source": []
  }
 ],
 "metadata": {
  "kernelspec": {
   "display_name": "env_marlvr",
   "language": "python",
   "name": "env_marlvr"
  },
  "language_info": {
   "codemirror_mode": {
    "name": "ipython",
    "version": 3
   },
   "file_extension": ".py",
   "mimetype": "text/x-python",
   "name": "python",
   "nbconvert_exporter": "python",
   "pygments_lexer": "ipython3",
   "version": "3.8.10"
  }
 },
 "nbformat": 4,
 "nbformat_minor": 5
}

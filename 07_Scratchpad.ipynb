{
 "cells": [
  {
   "cell_type": "code",
   "execution_count": 77,
   "metadata": {},
   "outputs": [],
   "source": [
    "import pandas as pd\n",
    "import numpy as np\n",
    "from EvGym import config\n",
    "import cvxpy as cp\n",
    "import sys\n"
   ]
  },
  {
   "cell_type": "code",
   "execution_count": 78,
   "metadata": {},
   "outputs": [
    {
     "data": {
      "text/html": [
       "<div>\n",
       "<style scoped>\n",
       "    .dataframe tbody tr th:only-of-type {\n",
       "        vertical-align: middle;\n",
       "    }\n",
       "\n",
       "    .dataframe tbody tr th {\n",
       "        vertical-align: top;\n",
       "    }\n",
       "\n",
       "    .dataframe thead th {\n",
       "        text-align: right;\n",
       "    }\n",
       "</style>\n",
       "<table border=\"1\" class=\"dataframe\">\n",
       "  <thead>\n",
       "    <tr style=\"text-align: right;\">\n",
       "      <th></th>\n",
       "      <th>x</th>\n",
       "      <th>y</th>\n",
       "    </tr>\n",
       "  </thead>\n",
       "  <tbody>\n",
       "    <tr>\n",
       "      <th>0</th>\n",
       "      <td>50</td>\n",
       "      <td>0.560872</td>\n",
       "    </tr>\n",
       "    <tr>\n",
       "      <th>1</th>\n",
       "      <td>51</td>\n",
       "      <td>0.991841</td>\n",
       "    </tr>\n",
       "    <tr>\n",
       "      <th>2</th>\n",
       "      <td>52</td>\n",
       "      <td>0.531892</td>\n",
       "    </tr>\n",
       "    <tr>\n",
       "      <th>3</th>\n",
       "      <td>53</td>\n",
       "      <td>0.501677</td>\n",
       "    </tr>\n",
       "    <tr>\n",
       "      <th>4</th>\n",
       "      <td>54</td>\n",
       "      <td>0.893476</td>\n",
       "    </tr>\n",
       "  </tbody>\n",
       "</table>\n",
       "</div>"
      ],
      "text/plain": [
       "    x         y\n",
       "0  50  0.560872\n",
       "1  51  0.991841\n",
       "2  52  0.531892\n",
       "3  53  0.501677\n",
       "4  54  0.893476"
      ]
     },
     "execution_count": 78,
     "metadata": {},
     "output_type": "execute_result"
    }
   ],
   "source": [
    "x = np.arange(10_000) + 50\n",
    "y = np.random.rand(10_000)\n",
    "\n",
    "df_tbl = pd.DataFrame({\"x\": x, \"y\": y})\n",
    "df_tbl.head()"
   ]
  },
  {
   "cell_type": "code",
   "execution_count": 79,
   "metadata": {},
   "outputs": [
    {
     "data": {
      "text/html": [
       "<div>\n",
       "<style scoped>\n",
       "    .dataframe tbody tr th:only-of-type {\n",
       "        vertical-align: middle;\n",
       "    }\n",
       "\n",
       "    .dataframe tbody tr th {\n",
       "        vertical-align: top;\n",
       "    }\n",
       "\n",
       "    .dataframe thead th {\n",
       "        text-align: right;\n",
       "    }\n",
       "</style>\n",
       "<table border=\"1\" class=\"dataframe\">\n",
       "  <thead>\n",
       "    <tr style=\"text-align: right;\">\n",
       "      <th></th>\n",
       "      <th>y</th>\n",
       "    </tr>\n",
       "    <tr>\n",
       "      <th>x</th>\n",
       "      <th></th>\n",
       "    </tr>\n",
       "  </thead>\n",
       "  <tbody>\n",
       "    <tr>\n",
       "      <th>50</th>\n",
       "      <td>0.560872</td>\n",
       "    </tr>\n",
       "    <tr>\n",
       "      <th>51</th>\n",
       "      <td>0.991841</td>\n",
       "    </tr>\n",
       "    <tr>\n",
       "      <th>52</th>\n",
       "      <td>0.531892</td>\n",
       "    </tr>\n",
       "    <tr>\n",
       "      <th>53</th>\n",
       "      <td>0.501677</td>\n",
       "    </tr>\n",
       "    <tr>\n",
       "      <th>54</th>\n",
       "      <td>0.893476</td>\n",
       "    </tr>\n",
       "  </tbody>\n",
       "</table>\n",
       "</div>"
      ],
      "text/plain": [
       "           y\n",
       "x           \n",
       "50  0.560872\n",
       "51  0.991841\n",
       "52  0.531892\n",
       "53  0.501677\n",
       "54  0.893476"
      ]
     },
     "execution_count": 79,
     "metadata": {},
     "output_type": "execute_result"
    }
   ],
   "source": [
    "df_ibl = df_tbl.copy()\n",
    "df_ibl = df_ibl.set_index(\"x\")\n",
    "df_ibl.head()"
   ]
  },
  {
   "cell_type": "code",
   "execution_count": 80,
   "metadata": {},
   "outputs": [],
   "source": [
    "for i in x:\n",
    "    row = df_tbl[df_tbl[\"x\"] == i].iloc[0]\n"
   ]
  },
  {
   "cell_type": "code",
   "execution_count": 81,
   "metadata": {},
   "outputs": [],
   "source": [
    "for i in x:\n",
    "    row = df_ibl.loc[i]"
   ]
  },
  {
   "cell_type": "code",
   "execution_count": 82,
   "metadata": {},
   "outputs": [
    {
     "data": {
      "text/html": [
       "<div>\n",
       "<style scoped>\n",
       "    .dataframe tbody tr th:only-of-type {\n",
       "        vertical-align: middle;\n",
       "    }\n",
       "\n",
       "    .dataframe tbody tr th {\n",
       "        vertical-align: top;\n",
       "    }\n",
       "\n",
       "    .dataframe thead th {\n",
       "        text-align: right;\n",
       "    }\n",
       "</style>\n",
       "<table border=\"1\" class=\"dataframe\">\n",
       "  <thead>\n",
       "    <tr style=\"text-align: right;\">\n",
       "      <th></th>\n",
       "      <th>date</th>\n",
       "      <th>price_da</th>\n",
       "      <th>price_im</th>\n",
       "    </tr>\n",
       "    <tr>\n",
       "      <th>ts</th>\n",
       "      <th></th>\n",
       "      <th></th>\n",
       "      <th></th>\n",
       "    </tr>\n",
       "  </thead>\n",
       "  <tbody>\n",
       "    <tr>\n",
       "      <th>166560.0</th>\n",
       "      <td>2019-01-01 00:00:00</td>\n",
       "      <td>0</td>\n",
       "      <td>0.04801</td>\n",
       "    </tr>\n",
       "    <tr>\n",
       "      <th>166561.0</th>\n",
       "      <td>2019-01-01 01:00:00</td>\n",
       "      <td>0</td>\n",
       "      <td>0.03903</td>\n",
       "    </tr>\n",
       "    <tr>\n",
       "      <th>166562.0</th>\n",
       "      <td>2019-01-01 02:00:00</td>\n",
       "      <td>0</td>\n",
       "      <td>0.02539</td>\n",
       "    </tr>\n",
       "    <tr>\n",
       "      <th>166563.0</th>\n",
       "      <td>2019-01-01 03:00:00</td>\n",
       "      <td>0</td>\n",
       "      <td>0.03095</td>\n",
       "    </tr>\n",
       "    <tr>\n",
       "      <th>166564.0</th>\n",
       "      <td>2019-01-01 04:00:00</td>\n",
       "      <td>0</td>\n",
       "      <td>0.03885</td>\n",
       "    </tr>\n",
       "    <tr>\n",
       "      <th>166565.0</th>\n",
       "      <td>2019-01-01 05:00:00</td>\n",
       "      <td>0</td>\n",
       "      <td>0.02220</td>\n",
       "    </tr>\n",
       "    <tr>\n",
       "      <th>166566.0</th>\n",
       "      <td>2019-01-01 06:00:00</td>\n",
       "      <td>0</td>\n",
       "      <td>0.01985</td>\n",
       "    </tr>\n",
       "    <tr>\n",
       "      <th>166567.0</th>\n",
       "      <td>2019-01-01 07:00:00</td>\n",
       "      <td>0</td>\n",
       "      <td>0.03532</td>\n",
       "    </tr>\n",
       "    <tr>\n",
       "      <th>166568.0</th>\n",
       "      <td>2019-01-01 08:00:00</td>\n",
       "      <td>0</td>\n",
       "      <td>0.03626</td>\n",
       "    </tr>\n",
       "    <tr>\n",
       "      <th>166569.0</th>\n",
       "      <td>2019-01-01 09:00:00</td>\n",
       "      <td>0</td>\n",
       "      <td>0.01577</td>\n",
       "    </tr>\n",
       "    <tr>\n",
       "      <th>166570.0</th>\n",
       "      <td>2019-01-01 10:00:00</td>\n",
       "      <td>0</td>\n",
       "      <td>0.15702</td>\n",
       "    </tr>\n",
       "    <tr>\n",
       "      <th>166571.0</th>\n",
       "      <td>2019-01-01 11:00:00</td>\n",
       "      <td>0</td>\n",
       "      <td>0.16760</td>\n",
       "    </tr>\n",
       "    <tr>\n",
       "      <th>166572.0</th>\n",
       "      <td>2019-01-01 12:00:00</td>\n",
       "      <td>0</td>\n",
       "      <td>0.11002</td>\n",
       "    </tr>\n",
       "    <tr>\n",
       "      <th>166573.0</th>\n",
       "      <td>2019-01-01 13:00:00</td>\n",
       "      <td>0</td>\n",
       "      <td>0.05706</td>\n",
       "    </tr>\n",
       "    <tr>\n",
       "      <th>166574.0</th>\n",
       "      <td>2019-01-01 14:00:00</td>\n",
       "      <td>0</td>\n",
       "      <td>0.04130</td>\n",
       "    </tr>\n",
       "    <tr>\n",
       "      <th>166575.0</th>\n",
       "      <td>2019-01-01 15:00:00</td>\n",
       "      <td>0</td>\n",
       "      <td>0.04003</td>\n",
       "    </tr>\n",
       "    <tr>\n",
       "      <th>166576.0</th>\n",
       "      <td>2019-01-01 16:00:00</td>\n",
       "      <td>0</td>\n",
       "      <td>0.04067</td>\n",
       "    </tr>\n",
       "    <tr>\n",
       "      <th>166577.0</th>\n",
       "      <td>2019-01-01 17:00:00</td>\n",
       "      <td>0</td>\n",
       "      <td>0.04081</td>\n",
       "    </tr>\n",
       "    <tr>\n",
       "      <th>166578.0</th>\n",
       "      <td>2019-01-01 18:00:00</td>\n",
       "      <td>0</td>\n",
       "      <td>0.04097</td>\n",
       "    </tr>\n",
       "    <tr>\n",
       "      <th>166579.0</th>\n",
       "      <td>2019-01-01 19:00:00</td>\n",
       "      <td>0</td>\n",
       "      <td>0.04497</td>\n",
       "    </tr>\n",
       "    <tr>\n",
       "      <th>166580.0</th>\n",
       "      <td>2019-01-01 20:00:00</td>\n",
       "      <td>0</td>\n",
       "      <td>0.01430</td>\n",
       "    </tr>\n",
       "    <tr>\n",
       "      <th>166581.0</th>\n",
       "      <td>2019-01-01 21:00:00</td>\n",
       "      <td>0</td>\n",
       "      <td>0.04659</td>\n",
       "    </tr>\n",
       "    <tr>\n",
       "      <th>166582.0</th>\n",
       "      <td>2019-01-01 22:00:00</td>\n",
       "      <td>0</td>\n",
       "      <td>0.03866</td>\n",
       "    </tr>\n",
       "    <tr>\n",
       "      <th>166583.0</th>\n",
       "      <td>2019-01-01 23:00:00</td>\n",
       "      <td>0</td>\n",
       "      <td>0.02614</td>\n",
       "    </tr>\n",
       "    <tr>\n",
       "      <th>166584.0</th>\n",
       "      <td>2019-01-02 00:00:00</td>\n",
       "      <td>0</td>\n",
       "      <td>0.01083</td>\n",
       "    </tr>\n",
       "    <tr>\n",
       "      <th>166585.0</th>\n",
       "      <td>2019-01-02 01:00:00</td>\n",
       "      <td>0</td>\n",
       "      <td>0.04078</td>\n",
       "    </tr>\n",
       "    <tr>\n",
       "      <th>166586.0</th>\n",
       "      <td>2019-01-02 02:00:00</td>\n",
       "      <td>0</td>\n",
       "      <td>0.03290</td>\n",
       "    </tr>\n",
       "    <tr>\n",
       "      <th>166587.0</th>\n",
       "      <td>2019-01-02 03:00:00</td>\n",
       "      <td>0</td>\n",
       "      <td>0.04078</td>\n",
       "    </tr>\n",
       "    <tr>\n",
       "      <th>166588.0</th>\n",
       "      <td>2019-01-02 04:00:00</td>\n",
       "      <td>0</td>\n",
       "      <td>0.03334</td>\n",
       "    </tr>\n",
       "    <tr>\n",
       "      <th>166589.0</th>\n",
       "      <td>2019-01-02 05:00:00</td>\n",
       "      <td>0</td>\n",
       "      <td>0.04782</td>\n",
       "    </tr>\n",
       "  </tbody>\n",
       "</table>\n",
       "</div>"
      ],
      "text/plain": [
       "                         date  price_da  price_im\n",
       "ts                                               \n",
       "166560.0  2019-01-01 00:00:00         0   0.04801\n",
       "166561.0  2019-01-01 01:00:00         0   0.03903\n",
       "166562.0  2019-01-01 02:00:00         0   0.02539\n",
       "166563.0  2019-01-01 03:00:00         0   0.03095\n",
       "166564.0  2019-01-01 04:00:00         0   0.03885\n",
       "166565.0  2019-01-01 05:00:00         0   0.02220\n",
       "166566.0  2019-01-01 06:00:00         0   0.01985\n",
       "166567.0  2019-01-01 07:00:00         0   0.03532\n",
       "166568.0  2019-01-01 08:00:00         0   0.03626\n",
       "166569.0  2019-01-01 09:00:00         0   0.01577\n",
       "166570.0  2019-01-01 10:00:00         0   0.15702\n",
       "166571.0  2019-01-01 11:00:00         0   0.16760\n",
       "166572.0  2019-01-01 12:00:00         0   0.11002\n",
       "166573.0  2019-01-01 13:00:00         0   0.05706\n",
       "166574.0  2019-01-01 14:00:00         0   0.04130\n",
       "166575.0  2019-01-01 15:00:00         0   0.04003\n",
       "166576.0  2019-01-01 16:00:00         0   0.04067\n",
       "166577.0  2019-01-01 17:00:00         0   0.04081\n",
       "166578.0  2019-01-01 18:00:00         0   0.04097\n",
       "166579.0  2019-01-01 19:00:00         0   0.04497\n",
       "166580.0  2019-01-01 20:00:00         0   0.01430\n",
       "166581.0  2019-01-01 21:00:00         0   0.04659\n",
       "166582.0  2019-01-01 22:00:00         0   0.03866\n",
       "166583.0  2019-01-01 23:00:00         0   0.02614\n",
       "166584.0  2019-01-02 00:00:00         0   0.01083\n",
       "166585.0  2019-01-02 01:00:00         0   0.04078\n",
       "166586.0  2019-01-02 02:00:00         0   0.03290\n",
       "166587.0  2019-01-02 03:00:00         0   0.04078\n",
       "166588.0  2019-01-02 04:00:00         0   0.03334\n",
       "166589.0  2019-01-02 05:00:00         0   0.04782"
      ]
     },
     "execution_count": 82,
     "metadata": {},
     "output_type": "execute_result"
    }
   ],
   "source": [
    "df_price = pd.read_csv(\"./data/df_price_2019.csv\")\n",
    "df_price = df_price.set_index([\"ts\"])\n",
    "df_price.head(30)"
   ]
  },
  {
   "cell_type": "code",
   "execution_count": 83,
   "metadata": {},
   "outputs": [],
   "source": [
    "idx_min = df_price.index.min().astype(int)\n",
    "idx_max = df_price.index.max().astype(int)\n",
    "\n",
    "for i in range(idx_min, idx_max + 1):\n",
    "    try:\n",
    "        row = df_price.loc[i]\n",
    "    except KeyError:\n",
    "        print(f\"KeyError: {i}\")"
   ]
  },
  {
   "cell_type": "code",
   "execution_count": 84,
   "metadata": {},
   "outputs": [
    {
     "data": {
      "text/plain": [
       "date        2019-01-10 13:00:00\n",
       "price_da                      0\n",
       "price_im                0.04367\n",
       "Name: 166789.0, dtype: object"
      ]
     },
     "execution_count": 84,
     "metadata": {},
     "output_type": "execute_result"
    }
   ],
   "source": [
    "df_price.loc[166789]"
   ]
  },
  {
   "cell_type": "code",
   "execution_count": 85,
   "metadata": {},
   "outputs": [
    {
     "data": {
      "text/html": [
       "<div>\n",
       "<style scoped>\n",
       "    .dataframe tbody tr th:only-of-type {\n",
       "        vertical-align: middle;\n",
       "    }\n",
       "\n",
       "    .dataframe tbody tr th {\n",
       "        vertical-align: top;\n",
       "    }\n",
       "\n",
       "    .dataframe thead th {\n",
       "        text-align: right;\n",
       "    }\n",
       "</style>\n",
       "<table border=\"1\" class=\"dataframe\">\n",
       "  <thead>\n",
       "    <tr style=\"text-align: right;\">\n",
       "      <th></th>\n",
       "      <th>ts_arr</th>\n",
       "    </tr>\n",
       "  </thead>\n",
       "  <tbody>\n",
       "    <tr>\n",
       "      <th>0</th>\n",
       "      <td>166560.0</td>\n",
       "    </tr>\n",
       "    <tr>\n",
       "      <th>1</th>\n",
       "      <td>166570.0</td>\n",
       "    </tr>\n",
       "    <tr>\n",
       "      <th>2</th>\n",
       "      <td>166571.0</td>\n",
       "    </tr>\n",
       "    <tr>\n",
       "      <th>3</th>\n",
       "      <td>166572.0</td>\n",
       "    </tr>\n",
       "    <tr>\n",
       "      <th>4</th>\n",
       "      <td>166572.0</td>\n",
       "    </tr>\n",
       "  </tbody>\n",
       "</table>\n",
       "</div>"
      ],
      "text/plain": [
       "     ts_arr\n",
       "0  166560.0\n",
       "1  166570.0\n",
       "2  166571.0\n",
       "3  166572.0\n",
       "4  166572.0"
      ]
     },
     "execution_count": 85,
     "metadata": {},
     "output_type": "execute_result"
    }
   ],
   "source": [
    "df_sessions = pd.read_csv(f\"{config.data_path}/df_elaad_preproc.csv\", parse_dates = [\"starttime_parking\", \"endtime_parking\"])\n",
    "df_sessions[[\"ts_arr\"]].head()\n"
   ]
  },
  {
   "cell_type": "code",
   "execution_count": 86,
   "metadata": {},
   "outputs": [
    {
     "data": {
      "text/plain": [
       "166560.0"
      ]
     },
     "execution_count": 86,
     "metadata": {},
     "output_type": "execute_result"
    }
   ],
   "source": [
    "df_sessions[\"ts_arr\"].min()"
   ]
  },
  {
   "cell_type": "code",
   "execution_count": 87,
   "metadata": {},
   "outputs": [
    {
     "name": "stdout",
     "output_type": "stream",
     "text": [
      "175317.0\n",
      "175313.0\n"
     ]
    }
   ],
   "source": [
    "print(df_sessions[\"ts_dep\"].max())\n",
    "print(df_sessions[\"ts_arr\"].max())"
   ]
  },
  {
   "cell_type": "code",
   "execution_count": 88,
   "metadata": {},
   "outputs": [
    {
     "data": {
      "text/html": [
       "<div>\n",
       "<style scoped>\n",
       "    .dataframe tbody tr th:only-of-type {\n",
       "        vertical-align: middle;\n",
       "    }\n",
       "\n",
       "    .dataframe tbody tr th {\n",
       "        vertical-align: top;\n",
       "    }\n",
       "\n",
       "    .dataframe thead th {\n",
       "        text-align: right;\n",
       "    }\n",
       "</style>\n",
       "<table border=\"1\" class=\"dataframe\">\n",
       "  <thead>\n",
       "    <tr style=\"text-align: right;\">\n",
       "      <th></th>\n",
       "      <th>session</th>\n",
       "      <th>ChargePoint</th>\n",
       "      <th>Connector</th>\n",
       "      <th>starttime_parking</th>\n",
       "      <th>endtime_parking</th>\n",
       "      <th>StartCard</th>\n",
       "      <th>connected_time_float</th>\n",
       "      <th>charged_time_float</th>\n",
       "      <th>total_energy</th>\n",
       "      <th>max_power</th>\n",
       "      <th>...</th>\n",
       "      <th>soc_arr</th>\n",
       "      <th>charged_time</th>\n",
       "      <th>connected_time</th>\n",
       "      <th>ts_arr</th>\n",
       "      <th>ts_dep</th>\n",
       "      <th>ts_soj</th>\n",
       "      <th>laxity</th>\n",
       "      <th>depart_hour</th>\n",
       "      <th>xi</th>\n",
       "      <th>laxity_float</th>\n",
       "    </tr>\n",
       "  </thead>\n",
       "  <tbody>\n",
       "    <tr>\n",
       "      <th>9995</th>\n",
       "      <td>3633983</td>\n",
       "      <td>853f3c2b6f0637daeed95f8c2fdd5dab</td>\n",
       "      <td>2</td>\n",
       "      <td>2019-12-31 16:49:00</td>\n",
       "      <td>2019-12-31 21:04:00</td>\n",
       "      <td>197601e126b5336c668d3384253ae88b9eadec7aac01d6...</td>\n",
       "      <td>4.25</td>\n",
       "      <td>3.48</td>\n",
       "      <td>38.81</td>\n",
       "      <td>18.0</td>\n",
       "      <td>...</td>\n",
       "      <td>0.50107</td>\n",
       "      <td>4.0</td>\n",
       "      <td>5.0</td>\n",
       "      <td>175312.0</td>\n",
       "      <td>175317.0</td>\n",
       "      <td>5.0</td>\n",
       "      <td>1.52</td>\n",
       "      <td>21.0</td>\n",
       "      <td>8.191128</td>\n",
       "      <td>0.77</td>\n",
       "    </tr>\n",
       "  </tbody>\n",
       "</table>\n",
       "<p>1 rows × 23 columns</p>\n",
       "</div>"
      ],
      "text/plain": [
       "      session                       ChargePoint  Connector  \\\n",
       "9995  3633983  853f3c2b6f0637daeed95f8c2fdd5dab          2   \n",
       "\n",
       "       starttime_parking     endtime_parking  \\\n",
       "9995 2019-12-31 16:49:00 2019-12-31 21:04:00   \n",
       "\n",
       "                                              StartCard  connected_time_float  \\\n",
       "9995  197601e126b5336c668d3384253ae88b9eadec7aac01d6...                  4.25   \n",
       "\n",
       "      charged_time_float  total_energy  max_power  ...  soc_arr  charged_time  \\\n",
       "9995                3.48         38.81       18.0  ...  0.50107           4.0   \n",
       "\n",
       "      connected_time    ts_arr    ts_dep  ts_soj  laxity  depart_hour  \\\n",
       "9995             5.0  175312.0  175317.0     5.0    1.52         21.0   \n",
       "\n",
       "            xi  laxity_float  \n",
       "9995  8.191128          0.77  \n",
       "\n",
       "[1 rows x 23 columns]"
      ]
     },
     "execution_count": 88,
     "metadata": {},
     "output_type": "execute_result"
    }
   ],
   "source": [
    "ts_dep_max = df_sessions[\"ts_dep\"].max()\n",
    "df_max_dep = df_sessions[df_sessions[\"ts_dep\"] == ts_dep_max]\n",
    "df_max_dep"
   ]
  },
  {
   "cell_type": "code",
   "execution_count": 89,
   "metadata": {},
   "outputs": [],
   "source": [
    "# KeyError: 168699.0"
   ]
  },
  {
   "cell_type": "code",
   "execution_count": 90,
   "metadata": {},
   "outputs": [
    {
     "name": "stdout",
     "output_type": "stream",
     "text": [
      "<class 'pandas.core.frame.DataFrame'>\n",
      "Float64Index: 8760 entries, 166560.0 to 175319.0\n",
      "Data columns (total 3 columns):\n",
      " #   Column    Non-Null Count  Dtype  \n",
      "---  ------    --------------  -----  \n",
      " 0   date      8760 non-null   object \n",
      " 1   price_da  8760 non-null   int64  \n",
      " 2   price_im  8760 non-null   float64\n",
      "dtypes: float64(1), int64(1), object(1)\n",
      "memory usage: 593.8+ KB\n"
     ]
    }
   ],
   "source": [
    "df_price.info()"
   ]
  },
  {
   "cell_type": "code",
   "execution_count": 91,
   "metadata": {},
   "outputs": [
    {
     "data": {
      "text/html": [
       "<div>\n",
       "<style scoped>\n",
       "    .dataframe tbody tr th:only-of-type {\n",
       "        vertical-align: middle;\n",
       "    }\n",
       "\n",
       "    .dataframe tbody tr th {\n",
       "        vertical-align: top;\n",
       "    }\n",
       "\n",
       "    .dataframe thead th {\n",
       "        text-align: right;\n",
       "    }\n",
       "</style>\n",
       "<table border=\"1\" class=\"dataframe\">\n",
       "  <thead>\n",
       "    <tr style=\"text-align: right;\">\n",
       "      <th></th>\n",
       "      <th>ts</th>\n",
       "      <th>date</th>\n",
       "      <th>price_da</th>\n",
       "      <th>price_im</th>\n",
       "    </tr>\n",
       "  </thead>\n",
       "  <tbody>\n",
       "    <tr>\n",
       "      <th>2131</th>\n",
       "      <td>168691.0</td>\n",
       "      <td>2019-03-30 19:00:00</td>\n",
       "      <td>0</td>\n",
       "      <td>0.04790</td>\n",
       "    </tr>\n",
       "    <tr>\n",
       "      <th>2132</th>\n",
       "      <td>168692.0</td>\n",
       "      <td>2019-03-30 20:00:00</td>\n",
       "      <td>0</td>\n",
       "      <td>0.08622</td>\n",
       "    </tr>\n",
       "    <tr>\n",
       "      <th>2133</th>\n",
       "      <td>168693.0</td>\n",
       "      <td>2019-03-30 21:00:00</td>\n",
       "      <td>0</td>\n",
       "      <td>0.03134</td>\n",
       "    </tr>\n",
       "    <tr>\n",
       "      <th>2134</th>\n",
       "      <td>168694.0</td>\n",
       "      <td>2019-03-30 22:00:00</td>\n",
       "      <td>0</td>\n",
       "      <td>0.03385</td>\n",
       "    </tr>\n",
       "    <tr>\n",
       "      <th>2135</th>\n",
       "      <td>168695.0</td>\n",
       "      <td>2019-03-30 23:00:00</td>\n",
       "      <td>0</td>\n",
       "      <td>0.03190</td>\n",
       "    </tr>\n",
       "    <tr>\n",
       "      <th>2136</th>\n",
       "      <td>168696.0</td>\n",
       "      <td>2019-03-31 00:00:00</td>\n",
       "      <td>0</td>\n",
       "      <td>-0.03248</td>\n",
       "    </tr>\n",
       "    <tr>\n",
       "      <th>2137</th>\n",
       "      <td>168697.0</td>\n",
       "      <td>2019-03-31 01:00:00</td>\n",
       "      <td>0</td>\n",
       "      <td>0.09661</td>\n",
       "    </tr>\n",
       "    <tr>\n",
       "      <th>2138</th>\n",
       "      <td>168698.0</td>\n",
       "      <td>2019-03-31 02:00:00</td>\n",
       "      <td>0</td>\n",
       "      <td>0.03376</td>\n",
       "    </tr>\n",
       "    <tr>\n",
       "      <th>2139</th>\n",
       "      <td>168699.0</td>\n",
       "      <td>2019-03-31 03:00:00</td>\n",
       "      <td>0</td>\n",
       "      <td>0.02548</td>\n",
       "    </tr>\n",
       "    <tr>\n",
       "      <th>2140</th>\n",
       "      <td>168700.0</td>\n",
       "      <td>2019-03-31 04:00:00</td>\n",
       "      <td>0</td>\n",
       "      <td>0.02548</td>\n",
       "    </tr>\n",
       "    <tr>\n",
       "      <th>2141</th>\n",
       "      <td>168701.0</td>\n",
       "      <td>2019-03-31 05:00:00</td>\n",
       "      <td>0</td>\n",
       "      <td>0.03590</td>\n",
       "    </tr>\n",
       "    <tr>\n",
       "      <th>2142</th>\n",
       "      <td>168702.0</td>\n",
       "      <td>2019-03-31 06:00:00</td>\n",
       "      <td>0</td>\n",
       "      <td>0.03139</td>\n",
       "    </tr>\n",
       "    <tr>\n",
       "      <th>2143</th>\n",
       "      <td>168703.0</td>\n",
       "      <td>2019-03-31 07:00:00</td>\n",
       "      <td>0</td>\n",
       "      <td>0.03136</td>\n",
       "    </tr>\n",
       "    <tr>\n",
       "      <th>2144</th>\n",
       "      <td>168704.0</td>\n",
       "      <td>2019-03-31 08:00:00</td>\n",
       "      <td>0</td>\n",
       "      <td>0.02686</td>\n",
       "    </tr>\n",
       "    <tr>\n",
       "      <th>2145</th>\n",
       "      <td>168705.0</td>\n",
       "      <td>2019-03-31 09:00:00</td>\n",
       "      <td>0</td>\n",
       "      <td>0.03093</td>\n",
       "    </tr>\n",
       "    <tr>\n",
       "      <th>2146</th>\n",
       "      <td>168706.0</td>\n",
       "      <td>2019-03-31 10:00:00</td>\n",
       "      <td>0</td>\n",
       "      <td>0.03335</td>\n",
       "    </tr>\n",
       "    <tr>\n",
       "      <th>2147</th>\n",
       "      <td>168707.0</td>\n",
       "      <td>2019-03-31 11:00:00</td>\n",
       "      <td>0</td>\n",
       "      <td>0.02686</td>\n",
       "    </tr>\n",
       "    <tr>\n",
       "      <th>2148</th>\n",
       "      <td>168708.0</td>\n",
       "      <td>2019-03-31 12:00:00</td>\n",
       "      <td>0</td>\n",
       "      <td>0.02603</td>\n",
       "    </tr>\n",
       "    <tr>\n",
       "      <th>2149</th>\n",
       "      <td>168709.0</td>\n",
       "      <td>2019-03-31 13:00:00</td>\n",
       "      <td>0</td>\n",
       "      <td>-0.15003</td>\n",
       "    </tr>\n",
       "  </tbody>\n",
       "</table>\n",
       "</div>"
      ],
      "text/plain": [
       "            ts                 date  price_da  price_im\n",
       "2131  168691.0  2019-03-30 19:00:00         0   0.04790\n",
       "2132  168692.0  2019-03-30 20:00:00         0   0.08622\n",
       "2133  168693.0  2019-03-30 21:00:00         0   0.03134\n",
       "2134  168694.0  2019-03-30 22:00:00         0   0.03385\n",
       "2135  168695.0  2019-03-30 23:00:00         0   0.03190\n",
       "2136  168696.0  2019-03-31 00:00:00         0  -0.03248\n",
       "2137  168697.0  2019-03-31 01:00:00         0   0.09661\n",
       "2138  168698.0  2019-03-31 02:00:00         0   0.03376\n",
       "2139  168699.0  2019-03-31 03:00:00         0   0.02548\n",
       "2140  168700.0  2019-03-31 04:00:00         0   0.02548\n",
       "2141  168701.0  2019-03-31 05:00:00         0   0.03590\n",
       "2142  168702.0  2019-03-31 06:00:00         0   0.03139\n",
       "2143  168703.0  2019-03-31 07:00:00         0   0.03136\n",
       "2144  168704.0  2019-03-31 08:00:00         0   0.02686\n",
       "2145  168705.0  2019-03-31 09:00:00         0   0.03093\n",
       "2146  168706.0  2019-03-31 10:00:00         0   0.03335\n",
       "2147  168707.0  2019-03-31 11:00:00         0   0.02686\n",
       "2148  168708.0  2019-03-31 12:00:00         0   0.02603\n",
       "2149  168709.0  2019-03-31 13:00:00         0  -0.15003"
      ]
     },
     "execution_count": 91,
     "metadata": {},
     "output_type": "execute_result"
    }
   ],
   "source": [
    "df_price = df_price.reset_index()\n",
    "df_price[(168690 < df_price[\"ts\"]) & (df_price[\"ts\"] < 168710)].head(30)"
   ]
  },
  {
   "cell_type": "code",
   "execution_count": 92,
   "metadata": {},
   "outputs": [
    {
     "data": {
      "text/html": [
       "<div>\n",
       "<style scoped>\n",
       "    .dataframe tbody tr th:only-of-type {\n",
       "        vertical-align: middle;\n",
       "    }\n",
       "\n",
       "    .dataframe tbody tr th {\n",
       "        vertical-align: top;\n",
       "    }\n",
       "\n",
       "    .dataframe thead th {\n",
       "        text-align: right;\n",
       "    }\n",
       "</style>\n",
       "<table border=\"1\" class=\"dataframe\">\n",
       "  <thead>\n",
       "    <tr style=\"text-align: right;\">\n",
       "      <th></th>\n",
       "      <th>a</th>\n",
       "      <th>b</th>\n",
       "      <th>c</th>\n",
       "    </tr>\n",
       "  </thead>\n",
       "  <tbody>\n",
       "    <tr>\n",
       "      <th>0</th>\n",
       "      <td>1</td>\n",
       "      <td>2</td>\n",
       "      <td>3</td>\n",
       "    </tr>\n",
       "    <tr>\n",
       "      <th>1</th>\n",
       "      <td>4</td>\n",
       "      <td>5</td>\n",
       "      <td>6</td>\n",
       "    </tr>\n",
       "    <tr>\n",
       "      <th>2</th>\n",
       "      <td>7</td>\n",
       "      <td>8</td>\n",
       "      <td>9</td>\n",
       "    </tr>\n",
       "  </tbody>\n",
       "</table>\n",
       "</div>"
      ],
      "text/plain": [
       "   a  b  c\n",
       "0  1  2  3\n",
       "1  4  5  6\n",
       "2  7  8  9"
      ]
     },
     "metadata": {},
     "output_type": "display_data"
    },
    {
     "data": {
      "text/html": [
       "<div>\n",
       "<style scoped>\n",
       "    .dataframe tbody tr th:only-of-type {\n",
       "        vertical-align: middle;\n",
       "    }\n",
       "\n",
       "    .dataframe tbody tr th {\n",
       "        vertical-align: top;\n",
       "    }\n",
       "\n",
       "    .dataframe thead th {\n",
       "        text-align: right;\n",
       "    }\n",
       "</style>\n",
       "<table border=\"1\" class=\"dataframe\">\n",
       "  <thead>\n",
       "    <tr style=\"text-align: right;\">\n",
       "      <th></th>\n",
       "      <th>a</th>\n",
       "      <th>b</th>\n",
       "      <th>c</th>\n",
       "    </tr>\n",
       "  </thead>\n",
       "  <tbody>\n",
       "    <tr>\n",
       "      <th>0</th>\n",
       "      <td>1</td>\n",
       "      <td>2</td>\n",
       "      <td>4</td>\n",
       "    </tr>\n",
       "    <tr>\n",
       "      <th>1</th>\n",
       "      <td>4</td>\n",
       "      <td>5</td>\n",
       "      <td>7</td>\n",
       "    </tr>\n",
       "    <tr>\n",
       "      <th>2</th>\n",
       "      <td>7</td>\n",
       "      <td>8</td>\n",
       "      <td>9</td>\n",
       "    </tr>\n",
       "  </tbody>\n",
       "</table>\n",
       "</div>"
      ],
      "text/plain": [
       "   a  b  c\n",
       "0  1  2  4\n",
       "1  4  5  7\n",
       "2  7  8  9"
      ]
     },
     "metadata": {},
     "output_type": "display_data"
    }
   ],
   "source": [
    "\n",
    "df = pd.DataFrame(data = [[1,2,3],[4,5,6],[7,8,9]], columns = ['a','b','c'])\n",
    "display(df.head())\n",
    "df.loc[df[\"a\"] < 5, \"c\"] = df.loc[df[\"a\"] < 5][\"c\"] + 1\n",
    "display(df.head())"
   ]
  },
  {
   "cell_type": "code",
   "execution_count": 93,
   "metadata": {},
   "outputs": [
    {
     "data": {
      "text/plain": [
       "True"
      ]
     },
     "execution_count": 93,
     "metadata": {},
     "output_type": "execute_result"
    }
   ],
   "source": [
    "all(df.loc[df[\"a\"] < 5][\"c\"] > 3)\n"
   ]
  },
  {
   "cell_type": "code",
   "execution_count": 94,
   "metadata": {},
   "outputs": [
    {
     "name": "stdout",
     "output_type": "stream",
     "text": [
      "[7 9]\n",
      "<class 'numpy.ndarray'>\n"
     ]
    }
   ],
   "source": [
    "l_t0 = df.index[df[\"a\"]==4].to_list()\n",
    "if len(l_t0) == 1:\n",
    "    t0 = l_t0[0]\n",
    "    ls = df.iloc[t0:t0+2][\"c\"].values\n",
    "    print(ls)\n",
    "    print(type(ls))"
   ]
  },
  {
   "cell_type": "code",
   "execution_count": 95,
   "metadata": {},
   "outputs": [
    {
     "data": {
      "text/plain": [
       "2"
      ]
     },
     "execution_count": 95,
     "metadata": {},
     "output_type": "execute_result"
    }
   ],
   "source": [
    "df.index.max()"
   ]
  },
  {
   "cell_type": "code",
   "execution_count": 96,
   "metadata": {},
   "outputs": [
    {
     "data": {
      "text/html": [
       "<div>\n",
       "<style scoped>\n",
       "    .dataframe tbody tr th:only-of-type {\n",
       "        vertical-align: middle;\n",
       "    }\n",
       "\n",
       "    .dataframe tbody tr th {\n",
       "        vertical-align: top;\n",
       "    }\n",
       "\n",
       "    .dataframe thead th {\n",
       "        text-align: right;\n",
       "    }\n",
       "</style>\n",
       "<table border=\"1\" class=\"dataframe\">\n",
       "  <thead>\n",
       "    <tr style=\"text-align: right;\">\n",
       "      <th></th>\n",
       "      <th>a</th>\n",
       "      <th>b</th>\n",
       "      <th>c</th>\n",
       "    </tr>\n",
       "  </thead>\n",
       "  <tbody>\n",
       "    <tr>\n",
       "      <th>0</th>\n",
       "      <td>1</td>\n",
       "      <td>2</td>\n",
       "      <td>4</td>\n",
       "    </tr>\n",
       "    <tr>\n",
       "      <th>1</th>\n",
       "      <td>4</td>\n",
       "      <td>5</td>\n",
       "      <td>7</td>\n",
       "    </tr>\n",
       "  </tbody>\n",
       "</table>\n",
       "</div>"
      ],
      "text/plain": [
       "   a  b  c\n",
       "0  1  2  4\n",
       "1  4  5  7"
      ]
     },
     "execution_count": 96,
     "metadata": {},
     "output_type": "execute_result"
    }
   ],
   "source": [
    "df.iloc[0:2]"
   ]
  },
  {
   "cell_type": "code",
   "execution_count": 97,
   "metadata": {},
   "outputs": [
    {
     "name": "stdout",
     "output_type": "stream",
     "text": [
      "3\n",
      "<class 'pandas.core.series.Series'>\n",
      "0    False\n",
      "1    False\n",
      "2     True\n",
      "Name: a, dtype: bool\n",
      "1\n"
     ]
    }
   ],
   "source": [
    "i2 = df[\"a\"] == 7\n",
    "print(len(i2))\n",
    "print(type(i2))\n",
    "print(i2)\n",
    "print(i2.sum())"
   ]
  },
  {
   "cell_type": "code",
   "execution_count": 98,
   "metadata": {},
   "outputs": [
    {
     "name": "stdout",
     "output_type": "stream",
     "text": [
      "<class 'pandas.core.series.Series'>\n",
      "<class 'numpy.int64'>\n",
      "4 5 7\n",
      "<class 'pandas.core.series.Series'>\n",
      "<class 'numpy.int64'>\n",
      "7 8 9\n",
      "\n",
      "<class 'pandas.core.frame.Pandas'>\n",
      "<class 'int'>\n",
      "4 5 7\n",
      "<class 'pandas.core.frame.Pandas'>\n",
      "<class 'int'>\n",
      "7 8 9\n"
     ]
    }
   ],
   "source": [
    "filt = df[\"a\"] > 1\n",
    "for idx, row in df[filt].iterrows():\n",
    "    print(type(row))\n",
    "    print(type(row.a))\n",
    "    print(row[\"a\"], row.b, row.c)\n",
    "\n",
    "print()\n",
    "for row in df[filt].itertuples():\n",
    "    print(type(row))\n",
    "    print(type(row.a))\n",
    "    print(row.a, row.b, row.c)"
   ]
  },
  {
   "cell_type": "code",
   "execution_count": 99,
   "metadata": {},
   "outputs": [
    {
     "data": {
      "text/html": [
       "<div>\n",
       "<style scoped>\n",
       "    .dataframe tbody tr th:only-of-type {\n",
       "        vertical-align: middle;\n",
       "    }\n",
       "\n",
       "    .dataframe tbody tr th {\n",
       "        vertical-align: top;\n",
       "    }\n",
       "\n",
       "    .dataframe thead th {\n",
       "        text-align: right;\n",
       "    }\n",
       "</style>\n",
       "<table border=\"1\" class=\"dataframe\">\n",
       "  <thead>\n",
       "    <tr style=\"text-align: right;\">\n",
       "      <th></th>\n",
       "      <th>a</th>\n",
       "      <th>b</th>\n",
       "      <th>c</th>\n",
       "    </tr>\n",
       "  </thead>\n",
       "  <tbody>\n",
       "    <tr>\n",
       "      <th>0</th>\n",
       "      <td>1</td>\n",
       "      <td>2</td>\n",
       "      <td>4</td>\n",
       "    </tr>\n",
       "    <tr>\n",
       "      <th>1</th>\n",
       "      <td>4</td>\n",
       "      <td>5</td>\n",
       "      <td>7</td>\n",
       "    </tr>\n",
       "    <tr>\n",
       "      <th>2</th>\n",
       "      <td>7</td>\n",
       "      <td>8</td>\n",
       "      <td>9</td>\n",
       "    </tr>\n",
       "  </tbody>\n",
       "</table>\n",
       "</div>"
      ],
      "text/plain": [
       "   a  b  c\n",
       "0  1  2  4\n",
       "1  4  5  7\n",
       "2  7  8  9"
      ]
     },
     "execution_count": 99,
     "metadata": {},
     "output_type": "execute_result"
    }
   ],
   "source": [
    "df"
   ]
  },
  {
   "cell_type": "code",
   "execution_count": 100,
   "metadata": {},
   "outputs": [
    {
     "data": {
      "text/plain": [
       "7"
      ]
     },
     "execution_count": 100,
     "metadata": {},
     "output_type": "execute_result"
    }
   ],
   "source": [
    "df_big = df[df[\"a\"] > 1]\n",
    "df.loc[df_big.index].apply(lambda row: row[\"c\"] if row[\"b\"] == 5 else 0, axis = 1).sum()"
   ]
  },
  {
   "cell_type": "code",
   "execution_count": 101,
   "metadata": {},
   "outputs": [
    {
     "data": {
      "text/plain": [
       "array([[0., 0., 0.],\n",
       "       [0., 0., 0.],\n",
       "       [0., 1., 1.]])"
      ]
     },
     "execution_count": 101,
     "metadata": {},
     "output_type": "execute_result"
    }
   ],
   "source": [
    "A = np.zeros((3,3))\n",
    "A[2,1:] = 1\n",
    "A"
   ]
  },
  {
   "cell_type": "code",
   "execution_count": 102,
   "metadata": {},
   "outputs": [
    {
     "name": "stderr",
     "output_type": "stream",
     "text": [
      "/home/javier/.local/lib/python3.8/site-packages/cvxpy/interface/numpy_interface/ndarray_interface.py:47: DeprecationWarning: `np.complex` is a deprecated alias for the builtin `complex`. To silence this warning, use `complex` by itself. Doing this will not modify any behavior and is safe. If you specifically wanted the numpy scalar type, use `np.complex128` here.\n",
      "Deprecated in NumPy 1.20; for more details and guidance: https://numpy.org/devdocs/release/1.20.0-notes.html#deprecations\n",
      "  if result.dtype in [numpy.complex, numpy.float64]:\n",
      "/home/javier/.local/lib/python3.8/site-packages/cvxpy/expressions/expression.py:550: UserWarning: \n",
      "This use of ``*`` has resulted in matrix multiplication.\n",
      "Using ``*`` for matrix multiplication has been deprecated since CVXPY 1.1.\n",
      "    Use ``*`` for matrix-scalar and vector-scalar multiplication.\n",
      "    Use ``@`` for matrix-matrix and matrix-vector multiplication.\n",
      "    Use ``multiply`` for elementwise multiplication.\n",
      "\n",
      "  warnings.warn(__STAR_MATMUL_WARNING__, UserWarning)\n",
      "/home/javier/.local/lib/python3.8/site-packages/cvxpy/interface/numpy_interface/ndarray_interface.py:47: DeprecationWarning: `np.complex` is a deprecated alias for the builtin `complex`. To silence this warning, use `complex` by itself. Doing this will not modify any behavior and is safe. If you specifically wanted the numpy scalar type, use `np.complex128` here.\n",
      "Deprecated in NumPy 1.20; for more details and guidance: https://numpy.org/devdocs/release/1.20.0-notes.html#deprecations\n",
      "  if result.dtype in [numpy.complex, numpy.float64]:\n",
      "/home/javier/.local/lib/python3.8/site-packages/cvxpy/expressions/expression.py:550: UserWarning: \n",
      "This use of ``*`` has resulted in matrix multiplication.\n",
      "Using ``*`` for matrix multiplication has been deprecated since CVXPY 1.1.\n",
      "    Use ``*`` for matrix-scalar and vector-scalar multiplication.\n",
      "    Use ``@`` for matrix-matrix and matrix-vector multiplication.\n",
      "    Use ``multiply`` for elementwise multiplication.\n",
      "\n",
      "  warnings.warn(__STAR_MATMUL_WARNING__, UserWarning)\n",
      "/home/javier/.local/lib/python3.8/site-packages/cvxpy/interface/numpy_interface/ndarray_interface.py:47: DeprecationWarning: `np.complex` is a deprecated alias for the builtin `complex`. To silence this warning, use `complex` by itself. Doing this will not modify any behavior and is safe. If you specifically wanted the numpy scalar type, use `np.complex128` here.\n",
      "Deprecated in NumPy 1.20; for more details and guidance: https://numpy.org/devdocs/release/1.20.0-notes.html#deprecations\n",
      "  if result.dtype in [numpy.complex, numpy.float64]:\n"
     ]
    }
   ],
   "source": [
    "Y = cp.Variable((5,3))\n",
    "price = np.array([2,3,4])\n",
    "Y * price\n",
    "\n",
    "constraints = []\n",
    "objective_vec = []\n",
    "\n",
    "constraints += [(Y * price) == 100 ]"
   ]
  },
  {
   "cell_type": "code",
   "execution_count": 103,
   "metadata": {},
   "outputs": [
    {
     "name": "stdout",
     "output_type": "stream",
     "text": [
      "[[1.1 2.1 3.1]\n",
      " [1.2 2.2 3.2]\n",
      " [1.3 2.3 3.3]]\n",
      "[10  3  2]\n",
      "[23.5 25.  26.5]\n",
      "[[11.   6.3  6.2]\n",
      " [12.   6.6  6.4]\n",
      " [13.   6.9  6.6]]\n"
     ]
    }
   ],
   "source": [
    "A = np.array([[1.1,2.1,3.1],[1.2,2.2,3.2],[1.3,2.3,3.3]])\n",
    "print(A)\n",
    "x = np.array([10,3,2])\n",
    "print(x)\n",
    "print(A@x)\n",
    "print(A*x)"
   ]
  },
  {
   "cell_type": "code",
   "execution_count": 104,
   "metadata": {},
   "outputs": [
    {
     "data": {
      "text/plain": [
       "19.8"
      ]
     },
     "execution_count": 104,
     "metadata": {},
     "output_type": "execute_result"
    }
   ],
   "source": [
    "A.sum()"
   ]
  },
  {
   "cell_type": "code",
   "execution_count": 105,
   "metadata": {},
   "outputs": [
    {
     "name": "stderr",
     "output_type": "stream",
     "text": [
      "/home/javier/.local/lib/python3.8/site-packages/numpy/matrixlib/defmatrix.py:69: PendingDeprecationWarning: the matrix subclass is not the recommended way to represent matrices or deal with linear algebra (see https://docs.scipy.org/doc/numpy/user/numpy-for-matlab-users.html). Please adjust your code to use regular ndarray.\n",
      "  return matrix(data, dtype=dtype, copy=False)\n"
     ]
    },
    {
     "data": {
      "text/plain": [
       "matrix([[10],\n",
       "        [ 3],\n",
       "        [ 2]])"
      ]
     },
     "execution_count": 105,
     "metadata": {},
     "output_type": "execute_result"
    }
   ],
   "source": [
    "np.asmatrix(x).T"
   ]
  },
  {
   "cell_type": "code",
   "execution_count": 106,
   "metadata": {},
   "outputs": [
    {
     "name": "stdout",
     "output_type": "stream",
     "text": [
      "0.11\n"
     ]
    }
   ],
   "source": [
    "a = 1/9\n",
    "print(f\"{a:0.2f}\")\n",
    "\n"
   ]
  },
  {
   "cell_type": "code",
   "execution_count": 108,
   "metadata": {},
   "outputs": [
    {
     "data": {
      "text/plain": [
       "24"
      ]
     },
     "execution_count": 108,
     "metadata": {},
     "output_type": "execute_result"
    }
   ],
   "source": [
    "sys.getsizeof(a)"
   ]
  },
  {
   "cell_type": "code",
   "execution_count": 110,
   "metadata": {},
   "outputs": [
    {
     "name": "stdout",
     "output_type": "stream",
     "text": [
      "A=array([[1.1, 2.1, 3.1],\n",
      "       [1.2, 2.2, 3.2],\n",
      "       [1.3, 2.3, 3.3]]), size 192\n",
      "A_str='[[1.1,2.1,3.1],\\n [1.2,2.2,3.2],\\n [1.3,2.3,3.3]]', size 96\n"
     ]
    }
   ],
   "source": [
    "# array2string can decrease the size of a np array\n",
    "A_str = np.array2string(A, precision = 2, separator = \",\")\n",
    "print(f\"{A=}, size {sys.getsizeof(A)}\")\n",
    "print(f\"{A_str=}, size {sys.getsizeof(A_str)}\")"
   ]
  },
  {
   "cell_type": "code",
   "execution_count": null,
   "metadata": {},
   "outputs": [],
   "source": []
  }
 ],
 "metadata": {
  "kernelspec": {
   "display_name": "env_marlvr",
   "language": "python",
   "name": "env_marlvr"
  },
  "language_info": {
   "codemirror_mode": {
    "name": "ipython",
    "version": 3
   },
   "file_extension": ".py",
   "mimetype": "text/x-python",
   "name": "python",
   "nbconvert_exporter": "python",
   "pygments_lexer": "ipython3",
   "version": "3.8.10"
  },
  "orig_nbformat": 4
 },
 "nbformat": 4,
 "nbformat_minor": 2
}

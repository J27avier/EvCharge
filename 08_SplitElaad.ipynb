{
 "cells": [
  {
   "cell_type": "code",
   "execution_count": 14,
   "metadata": {},
   "outputs": [],
   "source": [
    "import numpy as np\n",
    "import pandas as pd\n",
    "import datetime\n",
    "from EvGym import config\n",
    "\n",
    "save = False"
   ]
  },
  {
   "cell_type": "code",
   "execution_count": 10,
   "metadata": {},
   "outputs": [],
   "source": [
    "df_elaad_preproc = pd.read_csv(config.data_path + 'df_elaad_preproc.csv', parse_dates = [\"starttime_parking\", \"endtime_parking\"])"
   ]
  },
  {
   "cell_type": "code",
   "execution_count": 11,
   "metadata": {},
   "outputs": [
    {
     "name": "stdout",
     "output_type": "stream",
     "text": [
      "jan: 827; from 166560.0 to 167341.0\n",
      "feb: 750; from 167309.0 to 167985.0\n",
      "mar: 817; from 167981.0 to 168759.0\n",
      "apr: 852; from 168723.0 to 169460.0\n",
      "may: 773; from 169445.0 to 170196.0\n",
      "jun: 745; from 170192.0 to 170914.0\n",
      "jul: 724; from 170909.0 to 171646.0\n",
      "aug: 567; from 171778.0 to 172406.0\n",
      "sep: 806; from 172398.0 to 173119.0\n",
      "oct: 960; from 173117.0 to 173869.0\n",
      "nov: 1023; from 173861.0 to 174592.0\n",
      "dec: 1153; from 174581.0 to 175317.0\n"
     ]
    }
   ],
   "source": [
    "# Starttime parking in January\n",
    "months = [\"jan\", \"feb\", \"mar\", \"apr\", \"may\", \"jun\", \"jul\", \"aug\", \"sep\", \"oct\", \"nov\", \"dec\"]\n",
    "\n",
    "for i in range(12):\n",
    "    df_month = df_elaad_preproc[df_elaad_preproc.starttime_parking.dt.month == i+1].copy()\n",
    "    print(f\"{months[i]}: {len(df_month)}; from {df_month.ts_arr.min()} to {df_month.ts_dep.max()}\")\n",
    "    if save:\n",
    "        df_month.to_csv(config.data_path + f\"df_elaad_preproc_{months[i]}.csv\", index = False)"
   ]
  },
  {
   "cell_type": "code",
   "execution_count": 13,
   "metadata": {},
   "outputs": [
    {
     "name": "stdout",
     "output_type": "stream",
     "text": [
      "janfeb: 1577; from 166560.0 to 167985.0\n",
      "janfebmar: 2394; from 166560.0 to 168759.0\n"
     ]
    }
   ],
   "source": [
    "# Jan, Feb\n",
    "df_janfeb = df_elaad_preproc[(df_elaad_preproc.starttime_parking.dt.month == 1) | (df_elaad_preproc.starttime_parking.dt.month == 2)].copy()\n",
    "print(f\"janfeb: {len(df_janfeb)}; from {df_janfeb.ts_arr.min()} to {df_janfeb.ts_dep.max()}\")\n",
    "if save:\n",
    "    df_janfeb.to_csv(config.data_path + \"df_elaad_preproc_janfeb.csv\", index = False)\n",
    "\n",
    "# Jan, Feb, Mar\n",
    "df_janfebmar = df_elaad_preproc[(df_elaad_preproc.starttime_parking.dt.month == 1) | (df_elaad_preproc.starttime_parking.dt.month == 2) | (df_elaad_preproc.starttime_parking.dt.month == 3)].copy()\n",
    "print(f\"janfebmar: {len(df_janfebmar)}; from {df_janfebmar.ts_arr.min()} to {df_janfebmar.ts_dep.max()}\")\n",
    "if save:\n",
    "    df_janfebmar.to_csv(config.data_path + \"df_elaad_preproc_janfebmar.csv\", index = False)\n"
   ]
  },
  {
   "cell_type": "code",
   "execution_count": null,
   "metadata": {},
   "outputs": [],
   "source": []
  }
 ],
 "metadata": {
  "kernelspec": {
   "display_name": "env_marlvr",
   "language": "python",
   "name": "env_marlvr"
  },
  "language_info": {
   "codemirror_mode": {
    "name": "ipython",
    "version": 3
   },
   "file_extension": ".py",
   "mimetype": "text/x-python",
   "name": "python",
   "nbconvert_exporter": "python",
   "pygments_lexer": "ipython3",
   "version": "3.8.10"
  },
  "orig_nbformat": 4
 },
 "nbformat": 4,
 "nbformat_minor": 2
}

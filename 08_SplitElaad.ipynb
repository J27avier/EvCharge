{
 "cells": [
  {
   "cell_type": "code",
   "execution_count": 1,
   "metadata": {},
   "outputs": [],
   "source": [
    "import numpy as np\n",
    "import pandas as pd\n",
    "import datetime\n",
    "from EvGym import config\n",
    "\n",
    "save = True"
   ]
  },
  {
   "cell_type": "code",
   "execution_count": 2,
   "metadata": {},
   "outputs": [],
   "source": [
    "df_elaad_preproc = pd.read_csv(config.data_path + 'df_elaad_preproc.csv', parse_dates = [\"starttime_parking\", \"endtime_parking\"])"
   ]
  },
  {
   "cell_type": "code",
   "execution_count": 4,
   "metadata": {},
   "outputs": [
    {
     "name": "stdout",
     "output_type": "stream",
     "text": [
      "jan: 827\n",
      "feb: 750\n",
      "mar: 817\n",
      "apr: 852\n",
      "may: 773\n",
      "jun: 745\n",
      "jul: 724\n",
      "aug: 567\n",
      "sep: 806\n",
      "oct: 960\n",
      "nov: 1023\n",
      "dec: 1153\n"
     ]
    }
   ],
   "source": [
    "# Starttime parking in January\n",
    "months = [\"jan\", \"feb\", \"mar\", \"apr\", \"may\", \"jun\", \"jul\", \"aug\", \"sep\", \"oct\", \"nov\", \"dec\"]\n",
    "\n",
    "for i in range(12):\n",
    "    df_month = df_elaad_preproc[df_elaad_preproc.starttime_parking.dt.month == i+1].copy()\n",
    "    print(f\"{months[i]}: {len(df_month)}\")\n",
    "    if save:\n",
    "        df_month.to_csv(config.data_path + f\"df_elaad_preproc_{months[i]}.csv\", index = False)"
   ]
  },
  {
   "cell_type": "code",
   "execution_count": null,
   "metadata": {},
   "outputs": [],
   "source": []
  }
 ],
 "metadata": {
  "kernelspec": {
   "display_name": "env_marlvr",
   "language": "python",
   "name": "env_marlvr"
  },
  "language_info": {
   "codemirror_mode": {
    "name": "ipython",
    "version": 3
   },
   "file_extension": ".py",
   "mimetype": "text/x-python",
   "name": "python",
   "nbconvert_exporter": "python",
   "pygments_lexer": "ipython3",
   "version": "3.8.10"
  },
  "orig_nbformat": 4
 },
 "nbformat": 4,
 "nbformat_minor": 2
}

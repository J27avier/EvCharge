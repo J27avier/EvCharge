{
 "cells": [
  {
   "cell_type": "code",
   "execution_count": 1,
   "metadata": {},
   "outputs": [],
   "source": [
    "import numpy as np"
   ]
  },
  {
   "cell_type": "code",
   "execution_count": 18,
   "metadata": {},
   "outputs": [],
   "source": [
    "pred_price= [0.3903, 0.2539, 0.3095, 0.3885, 0.222 , 0.1985, 0.3532, 0.3626]\n",
    "AC= [[ 0.00046985,  0.00046985,  0.01984863,  0.02080235,  0.03143902,  0.03223516,  0.03223516, -0.        ]]\n",
    "LAX= [[ 6.        ,  5.00341706,  4.00683411,  3.1511878 ,  2.30247759,  1.53112499,  0.7655625 ,  0.        , -0.        ]]\n",
    "SOC= [[0.83525   , 0.83571045, 0.8361709 , 0.85562256, 0.87600885, 0.90681909, 0.93840955, 0.97      , 0.97      ]]\n",
    "best_cost= 0.3407937499529776"
   ]
  },
  {
   "cell_type": "code",
   "execution_count": 19,
   "metadata": {},
   "outputs": [],
   "source": [
    "#pred_price = np.array([pred_price])\n",
    "pred_price = np.array(pred_price)\n",
    "AC = np.array(AC)\n",
    "LAX = np.array(LAX)\n",
    "SOC = np.array(SOC)"
   ]
  },
  {
   "cell_type": "code",
   "execution_count": null,
   "metadata": {},
   "outputs": [],
   "source": []
  },
  {
   "cell_type": "code",
   "execution_count": 26,
   "metadata": {},
   "outputs": [
    {
     "data": {
      "text/plain": [
       "0.34079379957"
      ]
     },
     "execution_count": 26,
     "metadata": {},
     "output_type": "execute_result"
    }
   ],
   "source": [
    "np.multiply(AC.T, pred_price).sum()\n",
    "# This is not best cost"
   ]
  },
  {
   "cell_type": "code",
   "execution_count": 23,
   "metadata": {},
   "outputs": [
    {
     "name": "stdout",
     "output_type": "stream",
     "text": [
      "0.83571045\n"
     ]
    }
   ],
   "source": [
    "print(SOC[0,1])"
   ]
  },
  {
   "cell_type": "code",
   "execution_count": null,
   "metadata": {},
   "outputs": [],
   "source": []
  }
 ],
 "metadata": {
  "kernelspec": {
   "display_name": "env_marlvr",
   "language": "python",
   "name": "env_marlvr"
  },
  "language_info": {
   "codemirror_mode": {
    "name": "ipython",
    "version": 3
   },
   "file_extension": ".py",
   "mimetype": "text/x-python",
   "name": "python",
   "nbconvert_exporter": "python",
   "pygments_lexer": "ipython3",
   "version": "3.8.10"
  },
  "orig_nbformat": 4
 },
 "nbformat": 4,
 "nbformat_minor": 2
}

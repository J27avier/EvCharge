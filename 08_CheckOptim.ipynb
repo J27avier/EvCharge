{
 "cells": [
  {
   "cell_type": "markdown",
   "metadata": {},
   "source": [
    "# OLD\n",
    "Some sanity checks on the Solver"
   ]
  },
  {
   "cell_type": "code",
   "execution_count": 1,
   "metadata": {},
   "outputs": [],
   "source": [
    "import numpy as np"
   ]
  },
  {
   "cell_type": "code",
   "execution_count": 2,
   "metadata": {},
   "outputs": [],
   "source": [
    "pred_price= [0.3903, 0.2539, 0.3095, 0.3885, 0.222 , 0.1985, 0.3532, 0.3626]\n",
    "AC= [[ 7.93476396e-13,  3.33755246e-12,  8.95727936e-13,  8.66307026e-13,  7.10542736e-15,  1.37500000e-01,  0.00000000e+00, -0.00000000e+00]]\n",
    "LAX= [[ 6.,  5.,  4.,  3.,  2.,  1.,  1.,  0., -0.]]\n",
    "SOC= [[0.83525, 0.83525, 0.83525, 0.83525, 0.83525, 0.83525, 0.97   , 0.97   , 0.97   ]]\n",
    "best_cost= 0.027293749998803074\n"
   ]
  },
  {
   "cell_type": "code",
   "execution_count": 3,
   "metadata": {},
   "outputs": [],
   "source": [
    "#pred_price = np.array([pred_price])\n",
    "pred_price = np.array(pred_price)\n",
    "AC = np.array(AC)\n",
    "LAX = np.array(LAX)\n",
    "SOC = np.array(SOC)"
   ]
  },
  {
   "cell_type": "code",
   "execution_count": 4,
   "metadata": {},
   "outputs": [
    {
     "data": {
      "text/plain": [
       "0.027293750001772466"
      ]
     },
     "execution_count": 4,
     "metadata": {},
     "output_type": "execute_result"
    }
   ],
   "source": [
    "# Right answer\n",
    "np.multiply(AC, pred_price).sum()\n",
    "AC  @ np.asmatrix(pred_price).T\n",
    "np.multiply(pred_price.T, AC).sum()"
   ]
  },
  {
   "cell_type": "code",
   "execution_count": 5,
   "metadata": {},
   "outputs": [
    {
     "name": "stdout",
     "output_type": "stream",
     "text": [
      "0.83525\n"
     ]
    }
   ],
   "source": [
    "print(SOC[0,1])"
   ]
  },
  {
   "cell_type": "code",
   "execution_count": 6,
   "metadata": {},
   "outputs": [
    {
     "name": "stdout",
     "output_type": "stream",
     "text": [
      "p=0.3903, a=0.0000, SOC[0,i]=0.84, LAX[0,i]=6.00\n",
      "p=0.2539, a=0.0000, SOC[0,i]=0.84, LAX[0,i]=5.00\n",
      "p=0.3095, a=0.0000, SOC[0,i]=0.84, LAX[0,i]=4.00\n",
      "p=0.3885, a=0.0000, SOC[0,i]=0.84, LAX[0,i]=3.00\n",
      "p=0.222, a=0.0000, SOC[0,i]=0.84, LAX[0,i]=2.00\n",
      "p=0.1985, a=0.1375, SOC[0,i]=0.84, LAX[0,i]=1.00\n",
      "p=0.3532, a=0.0000, SOC[0,i]=0.97, LAX[0,i]=1.00\n",
      "p=0.3626, a=-0.0000, SOC[0,i]=0.97, LAX[0,i]=0.00\n"
     ]
    }
   ],
   "source": [
    "for i, (p, a) in enumerate(zip(pred_price, AC[0])):\n",
    "    print(f\"{p=}, {a=:0.4f}, {SOC[0,i]=:0.2f}, {LAX[0,i]=:0.2f}\")"
   ]
  },
  {
   "cell_type": "code",
   "execution_count": 7,
   "metadata": {},
   "outputs": [
    {
     "data": {
      "text/plain": [
       "0.027293750000000002"
      ]
     },
     "execution_count": 7,
     "metadata": {},
     "output_type": "execute_result"
    }
   ],
   "source": [
    "0.1375*0.1985"
   ]
  },
  {
   "cell_type": "code",
   "execution_count": 8,
   "metadata": {},
   "outputs": [
    {
     "data": {
      "text/plain": [
       "0.9400000000000001"
      ]
     },
     "execution_count": 8,
     "metadata": {},
     "output_type": "execute_result"
    }
   ],
   "source": [
    "0.66 + 0.14 + 0.14"
   ]
  },
  {
   "cell_type": "markdown",
   "metadata": {},
   "source": [
    "## Check Oracle"
   ]
  }
 ],
 "metadata": {
  "kernelspec": {
   "display_name": "env_marlvr",
   "language": "python",
   "name": "env_marlvr"
  },
  "language_info": {
   "codemirror_mode": {
    "name": "ipython",
    "version": 3
   },
   "file_extension": ".py",
   "mimetype": "text/x-python",
   "name": "python",
   "nbconvert_exporter": "python",
   "pygments_lexer": "ipython3",
   "version": "3.8.10"
  },
  "orig_nbformat": 4
 },
 "nbformat": 4,
 "nbformat_minor": 2
}

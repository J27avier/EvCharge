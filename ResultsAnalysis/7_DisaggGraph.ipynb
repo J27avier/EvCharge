{
 "cells": [
  {
   "cell_type": "code",
   "execution_count": 9,
   "metadata": {},
   "outputs": [],
   "source": [
    "import numpy as np\n",
    "import pandas as pd\n",
    "import matplotlib.pyplot as plt\n",
    "import seaborn as sns\n",
    "from utils import * "
   ]
  },
  {
   "cell_type": "code",
   "execution_count": 79,
   "metadata": {},
   "outputs": [],
   "source": [
    "df_1m_PF  = pd.read_csv(\"./../ExpLogs/summ_6month_sac_disagg_1m_PF.csv\")\n",
    "df_1m_LL  = pd.read_csv(\"./../ExpLogs/summ_6month_sac_disagg_1m_LL.csv\")\n",
    "df_1m_ML  = pd.read_csv(\"./../ExpLogs/summ_6month_sac_disagg_1m_ML.csv\")\n",
    "df_1m_LD  = pd.read_csv(\"./../ExpLogs/summ_6month_sac_disagg_1m_LD.csv\")\n",
    "df_1m_MD  = pd.read_csv(\"./../ExpLogs/summ_6month_sac_disagg_1m_MD.csv\") \n",
    "df_1m_HLL = pd.read_csv(\"./../ExpLogs/summ_6month_sac_disagg_1m_HLL.csv\")\n",
    "df_1m_P   = pd.read_csv(\"./../ExpLogs/summ_6month_sac_disagg_1m_P.csv\")  \n",
    "df_2m_PF  = pd.read_csv(\"./../ExpLogs/summ_6month_sac_disagg_2m_PF.csv\") \n",
    "df_2m_LL  = pd.read_csv(\"./../ExpLogs/summ_6month_sac_disagg_2m_LL.csv\") \n",
    "df_2m_ML  = pd.read_csv(\"./../ExpLogs/summ_6month_sac_disagg_2m_ML.csv\") \n",
    "df_2m_LD  = pd.read_csv(\"./../ExpLogs/summ_6month_sac_disagg_2m_LD.csv\") \n",
    "df_2m_MD  = pd.read_csv(\"./../ExpLogs/summ_6month_sac_disagg_2m_MD.csv\") \n",
    "df_2m_HLL = pd.read_csv(\"./../ExpLogs/summ_6month_sac_disagg_2m_HLL.csv\")\n",
    "df_2m_P   = pd.read_csv(\"./../ExpLogs/summ_6month_sac_disagg_2m_P.csv\")  \n",
    "df_1n_PF  = pd.read_csv(\"./../ExpLogs/summ_6month_sac_disagg_1n_PF.csv\") \n",
    "df_1n_LL  = pd.read_csv(\"./../ExpLogs/summ_6month_sac_disagg_1n_LL.csv\") \n",
    "df_1n_ML  = pd.read_csv(\"./../ExpLogs/summ_6month_sac_disagg_1n_ML.csv\") \n",
    "df_1n_LD  = pd.read_csv(\"./../ExpLogs/summ_6month_sac_disagg_1n_LD.csv\") \n",
    "df_1n_MD  = pd.read_csv(\"./../ExpLogs/summ_6month_sac_disagg_1n_MD.csv\") \n",
    "df_1n_HLL = pd.read_csv(\"./../ExpLogs/summ_6month_sac_disagg_1n_HLL.csv\")\n",
    "df_1n_P   = pd.read_csv(\"./../ExpLogs/summ_6month_sac_disagg_1n_P.csv\")  \n",
    "df_2n_PF  = pd.read_csv(\"./../ExpLogs/summ_6month_sac_disagg_2n_PF.csv\") \n",
    "df_2n_LL  = pd.read_csv(\"./../ExpLogs/summ_6month_sac_disagg_2n_LL.csv\") \n",
    "df_2n_ML  = pd.read_csv(\"./../ExpLogs/summ_6month_sac_disagg_2n_ML.csv\") \n",
    "df_2n_LD  = pd.read_csv(\"./../ExpLogs/summ_6month_sac_disagg_2n_LD.csv\") \n",
    "df_2n_MD  = pd.read_csv(\"./../ExpLogs/summ_6month_sac_disagg_2n_MD.csv\") \n",
    "df_2n_HLL = pd.read_csv(\"./../ExpLogs/summ_6month_sac_disagg_2n_HLL.csv\")\n",
    "df_2n_P   = pd.read_csv(\"./../ExpLogs/summ_6month_sac_disagg_2n_P.csv\")  \n",
    "df_1o_PF  = pd.read_csv(\"./../ExpLogs/summ_6month_sac_disagg_1o_PF.csv\") \n",
    "df_1o_LL  = pd.read_csv(\"./../ExpLogs/summ_6month_sac_disagg_1o_LL.csv\") \n",
    "df_1o_ML  = pd.read_csv(\"./../ExpLogs/summ_6month_sac_disagg_1o_ML.csv\") \n",
    "df_1o_LD  = pd.read_csv(\"./../ExpLogs/summ_6month_sac_disagg_1o_LD.csv\") \n",
    "df_1o_MD  = pd.read_csv(\"./../ExpLogs/summ_6month_sac_disagg_1o_MD.csv\") \n",
    "df_1o_HLL = pd.read_csv(\"./../ExpLogs/summ_6month_sac_disagg_1o_HLL.csv\")\n",
    "df_1o_P   = pd.read_csv(\"./../ExpLogs/summ_6month_sac_disagg_1o_P.csv\")  \n",
    "df_2o_PF  = pd.read_csv(\"./../ExpLogs/summ_6month_sac_disagg_2o_PF.csv\") \n",
    "df_2o_LL  = pd.read_csv(\"./../ExpLogs/summ_6month_sac_disagg_2o_LL.csv\") \n",
    "df_2o_ML  = pd.read_csv(\"./../ExpLogs/summ_6month_sac_disagg_2o_ML.csv\") \n",
    "df_2o_LD  = pd.read_csv(\"./../ExpLogs/summ_6month_sac_disagg_2o_LD.csv\") \n",
    "df_2o_MD  = pd.read_csv(\"./../ExpLogs/summ_6month_sac_disagg_2o_MD.csv\") \n",
    "df_2o_HLL = pd.read_csv(\"./../ExpLogs/summ_6month_sac_disagg_2o_HLL.csv\")\n",
    "df_2o_P   = pd.read_csv(\"./../ExpLogs/summ_6month_sac_disagg_2o_P.csv\")  \n",
    "\n",
    "#l_disagg = [\"PF\", \"LL\", \"ML\", \"LD\", \"MD\",]# \"HLL\", \"P\"]\n",
    "l_disagg = [\"LL\", \"PF\", \"LD\", \"MD\", \"ML\"] #, \"HLL\"]#, \"P\"]\n",
    "#names = [\"1m\", \"2m\", \"1n\", \"2n\"] #, \"1o\", \"2o\"]\n",
    "names = [\"2m\",] # \"1n\", \"2n\", \"1o\", \"2o\"]\n",
    "train_disagg = [\"PF\", \"LL\"]#, \"P\"]\n",
    "\n",
    "dict_df = {\"df_1m_PF\":  df_1m_PF ,\n",
    "           \"df_1m_LL\":  df_1m_LL ,\n",
    "           \"df_1m_ML\":  df_1m_ML ,\n",
    "           \"df_1m_LD\":  df_1m_LD ,\n",
    "           \"df_1m_MD\":  df_1m_MD ,\n",
    "           \"df_1m_HLL\": df_1m_HLL,\n",
    "           \"df_1m_P\":   df_1m_P  ,\n",
    "           \"df_2m_PF\":  df_2m_PF ,\n",
    "           \"df_2m_LL\":  df_2m_LL ,\n",
    "           \"df_2m_ML\":  df_2m_ML ,\n",
    "           \"df_2m_LD\":  df_2m_LD ,\n",
    "           \"df_2m_MD\":  df_2m_MD ,\n",
    "           \"df_2m_HLL\": df_2m_HLL,\n",
    "           \"df_2m_P\":   df_2m_P  ,\n",
    "           \"df_1n_PF\":  df_1n_PF ,\n",
    "           \"df_1n_LL\":  df_1n_LL ,\n",
    "           \"df_1n_ML\":  df_1n_ML ,\n",
    "           \"df_1n_LD\":  df_1n_LD ,\n",
    "           \"df_1n_MD\":  df_1n_MD ,\n",
    "           \"df_1n_HLL\": df_1n_HLL,\n",
    "           \"df_1n_P\":   df_1n_P  ,\n",
    "           \"df_2n_PF\":  df_2n_PF ,\n",
    "           \"df_2n_LL\":  df_2n_LL ,\n",
    "           \"df_2n_ML\":  df_2n_ML ,\n",
    "           \"df_2n_LD\":  df_2n_LD ,\n",
    "           \"df_2n_MD\":  df_2n_MD ,\n",
    "           \"df_2n_HLL\": df_2n_HLL,\n",
    "           \"df_2n_P\":   df_2n_P  ,\n",
    "           \"df_1o_PF\":  df_1o_PF ,\n",
    "           \"df_1o_LL\":  df_1o_LL ,\n",
    "           \"df_1o_ML\":  df_1o_ML ,\n",
    "           \"df_1o_LD\":  df_1o_LD ,\n",
    "           \"df_1o_MD\":  df_1o_MD ,\n",
    "           \"df_1o_HLL\": df_1o_HLL,\n",
    "           \"df_1o_P\":   df_1o_P  ,\n",
    "           \"df_2o_PF\":  df_2o_PF ,\n",
    "           \"df_2o_LL\":  df_2o_LL ,\n",
    "           \"df_2o_ML\":  df_2o_ML ,\n",
    "           \"df_2o_LD\":  df_2o_LD ,\n",
    "           \"df_2o_MD\":  df_2o_MD ,\n",
    "           \"df_2o_HLL\": df_2o_HLL,\n",
    "           \"df_2o_P\":   df_2o_P  ,}"
   ]
  },
  {
   "cell_type": "code",
   "execution_count": 80,
   "metadata": {},
   "outputs": [
    {
     "name": "stdout",
     "output_type": "stream",
     "text": [
      "LL 2900.4719360563117 0.0\n",
      "PF 2948.609856283815 0.0\n",
      "LD 2968.1672918728573 0.0\n",
      "MD 3213.0424592109466 0.0\n",
      "ML 3255.095264543433 0.0\n"
     ]
    }
   ],
   "source": [
    "test_disagg_mean = []\n",
    "test_disagg_yerr = []\n",
    "for  disagg in l_disagg:\n",
    "    res = []\n",
    "    for name in names:\n",
    "        res.append(dict_df[\"df_\"+name+\"_\"+disagg][\"transf\"])\n",
    "    test_disagg_mean.append(np.mean(res))\n",
    "    print(disagg, np.mean(res), np.std(res))\n",
    "    #test_disagg_yerr.append(np.max(res) - np.min(res))\n",
    "    test_disagg_yerr.append(np.std(res))\n"
   ]
  },
  {
   "cell_type": "code",
   "execution_count": 82,
   "metadata": {},
   "outputs": [
    {
     "data": {
      "image/png": "[encoded data removed]",
      "text/plain": [
       "<Figure size 720x360 with 1 Axes>"
      ]
     },
     "metadata": {
      "needs_background": "light"
     },
     "output_type": "display_data"
    }
   ],
   "source": [
    "fig1, ax1 = plt.subplots(1, 1, figsize=(10, 5))\n",
    "\n",
    "#colors = [\"red\", \"green\", \"blue\", \"\"]\n",
    "fontsize  = 16\n",
    "alpha = 0.6\n",
    "\n",
    "for i, disagg in enumerate(l_disagg):\n",
    "    ax1.bar(i, test_disagg_mean[i], yerr=test_disagg_yerr[i], edgecolor = \"black\", alpha = alpha, color = \"turquoise\", capsize = 5) #, label = f\"{disagg}\") #, color = colors[i])\n",
    "    #print(disagg, name, df[\"total\"])\n",
    "\n",
    "#for j, name in enumerate(names):\n",
    "#    for i, disagg in enumerate(l_disagg):\n",
    "#        df = dict_df[f\"df_{name}_{disagg}\"]\n",
    "#        #ax1.bar(i+0.1*j, df[\"total\"], edgecolor = \"black\", label = f\"{disagg}\")\n",
    "#        #print(disagg, name, df[\"total\"])\n",
    "#    break\n",
    "\n",
    "ax1.set_xticks(np.arange(len(l_disagg)))\n",
    "ax1.set_xticklabels(l_disagg, fontsize = fontsize)\n",
    "#ax1.legend()\n",
    "\n",
    "y_ticks = ax1.get_yticks()\n",
    "ax1.set_yticks(y_ticks)\n",
    "ax1.set_yticklabels([f\"{y:,.0f}\" for y in y_ticks], fontsize = fontsize-2)\n",
    "\n",
    "ax1.set_ylabel(\"Transfer to market (€)\", fontsize = fontsize)\n",
    "\n",
    "ax1.set_ylim([0, 3_600])\n",
    "\n",
    "fig1.savefig(\"/home/javier/Documents/Escuela/SCRG/notes-scrg/writeups/Thesis-MsC/647584cd16a82b116e63ba95/img/disagg_oneshot.pdf\", dpi = 1200, bbox_inches='tight')"
   ]
  },
  {
   "cell_type": "code",
   "execution_count": null,
   "metadata": {},
   "outputs": [],
   "source": []
  }
 ],
 "metadata": {
  "kernelspec": {
   "display_name": "env_marlvr",
   "language": "python",
   "name": "env_marlvr"
  },
  "language_info": {
   "codemirror_mode": {
    "name": "ipython",
    "version": 3
   },
   "file_extension": ".py",
   "mimetype": "text/x-python",
   "name": "python",
   "nbconvert_exporter": "python",
   "pygments_lexer": "ipython3",
   "version": "3.8.10"
  }
 },
 "nbformat": 4,
 "nbformat_minor": 2
}

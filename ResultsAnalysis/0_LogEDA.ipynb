{
 "cells": [
  {
   "cell_type": "code",
   "execution_count": 1,
   "id": "138bc48a-c748-45db-9e80-e7e8d4a5cf55",
   "metadata": {},
   "outputs": [],
   "source": [
    "import pandas as pd\n",
    "import numpy as np\n",
    "import matplotlib as plt"
   ]
  },
  {
   "cell_type": "code",
   "execution_count": 57,
   "id": "37db1a44-96a3-4a49-8c87-dc9386f15516",
   "metadata": {},
   "outputs": [],
   "source": [
    "df_log = pd.read_csv(\"../ExpLogs/2023-03-30-17:36:22_ev_world.csv\")"
   ]
  },
  {
   "cell_type": "code",
   "execution_count": 58,
   "id": "1827a042-8bb6-43f6-ab38-9916049e4a27",
   "metadata": {},
   "outputs": [
    {
     "data": {
      "text/html": [
       "<div>\n",
       "<style scoped>\n",
       "    .dataframe tbody tr th:only-of-type {\n",
       "        vertical-align: middle;\n",
       "    }\n",
       "\n",
       "    .dataframe tbody tr th {\n",
       "        vertical-align: top;\n",
       "    }\n",
       "\n",
       "    .dataframe thead th {\n",
       "        text-align: right;\n",
       "    }\n",
       "</style>\n",
       "<table border=\"1\" class=\"dataframe\">\n",
       "  <thead>\n",
       "    <tr style=\"text-align: right;\">\n",
       "      <th></th>\n",
       "      <th>ts</th>\n",
       "      <th>arr_e_req</th>\n",
       "      <th>client_bill</th>\n",
       "    </tr>\n",
       "  </thead>\n",
       "  <tbody>\n",
       "    <tr>\n",
       "      <th>count</th>\n",
       "      <td>8778.000000</td>\n",
       "      <td>8776.000000</td>\n",
       "      <td>8776.000000</td>\n",
       "    </tr>\n",
       "    <tr>\n",
       "      <th>mean</th>\n",
       "      <td>170947.500000</td>\n",
       "      <td>32.598135</td>\n",
       "      <td>4.563739</td>\n",
       "    </tr>\n",
       "    <tr>\n",
       "      <th>std</th>\n",
       "      <td>2534.134665</td>\n",
       "      <td>46.372371</td>\n",
       "      <td>6.492132</td>\n",
       "    </tr>\n",
       "    <tr>\n",
       "      <th>min</th>\n",
       "      <td>166559.000000</td>\n",
       "      <td>0.000000</td>\n",
       "      <td>0.000000</td>\n",
       "    </tr>\n",
       "    <tr>\n",
       "      <th>25%</th>\n",
       "      <td>168753.250000</td>\n",
       "      <td>0.000000</td>\n",
       "      <td>0.000000</td>\n",
       "    </tr>\n",
       "    <tr>\n",
       "      <th>50%</th>\n",
       "      <td>170947.500000</td>\n",
       "      <td>8.300600</td>\n",
       "      <td>1.162084</td>\n",
       "    </tr>\n",
       "    <tr>\n",
       "      <th>75%</th>\n",
       "      <td>173141.750000</td>\n",
       "      <td>52.606400</td>\n",
       "      <td>7.364896</td>\n",
       "    </tr>\n",
       "    <tr>\n",
       "      <th>max</th>\n",
       "      <td>175336.000000</td>\n",
       "      <td>350.134400</td>\n",
       "      <td>49.018816</td>\n",
       "    </tr>\n",
       "  </tbody>\n",
       "</table>\n",
       "</div>"
      ],
      "text/plain": [
       "                  ts    arr_e_req  client_bill\n",
       "count    8778.000000  8776.000000  8776.000000\n",
       "mean   170947.500000    32.598135     4.563739\n",
       "std      2534.134665    46.372371     6.492132\n",
       "min    166559.000000     0.000000     0.000000\n",
       "25%    168753.250000     0.000000     0.000000\n",
       "50%    170947.500000     8.300600     1.162084\n",
       "75%    173141.750000    52.606400     7.364896\n",
       "max    175336.000000   350.134400    49.018816"
      ]
     },
     "execution_count": 58,
     "metadata": {},
     "output_type": "execute_result"
    }
   ],
   "source": [
    "df_log.describe()"
   ]
  },
  {
   "cell_type": "code",
   "execution_count": 59,
   "id": "257f8ab9-5da2-4645-9d9d-b03ad8447269",
   "metadata": {},
   "outputs": [
    {
     "data": {
      "text/html": [
       "<div>\n",
       "<style scoped>\n",
       "    .dataframe tbody tr th:only-of-type {\n",
       "        vertical-align: middle;\n",
       "    }\n",
       "\n",
       "    .dataframe tbody tr th {\n",
       "        vertical-align: top;\n",
       "    }\n",
       "\n",
       "    .dataframe thead th {\n",
       "        text-align: right;\n",
       "    }\n",
       "</style>\n",
       "<table border=\"1\" class=\"dataframe\">\n",
       "  <thead>\n",
       "    <tr style=\"text-align: right;\">\n",
       "      <th></th>\n",
       "      <th>ts</th>\n",
       "      <th>arr_e_req</th>\n",
       "      <th>client_bill</th>\n",
       "    </tr>\n",
       "  </thead>\n",
       "  <tbody>\n",
       "    <tr>\n",
       "      <th>0</th>\n",
       "      <td>166559.0</td>\n",
       "      <td>NaN</td>\n",
       "      <td>NaN</td>\n",
       "    </tr>\n",
       "    <tr>\n",
       "      <th>1</th>\n",
       "      <td>166560.0</td>\n",
       "      <td>10.78</td>\n",
       "      <td>1.5092</td>\n",
       "    </tr>\n",
       "    <tr>\n",
       "      <th>2</th>\n",
       "      <td>166561.0</td>\n",
       "      <td>0.00</td>\n",
       "      <td>0.0000</td>\n",
       "    </tr>\n",
       "    <tr>\n",
       "      <th>3</th>\n",
       "      <td>166562.0</td>\n",
       "      <td>0.00</td>\n",
       "      <td>0.0000</td>\n",
       "    </tr>\n",
       "    <tr>\n",
       "      <th>4</th>\n",
       "      <td>166563.0</td>\n",
       "      <td>0.00</td>\n",
       "      <td>0.0000</td>\n",
       "    </tr>\n",
       "  </tbody>\n",
       "</table>\n",
       "</div>"
      ],
      "text/plain": [
       "         ts  arr_e_req  client_bill\n",
       "0  166559.0        NaN          NaN\n",
       "1  166560.0      10.78       1.5092\n",
       "2  166561.0       0.00       0.0000\n",
       "3  166562.0       0.00       0.0000\n",
       "4  166563.0       0.00       0.0000"
      ]
     },
     "execution_count": 59,
     "metadata": {},
     "output_type": "execute_result"
    }
   ],
   "source": [
    "df_log.head()"
   ]
  },
  {
   "cell_type": "code",
   "execution_count": 60,
   "id": "ab79f9f5-147d-4944-93d6-18a327a857c9",
   "metadata": {},
   "outputs": [
    {
     "data": {
      "text/html": [
       "<div>\n",
       "<style scoped>\n",
       "    .dataframe tbody tr th:only-of-type {\n",
       "        vertical-align: middle;\n",
       "    }\n",
       "\n",
       "    .dataframe tbody tr th {\n",
       "        vertical-align: top;\n",
       "    }\n",
       "\n",
       "    .dataframe thead th {\n",
       "        text-align: right;\n",
       "    }\n",
       "</style>\n",
       "<table border=\"1\" class=\"dataframe\">\n",
       "  <thead>\n",
       "    <tr style=\"text-align: right;\">\n",
       "      <th></th>\n",
       "      <th>ts</th>\n",
       "      <th>arr_e_req</th>\n",
       "      <th>client_bill</th>\n",
       "    </tr>\n",
       "  </thead>\n",
       "  <tbody>\n",
       "    <tr>\n",
       "      <th>8773</th>\n",
       "      <td>175332.0</td>\n",
       "      <td>0.0</td>\n",
       "      <td>0.0</td>\n",
       "    </tr>\n",
       "    <tr>\n",
       "      <th>8774</th>\n",
       "      <td>175333.0</td>\n",
       "      <td>0.0</td>\n",
       "      <td>0.0</td>\n",
       "    </tr>\n",
       "    <tr>\n",
       "      <th>8775</th>\n",
       "      <td>175334.0</td>\n",
       "      <td>0.0</td>\n",
       "      <td>0.0</td>\n",
       "    </tr>\n",
       "    <tr>\n",
       "      <th>8776</th>\n",
       "      <td>175335.0</td>\n",
       "      <td>0.0</td>\n",
       "      <td>0.0</td>\n",
       "    </tr>\n",
       "    <tr>\n",
       "      <th>8777</th>\n",
       "      <td>175336.0</td>\n",
       "      <td>NaN</td>\n",
       "      <td>NaN</td>\n",
       "    </tr>\n",
       "  </tbody>\n",
       "</table>\n",
       "</div>"
      ],
      "text/plain": [
       "            ts  arr_e_req  client_bill\n",
       "8773  175332.0        0.0          0.0\n",
       "8774  175333.0        0.0          0.0\n",
       "8775  175334.0        0.0          0.0\n",
       "8776  175335.0        0.0          0.0\n",
       "8777  175336.0        NaN          NaN"
      ]
     },
     "execution_count": 60,
     "metadata": {},
     "output_type": "execute_result"
    }
   ],
   "source": [
    "df_log.tail()"
   ]
  },
  {
   "cell_type": "code",
   "execution_count": 61,
   "id": "69ef63dd-8053-45ce-8b3b-c2aa36566da4",
   "metadata": {},
   "outputs": [
    {
     "data": {
      "text/plain": [
       "286081.2328"
      ]
     },
     "execution_count": 61,
     "metadata": {},
     "output_type": "execute_result"
    }
   ],
   "source": [
    "df_log.arr_e_req.sum()"
   ]
  },
  {
   "cell_type": "code",
   "execution_count": 62,
   "id": "8dc8fa8c-32e6-410f-912d-de3e4bd3e22c",
   "metadata": {},
   "outputs": [
    {
     "data": {
      "text/plain": [
       "40051.372592"
      ]
     },
     "execution_count": 62,
     "metadata": {},
     "output_type": "execute_result"
    }
   ],
   "source": [
    "df_log.client_bill.sum()"
   ]
  },
  {
   "cell_type": "code",
   "execution_count": 37,
   "id": "be17aaee-8f58-462b-8955-22e9ae4ce828",
   "metadata": {},
   "outputs": [
    {
     "data": {
      "text/html": [
       "<div>\n",
       "<style scoped>\n",
       "    .dataframe tbody tr th:only-of-type {\n",
       "        vertical-align: middle;\n",
       "    }\n",
       "\n",
       "    .dataframe tbody tr th {\n",
       "        vertical-align: top;\n",
       "    }\n",
       "\n",
       "    .dataframe thead th {\n",
       "        text-align: right;\n",
       "    }\n",
       "</style>\n",
       "<table border=\"1\" class=\"dataframe\">\n",
       "  <thead>\n",
       "    <tr style=\"text-align: right;\">\n",
       "      <th></th>\n",
       "      <th>session</th>\n",
       "      <th>Connector</th>\n",
       "      <th>connected_time_float</th>\n",
       "      <th>charged_time_float</th>\n",
       "      <th>total_energy</th>\n",
       "      <th>max_power</th>\n",
       "      <th>start_hour</th>\n",
       "      <th>day_no</th>\n",
       "      <th>energy_supplied</th>\n",
       "      <th>soc_arr</th>\n",
       "      <th>charged_time</th>\n",
       "      <th>connected_time</th>\n",
       "      <th>ts_arr</th>\n",
       "      <th>ts_dep</th>\n",
       "      <th>ts_soj</th>\n",
       "      <th>laxity</th>\n",
       "      <th>depart_hour</th>\n",
       "      <th>xi</th>\n",
       "    </tr>\n",
       "  </thead>\n",
       "  <tbody>\n",
       "    <tr>\n",
       "      <th>count</th>\n",
       "      <td>1.000000e+04</td>\n",
       "      <td>10000.000000</td>\n",
       "      <td>10000.000000</td>\n",
       "      <td>10000.000000</td>\n",
       "      <td>10000.000000</td>\n",
       "      <td>10000.000000</td>\n",
       "      <td>10000.000000</td>\n",
       "      <td>10000.000000</td>\n",
       "      <td>10000.000000</td>\n",
       "      <td>10000.000000</td>\n",
       "      <td>10000.000000</td>\n",
       "      <td>10000.000000</td>\n",
       "      <td>10000.000000</td>\n",
       "      <td>10000.000000</td>\n",
       "      <td>10000.000000</td>\n",
       "      <td>1.000000e+04</td>\n",
       "      <td>10000.000000</td>\n",
       "      <td>1.000000e+04</td>\n",
       "    </tr>\n",
       "    <tr>\n",
       "      <th>mean</th>\n",
       "      <td>3.452817e+06</td>\n",
       "      <td>1.360300</td>\n",
       "      <td>5.822735</td>\n",
       "      <td>2.878022</td>\n",
       "      <td>13.635216</td>\n",
       "      <td>5.589366</td>\n",
       "      <td>12.412600</td>\n",
       "      <td>190.979600</td>\n",
       "      <td>28.608123</td>\n",
       "      <td>0.612398</td>\n",
       "      <td>3.355300</td>\n",
       "      <td>6.328300</td>\n",
       "      <td>171155.923000</td>\n",
       "      <td>171162.251300</td>\n",
       "      <td>6.328300</td>\n",
       "      <td>3.674485e+00</td>\n",
       "      <td>18.740900</td>\n",
       "      <td>1.980143e+01</td>\n",
       "    </tr>\n",
       "    <tr>\n",
       "      <th>std</th>\n",
       "      <td>1.076139e+05</td>\n",
       "      <td>0.480111</td>\n",
       "      <td>7.096361</td>\n",
       "      <td>2.644282</td>\n",
       "      <td>14.282036</td>\n",
       "      <td>3.333663</td>\n",
       "      <td>4.532131</td>\n",
       "      <td>110.531348</td>\n",
       "      <td>20.586961</td>\n",
       "      <td>0.257337</td>\n",
       "      <td>2.650125</td>\n",
       "      <td>7.093627</td>\n",
       "      <td>2652.843492</td>\n",
       "      <td>2653.132903</td>\n",
       "      <td>7.093627</td>\n",
       "      <td>6.334915e+00</td>\n",
       "      <td>9.166023</td>\n",
       "      <td>3.413822e+01</td>\n",
       "    </tr>\n",
       "    <tr>\n",
       "      <th>min</th>\n",
       "      <td>3.261657e+06</td>\n",
       "      <td>1.000000</td>\n",
       "      <td>0.020000</td>\n",
       "      <td>0.020000</td>\n",
       "      <td>0.100000</td>\n",
       "      <td>0.167000</td>\n",
       "      <td>0.000000</td>\n",
       "      <td>0.000000</td>\n",
       "      <td>0.215600</td>\n",
       "      <td>0.000000</td>\n",
       "      <td>1.000000</td>\n",
       "      <td>1.000000</td>\n",
       "      <td>166560.000000</td>\n",
       "      <td>166568.000000</td>\n",
       "      <td>1.000000</td>\n",
       "      <td>-4.440892e-16</td>\n",
       "      <td>2.000000</td>\n",
       "      <td>-2.393152e-15</td>\n",
       "    </tr>\n",
       "    <tr>\n",
       "      <th>25%</th>\n",
       "      <td>3.360979e+06</td>\n",
       "      <td>1.000000</td>\n",
       "      <td>1.510000</td>\n",
       "      <td>1.250000</td>\n",
       "      <td>4.530000</td>\n",
       "      <td>3.398000</td>\n",
       "      <td>9.000000</td>\n",
       "      <td>93.000000</td>\n",
       "      <td>13.475000</td>\n",
       "      <td>0.498375</td>\n",
       "      <td>2.000000</td>\n",
       "      <td>2.000000</td>\n",
       "      <td>168804.000000</td>\n",
       "      <td>168808.750000</td>\n",
       "      <td>2.000000</td>\n",
       "      <td>5.300000e-01</td>\n",
       "      <td>13.000000</td>\n",
       "      <td>2.856117e+00</td>\n",
       "    </tr>\n",
       "    <tr>\n",
       "      <th>50%</th>\n",
       "      <td>3.452182e+06</td>\n",
       "      <td>1.000000</td>\n",
       "      <td>3.380000</td>\n",
       "      <td>2.240000</td>\n",
       "      <td>7.830000</td>\n",
       "      <td>3.640000</td>\n",
       "      <td>12.000000</td>\n",
       "      <td>190.000000</td>\n",
       "      <td>24.147200</td>\n",
       "      <td>0.668160</td>\n",
       "      <td>3.000000</td>\n",
       "      <td>4.000000</td>\n",
       "      <td>171128.000000</td>\n",
       "      <td>171133.500000</td>\n",
       "      <td>4.000000</td>\n",
       "      <td>9.600000e-01</td>\n",
       "      <td>16.000000</td>\n",
       "      <td>5.173344e+00</td>\n",
       "    </tr>\n",
       "    <tr>\n",
       "      <th>75%</th>\n",
       "      <td>3.547667e+06</td>\n",
       "      <td>2.000000</td>\n",
       "      <td>8.410000</td>\n",
       "      <td>3.500000</td>\n",
       "      <td>18.262500</td>\n",
       "      <td>7.277750</td>\n",
       "      <td>16.000000</td>\n",
       "      <td>294.000000</td>\n",
       "      <td>37.730000</td>\n",
       "      <td>0.801562</td>\n",
       "      <td>4.000000</td>\n",
       "      <td>9.000000</td>\n",
       "      <td>173622.250000</td>\n",
       "      <td>173629.000000</td>\n",
       "      <td>9.000000</td>\n",
       "      <td>4.801484e+00</td>\n",
       "      <td>21.000000</td>\n",
       "      <td>2.587472e+01</td>\n",
       "    </tr>\n",
       "    <tr>\n",
       "      <th>max</th>\n",
       "      <td>3.634120e+06</td>\n",
       "      <td>2.000000</td>\n",
       "      <td>161.170000</td>\n",
       "      <td>25.670000</td>\n",
       "      <td>93.929000</td>\n",
       "      <td>22.500000</td>\n",
       "      <td>23.000000</td>\n",
       "      <td>364.000000</td>\n",
       "      <td>77.600000</td>\n",
       "      <td>0.967305</td>\n",
       "      <td>26.000000</td>\n",
       "      <td>162.000000</td>\n",
       "      <td>175317.000000</td>\n",
       "      <td>175336.000000</td>\n",
       "      <td>162.000000</td>\n",
       "      <td>1.548015e+02</td>\n",
       "      <td>175.000000</td>\n",
       "      <td>8.342098e+02</td>\n",
       "    </tr>\n",
       "  </tbody>\n",
       "</table>\n",
       "</div>"
      ],
      "text/plain": [
       "            session     Connector  connected_time_float  charged_time_float  \\\n",
       "count  1.000000e+04  10000.000000          10000.000000        10000.000000   \n",
       "mean   3.452817e+06      1.360300              5.822735            2.878022   \n",
       "std    1.076139e+05      0.480111              7.096361            2.644282   \n",
       "min    3.261657e+06      1.000000              0.020000            0.020000   \n",
       "25%    3.360979e+06      1.000000              1.510000            1.250000   \n",
       "50%    3.452182e+06      1.000000              3.380000            2.240000   \n",
       "75%    3.547667e+06      2.000000              8.410000            3.500000   \n",
       "max    3.634120e+06      2.000000            161.170000           25.670000   \n",
       "\n",
       "       total_energy     max_power    start_hour        day_no  \\\n",
       "count  10000.000000  10000.000000  10000.000000  10000.000000   \n",
       "mean      13.635216      5.589366     12.412600    190.979600   \n",
       "std       14.282036      3.333663      4.532131    110.531348   \n",
       "min        0.100000      0.167000      0.000000      0.000000   \n",
       "25%        4.530000      3.398000      9.000000     93.000000   \n",
       "50%        7.830000      3.640000     12.000000    190.000000   \n",
       "75%       18.262500      7.277750     16.000000    294.000000   \n",
       "max       93.929000     22.500000     23.000000    364.000000   \n",
       "\n",
       "       energy_supplied       soc_arr  charged_time  connected_time  \\\n",
       "count     10000.000000  10000.000000  10000.000000    10000.000000   \n",
       "mean         28.608123      0.612398      3.355300        6.328300   \n",
       "std          20.586961      0.257337      2.650125        7.093627   \n",
       "min           0.215600      0.000000      1.000000        1.000000   \n",
       "25%          13.475000      0.498375      2.000000        2.000000   \n",
       "50%          24.147200      0.668160      3.000000        4.000000   \n",
       "75%          37.730000      0.801562      4.000000        9.000000   \n",
       "max          77.600000      0.967305     26.000000      162.000000   \n",
       "\n",
       "              ts_arr         ts_dep        ts_soj        laxity   depart_hour  \\\n",
       "count   10000.000000   10000.000000  10000.000000  1.000000e+04  10000.000000   \n",
       "mean   171155.923000  171162.251300      6.328300  3.674485e+00     18.740900   \n",
       "std      2652.843492    2653.132903      7.093627  6.334915e+00      9.166023   \n",
       "min    166560.000000  166568.000000      1.000000 -4.440892e-16      2.000000   \n",
       "25%    168804.000000  168808.750000      2.000000  5.300000e-01     13.000000   \n",
       "50%    171128.000000  171133.500000      4.000000  9.600000e-01     16.000000   \n",
       "75%    173622.250000  173629.000000      9.000000  4.801484e+00     21.000000   \n",
       "max    175317.000000  175336.000000    162.000000  1.548015e+02    175.000000   \n",
       "\n",
       "                 xi  \n",
       "count  1.000000e+04  \n",
       "mean   1.980143e+01  \n",
       "std    3.413822e+01  \n",
       "min   -2.393152e-15  \n",
       "25%    2.856117e+00  \n",
       "50%    5.173344e+00  \n",
       "75%    2.587472e+01  \n",
       "max    8.342098e+02  "
      ]
     },
     "execution_count": 37,
     "metadata": {},
     "output_type": "execute_result"
    }
   ],
   "source": [
    "df_sessions = pd.read_csv(\"../data/df_elaad_preproc.csv\", parse_dates = [\"starttime_parking\", \"endtime_parking\"])\n",
    "df_sessions.describe()"
   ]
  },
  {
   "cell_type": "code",
   "execution_count": 38,
   "id": "fbcedc38-b335-4410-8850-f5a8a20d8dbe",
   "metadata": {},
   "outputs": [
    {
     "data": {
      "text/plain": [
       "286081.2328"
      ]
     },
     "execution_count": 38,
     "metadata": {},
     "output_type": "execute_result"
    }
   ],
   "source": [
    "df_sessions[\"energy_supplied\"].sum()"
   ]
  },
  {
   "cell_type": "code",
   "execution_count": 39,
   "id": "9fcd7cb3-afc2-4f27-bcbe-c80f1426d321",
   "metadata": {},
   "outputs": [
    {
     "data": {
      "text/plain": [
       "40051.37259200001"
      ]
     },
     "execution_count": 39,
     "metadata": {},
     "output_type": "execute_result"
    }
   ],
   "source": [
    "df_sessions[\"energy_supplied\"].sum() * 0.14"
   ]
  },
  {
   "cell_type": "code",
   "execution_count": 40,
   "id": "816a0778-1809-44b1-8468-ee2a4e24f65e",
   "metadata": {},
   "outputs": [
    {
     "data": {
      "text/plain": [
       "25699.035991999997"
      ]
     },
     "execution_count": 40,
     "metadata": {},
     "output_type": "execute_result"
    }
   ],
   "source": [
    "(0.97 - df_sessions[df_sessions[\"depart_hour\"] < 24][\"soc_arr\"]).sum() * 0.14 * 80"
   ]
  },
  {
   "cell_type": "code",
   "execution_count": 56,
   "id": "1dc42d23-56b2-4743-b6c9-0a9856cd49cd",
   "metadata": {},
   "outputs": [
    {
     "data": {
      "text/plain": [
       "43411.37259200001"
      ]
     },
     "execution_count": 56,
     "metadata": {},
     "output_type": "execute_result"
    }
   ],
   "source": [
    "(0.97 - df_sessions[\"soc_arr\"]).sum() * 80 * 0.14"
   ]
  },
  {
   "cell_type": "code",
   "execution_count": null,
   "id": "d32cdbec-4e15-4468-a9c4-8bb9fd7b1dd2",
   "metadata": {},
   "outputs": [],
   "source": []
  }
 ],
 "metadata": {
  "kernelspec": {
   "display_name": "env_marlvr",
   "language": "python",
   "name": "env_marlvr"
  },
  "language_info": {
   "codemirror_mode": {
    "name": "ipython",
    "version": 3
   },
   "file_extension": ".py",
   "mimetype": "text/x-python",
   "name": "python",
   "nbconvert_exporter": "python",
   "pygments_lexer": "ipython3",
   "version": "3.8.10"
  }
 },
 "nbformat": 4,
 "nbformat_minor": 5
}

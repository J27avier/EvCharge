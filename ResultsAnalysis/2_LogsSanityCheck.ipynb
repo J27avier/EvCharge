{
 "cells": [
  {
   "cell_type": "code",
   "execution_count": 28,
   "metadata": {},
   "outputs": [],
   "source": [
    "from utils import * \n",
    "import pandas as pd\n",
    "import numpy as np\n",
    "import matplotlib.pyplot as plt\n",
    "import ast\n",
    "import math"
   ]
  },
  {
   "cell_type": "code",
   "execution_count": 39,
   "metadata": {},
   "outputs": [
    {
     "name": "stdout",
     "output_type": "stream",
     "text": [
      "[[  0. 937. 327.]\n",
      " [  0. 666. 347.]\n",
      " [304. 366. 262.]]\n"
     ]
    }
   ],
   "source": [
    "df_exp, lines = load_res(\"2023-09-11-18:19:52_ev_world_Optim\")\n",
    "df_cont = pd.read_csv(\"../ExpLogs/2023-09-11-18:19:52_Contracts_ev_world_Optim.csv\")\n",
    "agg_contracts = []\n",
    "i = 0\n",
    "for row in df_exp.itertuples():\n",
    "    if not (type(row.realized_type) == float and math.isnan(row.realized_type)):\n",
    "        str_realized_type = row.realized_type.replace(\" \", \",\")\n",
    "        agg_contracts.append(ast.literal_eval(str_realized_type))\n",
    "exp_realized_contracts = np.array(agg_contracts).sum(axis=0)\n",
    "print(exp_realized_contracts)"
   ]
  },
  {
   "cell_type": "code",
   "execution_count": 41,
   "metadata": {},
   "outputs": [
    {
     "name": "stdout",
     "output_type": "stream",
     "text": [
      "[[  0. 937. 327.]\n",
      " [  0. 666. 347.]\n",
      " [304. 366. 262.]]\n"
     ]
    }
   ],
   "source": [
    "cont_realized_contracts = np.zeros((3,3))\n",
    "\n",
    "for row in df_cont.itertuples():\n",
    "    if row.idx_theta_w != -1 and row.idx_theta_l != -1:\n",
    "        cont_realized_contracts[row.idx_theta_w, row.idx_theta_l] += 1\n",
    "print(cont_realized_contracts)"
   ]
  },
  {
   "cell_type": "code",
   "execution_count": null,
   "metadata": {},
   "outputs": [],
   "source": []
  }
 ],
 "metadata": {
  "kernelspec": {
   "display_name": "env_marlvr",
   "language": "python",
   "name": "env_marlvr"
  },
  "language_info": {
   "codemirror_mode": {
    "name": "ipython",
    "version": 3
   },
   "file_extension": ".py",
   "mimetype": "text/x-python",
   "name": "python",
   "nbconvert_exporter": "python",
   "pygments_lexer": "ipython3",
   "version": "3.8.10"
  },
  "orig_nbformat": 4
 },
 "nbformat": 4,
 "nbformat_minor": 2
}

{
 "cells": [
  {
   "cell_type": "code",
   "execution_count": 28,
   "metadata": {},
   "outputs": [],
   "source": [
    "from utils import * \n",
    "import pandas as pd\n",
    "import numpy as np\n",
    "import matplotlib.pyplot as plt\n",
    "import ast\n",
    "import math"
   ]
  },
  {
   "cell_type": "code",
   "execution_count": 39,
   "metadata": {},
   "outputs": [
    {
     "name": "stdout",
     "output_type": "stream",
     "text": [
      "[[  0. 937. 327.]\n",
      " [  0. 666. 347.]\n",
      " [304. 366. 262.]]\n"
     ]
    }
   ],
   "source": [
    "df_exp, lines = load_res(\"2023-09-11-18:19:52_ev_world_Optim\")\n",
    "df_cont = pd.read_csv(\"../ExpLogs/2023-09-11-18:19:52_Contracts_ev_world_Optim.csv\")\n",
    "agg_contracts = []\n",
    "i = 0\n",
    "for row in df_exp.itertuples():\n",
    "    if not (type(row.realized_type) == float and math.isnan(row.realized_type)):\n",
    "        str_realized_type = row.realized_type.replace(\" \", \",\")\n",
    "        agg_contracts.append(ast.literal_eval(str_realized_type))\n",
    "exp_realized_contracts = np.array(agg_contracts).sum(axis=0)\n",
    "print(exp_realized_contracts)"
   ]
  },
  {
   "cell_type": "code",
   "execution_count": 41,
   "metadata": {},
   "outputs": [
    {
     "name": "stdout",
     "output_type": "stream",
     "text": [
      "[[  0. 937. 327.]\n",
      " [  0. 666. 347.]\n",
      " [304. 366. 262.]]\n"
     ]
    }
   ],
   "source": [
    "cont_realized_contracts = np.zeros((3,3))\n",
    "\n",
    "for row in df_cont.itertuples():\n",
    "    if row.idx_theta_w != -1 and row.idx_theta_l != -1:\n",
    "        cont_realized_contracts[row.idx_theta_w, row.idx_theta_l] += 1\n",
    "print(cont_realized_contracts)"
   ]
  },
  {
   "cell_type": "code",
   "execution_count": 42,
   "metadata": {},
   "outputs": [
    {
     "data": {
      "text/html": [
       "<div>\n",
       "<style scoped>\n",
       "    .dataframe tbody tr th:only-of-type {\n",
       "        vertical-align: middle;\n",
       "    }\n",
       "\n",
       "    .dataframe tbody tr th {\n",
       "        vertical-align: top;\n",
       "    }\n",
       "\n",
       "    .dataframe thead th {\n",
       "        text-align: right;\n",
       "    }\n",
       "</style>\n",
       "<table border=\"1\" class=\"dataframe\">\n",
       "  <thead>\n",
       "    <tr style=\"text-align: right;\">\n",
       "      <th></th>\n",
       "      <th>idSess</th>\n",
       "      <th>w</th>\n",
       "      <th>l</th>\n",
       "      <th>g</th>\n",
       "      <th>idx_theta_w</th>\n",
       "      <th>idx_theta_l</th>\n",
       "    </tr>\n",
       "  </thead>\n",
       "  <tbody>\n",
       "    <tr>\n",
       "      <th>count</th>\n",
       "      <td>9.997000e+03</td>\n",
       "      <td>9997.000000</td>\n",
       "      <td>9997.000000</td>\n",
       "      <td>9997.000000</td>\n",
       "      <td>9997.000000</td>\n",
       "      <td>9997.000000</td>\n",
       "    </tr>\n",
       "    <tr>\n",
       "      <th>mean</th>\n",
       "      <td>3.452763e+06</td>\n",
       "      <td>9.133401</td>\n",
       "      <td>4.555167</td>\n",
       "      <td>0.541456</td>\n",
       "      <td>-0.142143</td>\n",
       "      <td>0.166750</td>\n",
       "    </tr>\n",
       "    <tr>\n",
       "      <th>std</th>\n",
       "      <td>1.075844e+05</td>\n",
       "      <td>3.559460</td>\n",
       "      <td>1.622016</td>\n",
       "      <td>0.111757</td>\n",
       "      <td>0.961494</td>\n",
       "      <td>1.113462</td>\n",
       "    </tr>\n",
       "    <tr>\n",
       "      <th>min</th>\n",
       "      <td>3.261657e+06</td>\n",
       "      <td>4.714659</td>\n",
       "      <td>2.000000</td>\n",
       "      <td>0.353956</td>\n",
       "      <td>-1.000000</td>\n",
       "      <td>-1.000000</td>\n",
       "    </tr>\n",
       "    <tr>\n",
       "      <th>25%</th>\n",
       "      <td>3.360960e+06</td>\n",
       "      <td>4.714659</td>\n",
       "      <td>3.000000</td>\n",
       "      <td>0.428229</td>\n",
       "      <td>-1.000000</td>\n",
       "      <td>-1.000000</td>\n",
       "    </tr>\n",
       "    <tr>\n",
       "      <th>50%</th>\n",
       "      <td>3.452128e+06</td>\n",
       "      <td>12.335761</td>\n",
       "      <td>6.000000</td>\n",
       "      <td>0.605432</td>\n",
       "      <td>0.000000</td>\n",
       "      <td>0.000000</td>\n",
       "    </tr>\n",
       "    <tr>\n",
       "      <th>75%</th>\n",
       "      <td>3.547565e+06</td>\n",
       "      <td>12.335761</td>\n",
       "      <td>6.000000</td>\n",
       "      <td>0.668303</td>\n",
       "      <td>0.000000</td>\n",
       "      <td>1.000000</td>\n",
       "    </tr>\n",
       "    <tr>\n",
       "      <th>max</th>\n",
       "      <td>3.634022e+06</td>\n",
       "      <td>12.335761</td>\n",
       "      <td>6.000000</td>\n",
       "      <td>0.668303</td>\n",
       "      <td>2.000000</td>\n",
       "      <td>2.000000</td>\n",
       "    </tr>\n",
       "  </tbody>\n",
       "</table>\n",
       "</div>"
      ],
      "text/plain": [
       "             idSess            w            l            g  idx_theta_w  \\\n",
       "count  9.997000e+03  9997.000000  9997.000000  9997.000000  9997.000000   \n",
       "mean   3.452763e+06     9.133401     4.555167     0.541456    -0.142143   \n",
       "std    1.075844e+05     3.559460     1.622016     0.111757     0.961494   \n",
       "min    3.261657e+06     4.714659     2.000000     0.353956    -1.000000   \n",
       "25%    3.360960e+06     4.714659     3.000000     0.428229    -1.000000   \n",
       "50%    3.452128e+06    12.335761     6.000000     0.605432     0.000000   \n",
       "75%    3.547565e+06    12.335761     6.000000     0.668303     0.000000   \n",
       "max    3.634022e+06    12.335761     6.000000     0.668303     2.000000   \n",
       "\n",
       "       idx_theta_l  \n",
       "count  9997.000000  \n",
       "mean      0.166750  \n",
       "std       1.113462  \n",
       "min      -1.000000  \n",
       "25%      -1.000000  \n",
       "50%       0.000000  \n",
       "75%       1.000000  \n",
       "max       2.000000  "
      ]
     },
     "execution_count": 42,
     "metadata": {},
     "output_type": "execute_result"
    }
   ],
   "source": [
    "df_cont.describe()"
   ]
  },
  {
   "cell_type": "code",
   "execution_count": null,
   "metadata": {},
   "outputs": [],
   "source": []
  }
 ],
 "metadata": {
  "kernelspec": {
   "display_name": "env_marlvr",
   "language": "python",
   "name": "env_marlvr"
  },
  "language_info": {
   "codemirror_mode": {
    "name": "ipython",
    "version": 3
   },
   "file_extension": ".py",
   "mimetype": "text/x-python",
   "name": "python",
   "nbconvert_exporter": "python",
   "pygments_lexer": "ipython3",
   "version": "3.8.10"
  },
  "orig_nbformat": 4
 },
 "nbformat": 4,
 "nbformat_minor": 2
}

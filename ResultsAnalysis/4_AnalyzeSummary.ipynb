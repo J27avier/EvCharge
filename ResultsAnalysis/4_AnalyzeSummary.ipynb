{
 "cells": [
  {
   "cell_type": "code",
   "execution_count": null,
   "metadata": {},
   "outputs": [],
   "source": [
    "from utils import * \n",
    "import pandas as pd\n",
    "import numpy as np\n",
    "import matplotlib.pyplot as plt\n",
    "pd.set_option('display.max_rows', None)"
   ]
  },
  {
   "cell_type": "markdown",
   "metadata": {},
   "source": [
    "### Optimization results"
   ]
  },
  {
   "cell_type": "code",
   "execution_count": 7,
   "metadata": {},
   "outputs": [
    {
     "data": {
      "text/html": [
       "<div>\n",
       "<style scoped>\n",
       "    .dataframe tbody tr th:only-of-type {\n",
       "        vertical-align: middle;\n",
       "    }\n",
       "\n",
       "    .dataframe tbody tr th {\n",
       "        vertical-align: top;\n",
       "    }\n",
       "\n",
       "    .dataframe thead th {\n",
       "        text-align: right;\n",
       "    }\n",
       "</style>\n",
       "<table border=\"1\" class=\"dataframe\">\n",
       "  <thead>\n",
       "    <tr style=\"text-align: right;\">\n",
       "      <th></th>\n",
       "      <th>name</th>\n",
       "      <th>transf</th>\n",
       "      <th>client</th>\n",
       "      <th>payoff</th>\n",
       "      <th>total</th>\n",
       "    </tr>\n",
       "  </thead>\n",
       "  <tbody>\n",
       "    <tr>\n",
       "      <th>0</th>\n",
       "      <td>c_ASAP</td>\n",
       "      <td>14937.478645</td>\n",
       "      <td>18301.238246</td>\n",
       "      <td>0.000000</td>\n",
       "      <td>3363.759602</td>\n",
       "    </tr>\n",
       "    <tr>\n",
       "      <th>1</th>\n",
       "      <td>c_NoV2G</td>\n",
       "      <td>7522.477944</td>\n",
       "      <td>18301.238246</td>\n",
       "      <td>0.000000</td>\n",
       "      <td>10778.760303</td>\n",
       "    </tr>\n",
       "    <tr>\n",
       "      <th>2</th>\n",
       "      <td>c_Optim</td>\n",
       "      <td>6181.244077</td>\n",
       "      <td>18301.238246</td>\n",
       "      <td>1535.183674</td>\n",
       "      <td>10584.810496</td>\n",
       "    </tr>\n",
       "    <tr>\n",
       "      <th>3</th>\n",
       "      <td>c2_Optim</td>\n",
       "      <td>4356.432017</td>\n",
       "      <td>18301.238246</td>\n",
       "      <td>1253.999285</td>\n",
       "      <td>12690.806944</td>\n",
       "    </tr>\n",
       "  </tbody>\n",
       "</table>\n",
       "</div>"
      ],
      "text/plain": [
       "       name        transf        client       payoff         total\n",
       "0    c_ASAP  14937.478645  18301.238246     0.000000   3363.759602\n",
       "1   c_NoV2G   7522.477944  18301.238246     0.000000  10778.760303\n",
       "2   c_Optim   6181.244077  18301.238246  1535.183674  10584.810496\n",
       "3  c2_Optim   4356.432017  18301.238246  1253.999285  12690.806944"
      ]
     },
     "execution_count": 7,
     "metadata": {},
     "output_type": "execute_result"
    }
   ],
   "source": [
    "df_ASAP = pd.read_csv('./../ExpLogs/summ_c_ASAP.csv')\n",
    "df_NoV2G = pd.read_csv('./../ExpLogs/summ_c_NoV2G.csv')\n",
    "df_Optim = pd.read_csv('./../ExpLogs/summ_c_Optim.csv')\n",
    "df_Optim1 = pd.read_csv('./../ExpLogs/summ_c2_Optim.csv')\n",
    "\n",
    "df_res = pd.concat([df_ASAP, df_NoV2G, df_Optim, df_Optim1], axis=0).reset_index(drop=True)\n",
    "df_res"
   ]
  },
  {
   "cell_type": "markdown",
   "metadata": {},
   "source": [
    "### RL Results"
   ]
  },
  {
   "cell_type": "code",
   "execution_count": 33,
   "metadata": {},
   "outputs": [
    {
     "ename": "SyntaxError",
     "evalue": "invalid syntax (3127958742.py, line 12)",
     "output_type": "error",
     "traceback": [
      "\u001b[0;36m  File \u001b[0;32m\"/tmp/ipykernel_52949/3127958742.py\"\u001b[0;36m, line \u001b[0;32m12\u001b[0m\n\u001b[0;31m    load_str = f[\"./../{dir}summ_name_{i}.csv\" for i in range(num)]\u001b[0m\n\u001b[0m                                               ^\u001b[0m\n\u001b[0;31mSyntaxError\u001b[0m\u001b[0;31m:\u001b[0m invalid syntax\n"
     ]
    }
   ],
   "source": [
    "def load_rl_gen(name, num, dir = \"\"):\n",
    "    train_str = [f\"./../ExpLogs/{dir}summ_train_{name}_{i}.csv\" for i in range(num)]\n",
    "    val_str   = [f\"./../ExpLogs/{dir}summ_val_{name}_{i}.csv\" for i in range(num)]\n",
    "    test_str  = [f\"./../ExpLogs/{dir}summ_test_{name}_{i}.csv\" for i in range(num)]\n",
    "\n",
    "    df_train = pd.concat([pd.read_csv(i) for i in train_str], axis=0).reset_index(drop=True)\n",
    "    df_val = pd.concat([pd.read_csv(i) for i in val_str], axis=0).reset_index(drop=True)\n",
    "    df_test = pd.concat([pd.read_csv(i) for i in test_str], axis=0).reset_index(drop=True)\n",
    "    return df_train, df_val, df_test\n",
    "\n",
    "def load_rl(name, num, dir = \"\"):\n",
    "    load_str = f[\"./../{dir}summ_{name}_{i}.csv\" for i in range(num)]\n",
    "    df_res = pd.concat([pd.read_csv(i) for i in load_str], axis=0).reset_index(drop=True)\n",
    "    return df_res"
   ]
  },
  {
   "cell_type": "code",
   "execution_count": 31,
   "metadata": {},
   "outputs": [],
   "source": [
    "#df_train, df_val, df_test = load_rl_gen(\"sac_gen_a\", 34)\n",
    "df_train, df_val, df_test = load_rl_gen(\"month_sac_c\", 50)"
   ]
  },
  {
   "cell_type": "code",
   "execution_count": 32,
   "metadata": {},
   "outputs": [
    {
     "data": {
      "text/plain": [
       "<matplotlib.legend.Legend at 0x7f5fdc586070>"
      ]
     },
     "execution_count": 32,
     "metadata": {},
     "output_type": "execute_result"
    },
    {
     "data": {
      "image/png": "[encoded data removed]",
      "text/plain": [
       "<Figure size 720x360 with 1 Axes>"
      ]
     },
     "metadata": {
      "needs_background": "light"
     },
     "output_type": "display_data"
    }
   ],
   "source": [
    "fig1, (ax1) =  plt.subplots(1,1, figsize=(10,5))\n",
    "ax1.plot(df_train[\"transf\"], label = \"train\")\n",
    "ax1.plot(df_val[\"transf\"], label = \"validation\")\n",
    "ax1.plot(df_test[\"transf\"], label = \"test\")\n",
    "\n",
    "ax1.legend()\n",
    "#f, (ax1, ax2) = plt.subplots(1, 2, sharey=True)"
   ]
  },
  {
   "cell_type": "code",
   "execution_count": null,
   "metadata": {},
   "outputs": [],
   "source": []
  }
 ],
 "metadata": {
  "kernelspec": {
   "display_name": "env_marlvr",
   "language": "python",
   "name": "env_marlvr"
  },
  "language_info": {
   "codemirror_mode": {
    "name": "ipython",
    "version": 3
   },
   "file_extension": ".py",
   "mimetype": "text/x-python",
   "name": "python",
   "nbconvert_exporter": "python",
   "pygments_lexer": "ipython3",
   "version": "3.8.10"
  }
 },
 "nbformat": 4,
 "nbformat_minor": 2
}

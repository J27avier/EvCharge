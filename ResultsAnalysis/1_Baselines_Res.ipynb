{
 "cells": [
  {
   "cell_type": "code",
   "execution_count": 2,
   "metadata": {},
   "outputs": [],
   "source": [
    "from utils import * \n",
    "import pandas as pd\n",
    "import numpy as np\n",
    "import matplotlib.pyplot as plt"
   ]
  },
  {
   "cell_type": "markdown",
   "metadata": {},
   "source": [
    "## Charge ASAP"
   ]
  },
  {
   "cell_type": "code",
   "execution_count": 12,
   "metadata": {},
   "outputs": [
    {
     "name": "stdout",
     "output_type": "stream",
     "text": [
      "timestamp: 2023-08-17-15:24:32\n",
      "\n",
      "--Info\n",
      "title: EvWorld ASAP\n",
      "\n",
      "--Args\n",
      "print_dash: False\n",
      "file_price: df_price_2019.csv\n",
      "no_save: False\n",
      "agent: ASAP\n",
      "<class 'pandas.core.frame.DataFrame'>\n",
      "RangeIndex: 8759 entries, 0 to 8758\n",
      "Data columns (total 7 columns):\n",
      " #   Column          Non-Null Count  Dtype  \n",
      "---  ------          --------------  -----  \n",
      " 0   ts              8759 non-null   float64\n",
      " 1   arr_e_req       8758 non-null   float64\n",
      " 2   client_bill     8758 non-null   float64\n",
      " 3   chg_e_req       8758 non-null   float64\n",
      " 4   imbalance_bill  8758 non-null   float64\n",
      " 5   n_cars          8758 non-null   float64\n",
      " 6   avg_lax         8758 non-null   float64\n",
      "dtypes: float64(7)\n",
      "memory usage: 479.1 KB\n"
     ]
    },
    {
     "data": {
      "text/plain": [
       "None"
      ]
     },
     "metadata": {},
     "output_type": "display_data"
    },
    {
     "name": "stdout",
     "output_type": "stream",
     "text": [
      "transf_asap=14,240.01€\n",
      "client_bill=40,033.96€\n"
     ]
    }
   ],
   "source": [
    "df_asap, lines = load_res(\"2023-08-17-15:24:32_ev_world_ASAP\")\n",
    "for line in lines: print(line, end=\"\")\n",
    "display(df_asap.info())\n",
    "transf_asap = df_asap[\"imbalance_bill\"].sum()  \n",
    "print(f\"{transf_asap=:,.2f}€\")\n",
    "client_bill = df_asap[\"client_bill\"].sum()\n",
    "print(f\"{client_bill=:,.2f}€\")"
   ]
  },
  {
   "cell_type": "code",
   "execution_count": 14,
   "metadata": {},
   "outputs": [
    {
     "name": "stdout",
     "output_type": "stream",
     "text": [
      "timestamp: 2023-08-17-15:26:51\n",
      "\n",
      "--Info\n",
      "title: EvWorld No-V2G\n",
      "\n",
      "--Args\n",
      "print_dash: False\n",
      "file_price: df_price_2019.csv\n",
      "no_save: False\n",
      "agent: No-V2G\n",
      "<class 'pandas.core.frame.DataFrame'>\n",
      "RangeIndex: 8759 entries, 0 to 8758\n",
      "Data columns (total 7 columns):\n",
      " #   Column          Non-Null Count  Dtype  \n",
      "---  ------          --------------  -----  \n",
      " 0   ts              8759 non-null   float64\n",
      " 1   arr_e_req       8758 non-null   float64\n",
      " 2   client_bill     8758 non-null   float64\n",
      " 3   chg_e_req       8758 non-null   float64\n",
      " 4   imbalance_bill  8758 non-null   float64\n",
      " 5   n_cars          8758 non-null   float64\n",
      " 6   avg_lax         8758 non-null   float64\n",
      "dtypes: float64(7)\n",
      "memory usage: 479.1 KB\n"
     ]
    },
    {
     "data": {
      "text/plain": [
       "None"
      ]
     },
     "metadata": {},
     "output_type": "display_data"
    },
    {
     "name": "stdout",
     "output_type": "stream",
     "text": [
      "transf_nov2g=7,976.94€\n",
      "client_bill=40,033.96€\n"
     ]
    }
   ],
   "source": [
    "df_nov2g, lines = load_res(\"2023-08-17-15:26:51_ev_world_No-V2G\")\n",
    "for line in lines: print(line, end=\"\")\n",
    "display(df_asap.info())\n",
    "transf_nov2g = df_nov2g[\"imbalance_bill\"].sum()  \n",
    "print(f\"{transf_nov2g=:,.2f}€\")\n",
    "client_bill = df_nov2g[\"client_bill\"].sum()\n",
    "print(f\"{client_bill=:,.2f}€\")"
   ]
  },
  {
   "cell_type": "code",
   "execution_count": null,
   "metadata": {},
   "outputs": [],
   "source": []
  }
 ],
 "metadata": {
  "kernelspec": {
   "display_name": "env_marlvr",
   "language": "python",
   "name": "env_marlvr"
  },
  "language_info": {
   "codemirror_mode": {
    "name": "ipython",
    "version": 3
   },
   "file_extension": ".py",
   "mimetype": "text/x-python",
   "name": "python",
   "nbconvert_exporter": "python",
   "pygments_lexer": "ipython3",
   "version": "3.8.10"
  },
  "orig_nbformat": 4
 },
 "nbformat": 4,
 "nbformat_minor": 2
}

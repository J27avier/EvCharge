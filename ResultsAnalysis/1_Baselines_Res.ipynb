{
 "cells": [
  {
   "cell_type": "code",
   "execution_count": 2,
   "metadata": {},
   "outputs": [],
   "source": [
    "from utils import * \n",
    "import pandas as pd\n",
    "import numpy as np\n",
    "import matplotlib.pyplot as plt"
   ]
  },
  {
   "cell_type": "code",
   "execution_count": 3,
   "metadata": {},
   "outputs": [
    {
     "name": "stdout",
     "output_type": "stream",
     "text": [
      "timestamp: 2023-08-17-15:24:32\n",
      "\n",
      "--Info\n",
      "title: EvWorld ASAP\n",
      "\n",
      "--Args\n",
      "print_dash: False\n",
      "file_price: df_price_2019.csv\n",
      "no_save: False\n",
      "agent: ASAP\n",
      "timestamp: 2023-08-17-15:26:51\n",
      "\n",
      "--Info\n",
      "title: EvWorld No-V2G\n",
      "\n",
      "--Args\n",
      "print_dash: False\n",
      "file_price: df_price_2019.csv\n",
      "no_save: False\n",
      "agent: No-V2G\n",
      "timestamp: 2023-08-30-18:33:29\n",
      "\n",
      "--Info\n",
      "title: EvWorld Optim\n",
      "\n",
      "--Args\n",
      "print_dash: False\n",
      "file_price: df_price_2019.csv\n",
      "no_save: False\n",
      "agent: Optim\n",
      "desc: \n",
      "seed: 42\n"
     ]
    },
    {
     "data": {
      "text/html": [
       "<div>\n",
       "<style scoped>\n",
       "    .dataframe tbody tr th:only-of-type {\n",
       "        vertical-align: middle;\n",
       "    }\n",
       "\n",
       "    .dataframe tbody tr th {\n",
       "        vertical-align: top;\n",
       "    }\n",
       "\n",
       "    .dataframe thead th {\n",
       "        text-align: right;\n",
       "    }\n",
       "</style>\n",
       "<table border=\"1\" class=\"dataframe\">\n",
       "  <thead>\n",
       "    <tr style=\"text-align: right;\">\n",
       "      <th></th>\n",
       "      <th>exp</th>\n",
       "      <th>transf</th>\n",
       "      <th>client</th>\n",
       "      <th>payoff</th>\n",
       "      <th>total</th>\n",
       "    </tr>\n",
       "  </thead>\n",
       "  <tbody>\n",
       "    <tr>\n",
       "      <th>0</th>\n",
       "      <td>ASAP</td>\n",
       "      <td>14240.008600</td>\n",
       "      <td>40033.958664</td>\n",
       "      <td>0.000000</td>\n",
       "      <td>25793.950064</td>\n",
       "    </tr>\n",
       "    <tr>\n",
       "      <th>1</th>\n",
       "      <td>NoV2G</td>\n",
       "      <td>7976.944281</td>\n",
       "      <td>40033.958664</td>\n",
       "      <td>0.000000</td>\n",
       "      <td>32057.014383</td>\n",
       "    </tr>\n",
       "    <tr>\n",
       "      <th>2</th>\n",
       "      <td>Optim</td>\n",
       "      <td>6704.185750</td>\n",
       "      <td>40033.958664</td>\n",
       "      <td>1535.107907</td>\n",
       "      <td>31794.665007</td>\n",
       "    </tr>\n",
       "  </tbody>\n",
       "</table>\n",
       "</div>"
      ],
      "text/plain": [
       "     exp        transf        client       payoff         total\n",
       "0   ASAP  14240.008600  40033.958664     0.000000  25793.950064\n",
       "1  NoV2G   7976.944281  40033.958664     0.000000  32057.014383\n",
       "2  Optim   6704.185750  40033.958664  1535.107907  31794.665007"
      ]
     },
     "execution_count": 3,
     "metadata": {},
     "output_type": "execute_result"
    }
   ],
   "source": [
    "# Files\n",
    "# df_asap, lines = load_res(\"2023-08-17-15:24:32_ev_world_ASAP\")\n",
    "l__fileexp = [\"2023-08-17-15:24:32_ev_world_ASAP\", \n",
    "              \"2023-08-17-15:26:51_ev_world_No-V2G\",\n",
    "              \"2023-08-30-18:33:29_ev_world_Optim\",]\n",
    "\n",
    "l_exp = [\"ASAP\", \"NoV2G\", \"Optim\"] #, \"NoV2G_lambda_lax\"]\n",
    "sum_cols = [\"exp\", \"transf\", \"client\", \"payoff\"]\n",
    "l_sum = []\n",
    "\n",
    "for fileexp, exp in zip(l__fileexp, l_exp):\n",
    "    df_exp, lines = load_res(fileexp)\n",
    "    for line in lines: print(line, end=\"\")\n",
    "    transf = df_exp[\"imbalance_bill\"].sum()\n",
    "    client = df_exp[\"client_bill\"].sum()\n",
    "    payoff = 0\n",
    "    if exp in [\"Optim\"]:\n",
    "        payoff = df_exp[\"payoff\"].sum()\n",
    "\n",
    "    l_sum.append([exp, transf, client, payoff])\n",
    "\n",
    "df_sum = pd.DataFrame(l_sum, columns=sum_cols)\n",
    "df_sum[\"total\"] = df_sum[\"client\"] - df_sum[\"transf\"] - df_sum[\"payoff\"]\n",
    "df_sum.head(20)\n"
   ]
  },
  {
   "cell_type": "markdown",
   "metadata": {},
   "source": [
    "## Charge ASAP"
   ]
  },
  {
   "cell_type": "code",
   "execution_count": 4,
   "metadata": {},
   "outputs": [
    {
     "name": "stdout",
     "output_type": "stream",
     "text": [
      "timestamp: 2023-08-17-15:24:32\n",
      "\n",
      "--Info\n",
      "title: EvWorld ASAP\n",
      "\n",
      "--Args\n",
      "print_dash: False\n",
      "file_price: df_price_2019.csv\n",
      "no_save: False\n",
      "agent: ASAP\n",
      "<class 'pandas.core.frame.DataFrame'>\n",
      "RangeIndex: 8759 entries, 0 to 8758\n",
      "Data columns (total 7 columns):\n",
      " #   Column          Non-Null Count  Dtype  \n",
      "---  ------          --------------  -----  \n",
      " 0   ts              8759 non-null   float64\n",
      " 1   arr_e_req       8758 non-null   float64\n",
      " 2   client_bill     8758 non-null   float64\n",
      " 3   chg_e_req       8758 non-null   float64\n",
      " 4   imbalance_bill  8758 non-null   float64\n",
      " 5   n_cars          8758 non-null   float64\n",
      " 6   avg_lax         8758 non-null   float64\n",
      "dtypes: float64(7)\n",
      "memory usage: 479.1 KB\n"
     ]
    },
    {
     "data": {
      "text/plain": [
       "None"
      ]
     },
     "metadata": {},
     "output_type": "display_data"
    },
    {
     "name": "stdout",
     "output_type": "stream",
     "text": [
      "transf_asap=14,240.01€\n",
      "client_bill=40,033.96€\n"
     ]
    }
   ],
   "source": [
    "df_asap, lines = load_res(\"2023-08-17-15:24:32_ev_world_ASAP\")\n",
    "for line in lines: print(line, end=\"\")\n",
    "display(df_asap.info())\n",
    "transf_asap = df_asap[\"imbalance_bill\"].sum()  \n",
    "print(f\"{transf_asap=:,.2f}€\")\n",
    "client_bill = df_asap[\"client_bill\"].sum()\n",
    "print(f\"{client_bill=:,.2f}€\")"
   ]
  },
  {
   "cell_type": "code",
   "execution_count": 5,
   "metadata": {},
   "outputs": [
    {
     "name": "stdout",
     "output_type": "stream",
     "text": [
      "timestamp: 2023-08-17-15:26:51\n",
      "\n",
      "--Info\n",
      "title: EvWorld No-V2G\n",
      "\n",
      "--Args\n",
      "print_dash: False\n",
      "file_price: df_price_2019.csv\n",
      "no_save: False\n",
      "agent: No-V2G\n",
      "<class 'pandas.core.frame.DataFrame'>\n",
      "RangeIndex: 8759 entries, 0 to 8758\n",
      "Data columns (total 7 columns):\n",
      " #   Column          Non-Null Count  Dtype  \n",
      "---  ------          --------------  -----  \n",
      " 0   ts              8759 non-null   float64\n",
      " 1   arr_e_req       8758 non-null   float64\n",
      " 2   client_bill     8758 non-null   float64\n",
      " 3   chg_e_req       8758 non-null   float64\n",
      " 4   imbalance_bill  8758 non-null   float64\n",
      " 5   n_cars          8758 non-null   float64\n",
      " 6   avg_lax         8758 non-null   float64\n",
      "dtypes: float64(7)\n",
      "memory usage: 479.1 KB\n"
     ]
    },
    {
     "data": {
      "text/plain": [
       "None"
      ]
     },
     "metadata": {},
     "output_type": "display_data"
    },
    {
     "name": "stdout",
     "output_type": "stream",
     "text": [
      "transf_nov2g=7,976.94€\n",
      "client_bill=40,033.96€\n"
     ]
    }
   ],
   "source": [
    "df_nov2g, lines = load_res(\"2023-08-17-15:26:51_ev_world_No-V2G\")\n",
    "for line in lines: print(line, end=\"\")\n",
    "display(df_asap.info())\n",
    "transf_nov2g = df_nov2g[\"imbalance_bill\"].sum()  \n",
    "print(f\"{transf_nov2g=:,.2f}€\")\n",
    "client_bill = df_nov2g[\"client_bill\"].sum()\n",
    "print(f\"{client_bill=:,.2f}€\")"
   ]
  },
  {
   "cell_type": "markdown",
   "metadata": {},
   "source": [
    "## Optimal"
   ]
  },
  {
   "cell_type": "code",
   "execution_count": 6,
   "metadata": {},
   "outputs": [
    {
     "name": "stdout",
     "output_type": "stream",
     "text": [
      "timestamp: 2023-08-30-18:33:29\n",
      "\n",
      "--Info\n",
      "title: EvWorld Optim\n",
      "\n",
      "--Args\n",
      "print_dash: False\n",
      "file_price: df_price_2019.csv\n",
      "no_save: False\n",
      "agent: Optim\n",
      "desc: \n",
      "seed: 42\n",
      "<class 'pandas.core.frame.DataFrame'>\n",
      "RangeIndex: 8759 entries, 0 to 8758\n",
      "Data columns (total 15 columns):\n",
      " #   Column            Non-Null Count  Dtype  \n",
      "---  ------            --------------  -----  \n",
      " 0   ts                8759 non-null   float64\n",
      " 1   arr_e_req         8758 non-null   float64\n",
      " 2   client_bill       8758 non-null   float64\n",
      " 3   assigned_type     8758 non-null   object \n",
      " 4   realized_type     8758 non-null   object \n",
      " 5   fail_time         8758 non-null   float64\n",
      " 6   fail_energy1      8758 non-null   float64\n",
      " 7   fail_energy2      8758 non-null   float64\n",
      " 8   fail_energy_both  8758 non-null   float64\n",
      " 9   fail_IR           8758 non-null   float64\n",
      " 10  chg_e_req         8758 non-null   float64\n",
      " 11  imbalance_bill    8758 non-null   float64\n",
      " 12  n_cars            8758 non-null   float64\n",
      " 13  avg_lax           8758 non-null   float64\n",
      " 14  payoff            8758 non-null   float64\n",
      "dtypes: float64(13), object(2)\n",
      "memory usage: 1.0+ MB\n"
     ]
    },
    {
     "data": {
      "text/plain": [
       "None"
      ]
     },
     "metadata": {},
     "output_type": "display_data"
    },
    {
     "name": "stdout",
     "output_type": "stream",
     "text": [
      "transf_optim=6,704.19€\n",
      "client_bill=40,033.96€\n",
      "payoff_bill=1,535.11€\n"
     ]
    }
   ],
   "source": [
    "df_optim, lines = load_res(\"2023-08-30-18:33:29_ev_world_Optim\")\n",
    "for line in lines: print(line, end=\"\")\n",
    "display(df_optim.info())\n",
    "transf_optim = df_optim[\"imbalance_bill\"].sum()  \n",
    "print(f\"{transf_optim=:,.2f}€\")\n",
    "client_bill = df_optim[\"client_bill\"].sum()\n",
    "print(f\"{client_bill=:,.2f}€\")\n",
    "payoff_bill = df_optim[\"payoff\"].sum()\n",
    "print(f\"{payoff_bill=:,.2f}€\")"
   ]
  },
  {
   "cell_type": "markdown",
   "metadata": {},
   "source": [
    "## Oracle"
   ]
  },
  {
   "cell_type": "code",
   "execution_count": 7,
   "metadata": {},
   "outputs": [
    {
     "name": "stdout",
     "output_type": "stream",
     "text": [
      "timestamp: 2023-09-13-00:22:37\n",
      "\n",
      "--Info\n",
      "title: EvWorld Oracle\n",
      "\n",
      "--Args\n",
      "print_dash: False\n",
      "no_save: False\n",
      "agent: Oracle\n",
      "desc: \n",
      "seed: 42\n",
      "file_price: df_price_2019.csv\n",
      "file_contracts: ExpLogs/2023-09-11-18:19:52_Contracts_ev_world_Optim.csv\n",
      "<class 'pandas.core.frame.DataFrame'>\n",
      "RangeIndex: 8759 entries, 0 to 8758\n",
      "Data columns (total 15 columns):\n",
      " #   Column            Non-Null Count  Dtype  \n",
      "---  ------            --------------  -----  \n",
      " 0   ts                8759 non-null   float64\n",
      " 1   arr_e_req         8758 non-null   float64\n",
      " 2   client_bill       8758 non-null   float64\n",
      " 3   assigned_type     8758 non-null   object \n",
      " 4   realized_type     8758 non-null   object \n",
      " 5   fail_time         8758 non-null   float64\n",
      " 6   fail_energy1      8758 non-null   float64\n",
      " 7   fail_energy2      8758 non-null   float64\n",
      " 8   fail_energy_both  8758 non-null   float64\n",
      " 9   fail_IR           8758 non-null   float64\n",
      " 10  chg_e_req         8758 non-null   float64\n",
      " 11  imbalance_bill    8758 non-null   float64\n",
      " 12  n_cars            8758 non-null   float64\n",
      " 13  avg_lax           8758 non-null   float64\n",
      " 14  payoff            8758 non-null   float64\n",
      "dtypes: float64(13), object(2)\n",
      "memory usage: 1.0+ MB\n"
     ]
    },
    {
     "data": {
      "text/plain": [
       "None"
      ]
     },
     "metadata": {},
     "output_type": "display_data"
    },
    {
     "name": "stdout",
     "output_type": "stream",
     "text": [
      "transf_oracle=7,976.94€\n",
      "client_bill=40,033.96€\n",
      "payoff_bill=1,535.11€\n"
     ]
    }
   ],
   "source": [
    "\n",
    "df_oracle, lines = load_res(\"2023-09-13-00:22:37_ev_world_Oracle_NoV2G\")\n",
    "for line in lines: print(line, end=\"\")\n",
    "display(df_oracle.info())\n",
    "transf_oracle = df_oracle[\"imbalance_bill\"].sum()  \n",
    "print(f\"{transf_oracle=:,.2f}€\")\n",
    "client_bill = df_oracle[\"client_bill\"].sum()\n",
    "print(f\"{client_bill=:,.2f}€\")\n",
    "payoff_bill = df_oracle[\"payoff\"].sum()\n",
    "print(f\"{payoff_bill=:,.2f}€\")"
   ]
  },
  {
   "cell_type": "code",
   "execution_count": 9,
   "metadata": {},
   "outputs": [
    {
     "name": "stdout",
     "output_type": "stream",
     "text": [
      "timestamp: 2023-09-13-08:59:05\n",
      "\n",
      "--Info\n",
      "title: EvWorld Oracle\n",
      "\n",
      "--Args\n",
      "print_dash: False\n",
      "no_save: False\n",
      "save_contracts: False\n",
      "agent: Oracle\n",
      "desc: \n",
      "seed: 42\n",
      "file_price: df_price_2019.csv\n",
      "file_contracts: ExpLogs/2023-09-11-18:19:52_Contracts_ev_world_Optim.csv\n",
      "<class 'pandas.core.frame.DataFrame'>\n",
      "RangeIndex: 8759 entries, 0 to 8758\n",
      "Data columns (total 15 columns):\n",
      " #   Column            Non-Null Count  Dtype  \n",
      "---  ------            --------------  -----  \n",
      " 0   ts                8759 non-null   float64\n",
      " 1   arr_e_req         8758 non-null   float64\n",
      " 2   client_bill       8758 non-null   float64\n",
      " 3   assigned_type     8758 non-null   object \n",
      " 4   realized_type     8758 non-null   object \n",
      " 5   fail_time         8758 non-null   float64\n",
      " 6   fail_energy1      8758 non-null   float64\n",
      " 7   fail_energy2      8758 non-null   float64\n",
      " 8   fail_energy_both  8758 non-null   float64\n",
      " 9   fail_IR           8758 non-null   float64\n",
      " 10  chg_e_req         8758 non-null   float64\n",
      " 11  imbalance_bill    8758 non-null   float64\n",
      " 12  n_cars            8758 non-null   float64\n",
      " 13  avg_lax           8758 non-null   float64\n",
      " 14  payoff            8758 non-null   float64\n",
      "dtypes: float64(13), object(2)\n",
      "memory usage: 1.0+ MB\n"
     ]
    },
    {
     "data": {
      "text/plain": [
       "None"
      ]
     },
     "metadata": {},
     "output_type": "display_data"
    },
    {
     "name": "stdout",
     "output_type": "stream",
     "text": [
      "transf_oracle=6,704.19€\n",
      "client_bill=40,033.96€\n",
      "payoff_bill=1,535.11€\n"
     ]
    }
   ],
   "source": [
    "\n",
    "df_oracle, lines = load_res(\"2023-09-13-08:59:05_ev_world_Oracle\")\n",
    "\n",
    "for line in lines: print(line, end=\"\")\n",
    "display(df_oracle.info())\n",
    "transf_oracle = df_oracle[\"imbalance_bill\"].sum()  \n",
    "print(f\"{transf_oracle=:,.2f}€\")\n",
    "client_bill = df_oracle[\"client_bill\"].sum()\n",
    "print(f\"{client_bill=:,.2f}€\")\n",
    "payoff_bill = df_oracle[\"payoff\"].sum()\n",
    "print(f\"{payoff_bill=:,.2f}€\")"
   ]
  },
  {
   "cell_type": "code",
   "execution_count": 11,
   "metadata": {},
   "outputs": [
    {
     "name": "stdout",
     "output_type": "stream",
     "text": [
      "timestamp: 2023-09-14-17:58:22\n",
      "\n",
      "--Info\n",
      "title: EvWorld Oracle\n",
      "\n",
      "--Args\n",
      "print_dash: False\n",
      "no_save: False\n",
      "save_contracts: False\n",
      "agent: Oracle\n",
      "desc: \n",
      "seed: 42\n",
      "file_price: df_price_2019.csv\n",
      "file_contracts: ExpLogs/2023-09-13-15:25:05_Contracts_ev_world_Optim.csv\n",
      "file_sessions: df_elaad_preproc.csv\n",
      "<class 'pandas.core.frame.DataFrame'>\n",
      "RangeIndex: 8759 entries, 0 to 8758\n",
      "Data columns (total 15 columns):\n",
      " #   Column            Non-Null Count  Dtype  \n",
      "---  ------            --------------  -----  \n",
      " 0   ts                8759 non-null   float64\n",
      " 1   arr_e_req         8758 non-null   float64\n",
      " 2   client_bill       8758 non-null   float64\n",
      " 3   assigned_type     8758 non-null   object \n",
      " 4   realized_type     8758 non-null   object \n",
      " 5   fail_time         8758 non-null   float64\n",
      " 6   fail_energy1      8758 non-null   float64\n",
      " 7   fail_energy2      8758 non-null   float64\n",
      " 8   fail_energy_both  8758 non-null   float64\n",
      " 9   fail_IR           8758 non-null   float64\n",
      " 10  chg_e_req         8758 non-null   float64\n",
      " 11  imbalance_bill    8758 non-null   float64\n",
      " 12  n_cars            8758 non-null   float64\n",
      " 13  avg_lax           8758 non-null   float64\n",
      " 14  payoff            8758 non-null   float64\n",
      "dtypes: float64(13), object(2)\n",
      "memory usage: 1.0+ MB\n"
     ]
    },
    {
     "data": {
      "text/plain": [
       "None"
      ]
     },
     "metadata": {},
     "output_type": "display_data"
    },
    {
     "name": "stdout",
     "output_type": "stream",
     "text": [
      "transf_oracle=6,704.19€\n",
      "client_bill=40,033.96€\n",
      "payoff_bill=1,535.11€\n"
     ]
    }
   ],
   "source": [
    "df_oracle, lines = load_res(\"2023-09-14-17:58:22_ev_world_Oracle\")\n",
    "\n",
    "for line in lines: print(line, end=\"\")\n",
    "display(df_oracle.info())\n",
    "transf_oracle = df_oracle[\"imbalance_bill\"].sum()  \n",
    "print(f\"{transf_oracle=:,.2f}€\")\n",
    "client_bill = df_oracle[\"client_bill\"].sum()\n",
    "print(f\"{client_bill=:,.2f}€\")\n",
    "payoff_bill = df_oracle[\"payoff\"].sum()\n",
    "print(f\"{payoff_bill=:,.2f}€\")"
   ]
  },
  {
   "cell_type": "code",
   "execution_count": null,
   "metadata": {},
   "outputs": [],
   "source": []
  }
 ],
 "metadata": {
  "kernelspec": {
   "display_name": "env_marlvr",
   "language": "python",
   "name": "env_marlvr"
  },
  "language_info": {
   "codemirror_mode": {
    "name": "ipython",
    "version": 3
   },
   "file_extension": ".py",
   "mimetype": "text/x-python",
   "name": "python",
   "nbconvert_exporter": "python",
   "pygments_lexer": "ipython3",
   "version": "3.8.10"
  },
  "orig_nbformat": 4
 },
 "nbformat": 4,
 "nbformat_minor": 2
}

{
 "cells": [
  {
   "cell_type": "code",
   "execution_count": 1,
   "metadata": {},
   "outputs": [],
   "source": [
    "from utils import * \n",
    "import pandas as pd\n",
    "import numpy as np\n",
    "import matplotlib.pyplot as plt\n",
    "import ast\n",
    "import math"
   ]
  },
  {
   "cell_type": "code",
   "execution_count": 9,
   "metadata": {},
   "outputs": [
    {
     "name": "stdout",
     "output_type": "stream",
     "text": [
      "[[407. 422. 420. 377. 386.]\n",
      " [412. 425. 396. 424. 371.]\n",
      " [425. 382. 405. 410. 411.]\n",
      " [404. 383. 414. 415. 394.]\n",
      " [385. 387. 378. 372. 392.]]\n",
      "-----\n",
      "[[1042.    0.  678.  303.   88.]\n",
      " [ 815.    0.  633.  351.   82.]\n",
      " [ 391.    0.  289.  271.  101.]\n",
      " [ 204.    0.  199.  255.   79.]\n",
      " [  78.   87.   92.  100.   69.]]\n",
      "-----\n",
      "3790.0\n"
     ]
    }
   ],
   "source": [
    "#df_exp, lines = load_res(\"2023-09-11-18:19:52_ev_world_Optim\")\n",
    "df_exp, lines = load_res(\"2023-11-21-19:05:57_ev_world_Optim\")\n",
    "agg_assigned_contracts = []\n",
    "agg_realized_contracts = []\n",
    "i = 0\n",
    "for row in df_exp.itertuples():\n",
    "    if not (type(row.realized_type) == float and math.isnan(row.realized_type)):\n",
    "        str_assigned_type = row.assigned_type.replace(\" \", \",\")\n",
    "        str_realized_type = row.realized_type.replace(\" \", \",\")\n",
    "        agg_assigned_contracts.append(ast.literal_eval(str_assigned_type))\n",
    "        agg_realized_contracts.append(ast.literal_eval(str_realized_type))\n",
    "exp_assigned_contracts = np.array(agg_assigned_contracts).sum(axis=0)\n",
    "exp_realized_contracts = np.array(agg_realized_contracts).sum(axis=0)\n",
    "print(exp_assigned_contracts)\n",
    "print(\"-----\")\n",
    "print(exp_realized_contracts)\n",
    "print(\"-----\")\n",
    "print(exp_assigned_contracts.sum()-exp_realized_contracts.sum())\n"
   ]
  },
  {
   "cell_type": "code",
   "execution_count": null,
   "metadata": {},
   "outputs": [],
   "source": []
  }
 ],
 "metadata": {
  "kernelspec": {
   "display_name": "env_marlvr",
   "language": "python",
   "name": "env_marlvr"
  },
  "language_info": {
   "codemirror_mode": {
    "name": "ipython",
    "version": 3
   },
   "file_extension": ".py",
   "mimetype": "text/x-python",
   "name": "python",
   "nbconvert_exporter": "python",
   "pygments_lexer": "ipython3",
   "version": "3.8.10"
  }
 },
 "nbformat": 4,
 "nbformat_minor": 2
}

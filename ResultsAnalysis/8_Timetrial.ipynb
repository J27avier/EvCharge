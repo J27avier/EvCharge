{
 "cells": [
  {
   "cell_type": "code",
   "execution_count": 77,
   "metadata": {},
   "outputs": [],
   "source": [
    "import numpy as np\n",
    "import pandas as pd\n",
    "import matplotlib.pyplot as plt\n"
   ]
  },
  {
   "cell_type": "code",
   "execution_count": 78,
   "metadata": {},
   "outputs": [],
   "source": [
    "files = [\"time_asap.txt\",\"time_SACLL.txt\", \"time_SACPF.txt\", \"time_nov2g.txt\", \"time_optim.txt\"]\n",
    "agents = [\"No-Control\", \"Agg. SAC LL\", \"Agg. SAC PF\", \"No-V2G\", \"LP-V2G\"]"
   ]
  },
  {
   "cell_type": "code",
   "execution_count": 79,
   "metadata": {},
   "outputs": [],
   "source": [
    "i = 0\n",
    "data = []\n",
    "\n",
    "for i in range(len(files)):\n",
    "    name = agents[i]\n",
    "    with open(f\"../time/{files[i]}\", \"r\") as file:\n",
    "        lines = file.readlines()\n",
    "        for line in lines:\n",
    "            if \"real\" in line:\n",
    "                time_fmt = line.split(\"\\t\")[1].strip()\n",
    "                minutes = float(time_fmt.split(\"m\")[0])\n",
    "                seconds = float(time_fmt.split(\"m\")[1].split(\"s\")[0])\n",
    "                time = minutes + seconds / 60\n",
    "                data.append([name, time])\n",
    "\n",
    "df_time = pd.DataFrame(data, columns=[\"Agent\", \"Time\"])\n"
   ]
  },
  {
   "cell_type": "code",
   "execution_count": 80,
   "metadata": {},
   "outputs": [
    {
     "data": {
      "text/html": [
       "<div>\n",
       "<style scoped>\n",
       "    .dataframe tbody tr th:only-of-type {\n",
       "        vertical-align: middle;\n",
       "    }\n",
       "\n",
       "    .dataframe tbody tr th {\n",
       "        vertical-align: top;\n",
       "    }\n",
       "\n",
       "    .dataframe thead th {\n",
       "        text-align: right;\n",
       "    }\n",
       "</style>\n",
       "<table border=\"1\" class=\"dataframe\">\n",
       "  <thead>\n",
       "    <tr style=\"text-align: right;\">\n",
       "      <th></th>\n",
       "      <th>Agent</th>\n",
       "      <th>Time</th>\n",
       "    </tr>\n",
       "  </thead>\n",
       "  <tbody>\n",
       "    <tr>\n",
       "      <th>0</th>\n",
       "      <td>No-Control</td>\n",
       "      <td>0.840800</td>\n",
       "    </tr>\n",
       "    <tr>\n",
       "      <th>1</th>\n",
       "      <td>No-Control</td>\n",
       "      <td>0.850767</td>\n",
       "    </tr>\n",
       "    <tr>\n",
       "      <th>2</th>\n",
       "      <td>No-Control</td>\n",
       "      <td>0.840233</td>\n",
       "    </tr>\n",
       "    <tr>\n",
       "      <th>3</th>\n",
       "      <td>No-Control</td>\n",
       "      <td>0.856550</td>\n",
       "    </tr>\n",
       "    <tr>\n",
       "      <th>4</th>\n",
       "      <td>No-Control</td>\n",
       "      <td>0.857733</td>\n",
       "    </tr>\n",
       "    <tr>\n",
       "      <th>5</th>\n",
       "      <td>Agg. SAC LL</td>\n",
       "      <td>2.300233</td>\n",
       "    </tr>\n",
       "  </tbody>\n",
       "</table>\n",
       "</div>"
      ],
      "text/plain": [
       "         Agent      Time\n",
       "0   No-Control  0.840800\n",
       "1   No-Control  0.850767\n",
       "2   No-Control  0.840233\n",
       "3   No-Control  0.856550\n",
       "4   No-Control  0.857733\n",
       "5  Agg. SAC LL  2.300233"
      ]
     },
     "execution_count": 80,
     "metadata": {},
     "output_type": "execute_result"
    }
   ],
   "source": [
    "df_time.head(6)"
   ]
  },
  {
   "cell_type": "code",
   "execution_count": 81,
   "metadata": {},
   "outputs": [
    {
     "data": {
      "text/html": [
       "<div>\n",
       "<style scoped>\n",
       "    .dataframe tbody tr th:only-of-type {\n",
       "        vertical-align: middle;\n",
       "    }\n",
       "\n",
       "    .dataframe tbody tr th {\n",
       "        vertical-align: top;\n",
       "    }\n",
       "\n",
       "    .dataframe thead th {\n",
       "        text-align: right;\n",
       "    }\n",
       "</style>\n",
       "<table border=\"1\" class=\"dataframe\">\n",
       "  <thead>\n",
       "    <tr style=\"text-align: right;\">\n",
       "      <th></th>\n",
       "      <th>Time</th>\n",
       "    </tr>\n",
       "    <tr>\n",
       "      <th>Agent</th>\n",
       "      <th></th>\n",
       "    </tr>\n",
       "  </thead>\n",
       "  <tbody>\n",
       "    <tr>\n",
       "      <th>Agg. SAC LL</th>\n",
       "      <td>2.308163</td>\n",
       "    </tr>\n",
       "    <tr>\n",
       "      <th>Agg. SAC PF</th>\n",
       "      <td>2.907213</td>\n",
       "    </tr>\n",
       "    <tr>\n",
       "      <th>LP-V2G</th>\n",
       "      <td>22.779877</td>\n",
       "    </tr>\n",
       "    <tr>\n",
       "      <th>No-Control</th>\n",
       "      <td>0.849217</td>\n",
       "    </tr>\n",
       "    <tr>\n",
       "      <th>No-V2G</th>\n",
       "      <td>18.357873</td>\n",
       "    </tr>\n",
       "  </tbody>\n",
       "</table>\n",
       "</div>"
      ],
      "text/plain": [
       "                  Time\n",
       "Agent                 \n",
       "Agg. SAC LL   2.308163\n",
       "Agg. SAC PF   2.907213\n",
       "LP-V2G       22.779877\n",
       "No-Control    0.849217\n",
       "No-V2G       18.357873"
      ]
     },
     "execution_count": 81,
     "metadata": {},
     "output_type": "execute_result"
    }
   ],
   "source": [
    "gdf_time = df_time.groupby(\"Agent\").mean()\n",
    "gdf_time.head()"
   ]
  },
  {
   "cell_type": "code",
   "execution_count": 82,
   "metadata": {},
   "outputs": [
    {
     "data": {
      "image/png": "[encoded data removed]",
      "text/plain": [
       "<Figure size 576x432 with 1 Axes>"
      ]
     },
     "metadata": {
      "needs_background": "light"
     },
     "output_type": "display_data"
    }
   ],
   "source": [
    "fig1 = plt.figure(figsize = (8,6))\n",
    "ax1 = fig1.add_subplot(111)\n",
    "fontsize = 12\n",
    "\n",
    "for i, agent in enumerate(agents):\n",
    "    times = df_time[df_time[\"Agent\"] == agent][\"Time\"].values\n",
    "    ax1.bar(i, times.mean(), yerr = (times.max()-times.min())/2, lw = 1, edgecolor = \"black\", capsize = 5, color = \"lightslategray\")\n",
    "    ax1.text(i, times.mean() + 0.5, f\"{times.mean():.2f}\", ha = \"center\", fontsize = fontsize)\n",
    "\n",
    "ax1.set_xticks(range(len(agents)))\n",
    "ax1.set_xticklabels(agents, fontsize = fontsize, rotation = 0)\n",
    "ax1.set_yticks(np.arange(0, 25, 4))\n",
    "ax1.set_ylabel(\"Time (min.)\", fontsize = fontsize + 4)\n",
    "ax1.set_ylim([0, 25])\n",
    "\n",
    "fig1.savefig(\"/home/javier/Documents/Escuela/SCRG/notes-scrg/writeups/Thesis-MsC/647584cd16a82b116e63ba95/img/agents_timetrial.pdf\", dpi = 1200, bbox_inches='tight')"
   ]
  },
  {
   "cell_type": "code",
   "execution_count": null,
   "metadata": {},
   "outputs": [],
   "source": []
  }
 ],
 "metadata": {
  "kernelspec": {
   "display_name": "env_marlvr",
   "language": "python",
   "name": "env_marlvr"
  },
  "language_info": {
   "codemirror_mode": {
    "name": "ipython",
    "version": 3
   },
   "file_extension": ".py",
   "mimetype": "text/x-python",
   "name": "python",
   "nbconvert_exporter": "python",
   "pygments_lexer": "ipython3",
   "version": "3.8.10"
  }
 },
 "nbformat": 4,
 "nbformat_minor": 2
}

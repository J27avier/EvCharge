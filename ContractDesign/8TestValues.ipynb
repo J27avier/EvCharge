{
 "cells": [
  {
   "cell_type": "code",
   "execution_count": 2,
   "metadata": {},
   "outputs": [],
   "source": [
    "import numpy as np\n",
    "import cvxpy as cp\n",
    "import matplotlib.pyplot as plt\n",
    "import matplotlib.lines as plt_lines\n",
    "from time_contracts import *\n",
    "from itertools import product\n",
    "import pandas as pd\n",
    "import seaborn as sns\n",
    "from matplotlib.patches import Rectangle\n",
    "from matplotlib.colors import LightSource\n",
    "from matplotlib import cm\n",
    "import matplotlib.colors as plt_colors"
   ]
  },
  {
   "cell_type": "code",
   "execution_count": 5,
   "metadata": {},
   "outputs": [
    {
     "name": "stdout",
     "output_type": "stream",
     "text": [
      "G\n",
      "[[0.29108015 0.40538145 0.60538478]\n",
      " [0.3139234  0.4282247  0.62822804]\n",
      " [0.35391854 0.46821985 0.66822318]]\n",
      "\n",
      "W\n",
      "[ 4.71536088  6.9996857  12.33237161]\n",
      "\n",
      "L\n",
      "[1.85710511 3.00011813 5.6668292 ]\n",
      "------------------------\n",
      "G\n",
      "[[0.37999572 0.44666239 0.54666239 0.66666251 0.7666626 ]\n",
      " [0.57999445 0.64666113 0.74666115 0.86666128 0.9666614 ]\n",
      " [0.67999984 0.74666653 0.84666656 0.9666667  1.06666684]\n",
      " [0.94664462 1.01331132 1.11331136 1.23331151 1.33331167]\n",
      " [1.21331492 1.27998164 1.37998169 1.49998185 1.59998203]\n",
      " [1.47994471 1.54661147 1.64661153 1.76661171 1.8666119 ]]\n",
      "\n",
      "W\n",
      "[ 13.99978586  28.99969039  39.00022893  78.99694492 132.33100342\n",
      " 198.98844423]\n",
      "\n",
      "L\n",
      "[ 1.          2.          4.          7.00000257 10.00000462]\n",
      "------------------------\n",
      "G\n",
      "[[0.4533654  0.70336161 1.10335955]\n",
      " [0.5866496  0.83664581 1.23664376]\n",
      " [0.71997882 0.96997503 1.36997298]]\n",
      "\n",
      "W\n",
      "[19.00311081 32.33153067 48.99768233]\n",
      "\n",
      "L\n",
      "[ 1.9999059   6.99983005 22.99974741]\n"
     ]
    }
   ],
   "source": [
    "G, W, L =  general_contracts(my_print=True)\n",
    "print('------------------------')\n",
    "#G, W, L =  general_contracts(thetas_i = [0.5, 0.75, 1, 1.5, 2, 2.5], thetas_j=[0.5, 0.75, 1, 1.5, 2], c1=0.01, c2=0.05, kappa1 = 0.1, kappa2 = 0.4, my_print=True, integer=True)\n",
    "G, W, L =  general_contracts(thetas_i = [0.5, 0.75, 1, 1.5, 2, 2.5], thetas_j=[0.5, 0.75, 1, 1.25, 1.5], c1=0.01, c2=0.05, kappa1 = 0.8, kappa2 = 0.35, my_print=True, integer=True)\n",
    "#G, W, L =  general_contracts(thetas_i = [0.666, 0.8, 1, 1.333, 2], thetas_j=[0.666, 0.8, 1, 1.333, 2], c1=0.01, c2=0.05, kappa1 = 0.05, kappa2 = 0.6, my_print=True, integer=True)\n",
    "print('------------------------')\n",
    "G, W, L =  general_contracts(thetas_i = [0.75, 1, 1.25] , thetas_j=[0.5, 1, 2], c1=0.01, c2=0.05, kappa1 = 0.4, kappa2 = 0.6, my_print=True, integer=False)\n",
    "#G, W, L =  general_contracts(thetas_i = [0.75, 1, 1.25] , thetas_j=[0.5, 1, 2], c1=0.01, c2=0.05, kappa1 = 0.4, kappa2 = 0.6, my_print=True, integer=True)"
   ]
  },
  {
   "cell_type": "code",
   "execution_count": 13,
   "metadata": {},
   "outputs": [
    {
     "name": "stdout",
     "output_type": "stream",
     "text": [
      "G\n",
      "[[0.17501071 0.23216398 0.33217532]\n",
      " [0.19785238 0.25500565 0.355017  ]\n",
      " [0.2378463  0.29499958 0.39501092]]\n",
      "\n",
      "W\n",
      "[ 4.71538471  6.99955174 12.33207501]\n",
      "\n",
      "L\n",
      "[1.8570944  3.00015986 5.66712889]\n"
     ]
    }
   ],
   "source": [
    "\n",
    "G, W, L =  general_contracts(c2 = 0.05, kappa2 = 0.25, my_print=True)"
   ]
  }
 ],
 "metadata": {
  "kernelspec": {
   "display_name": "env_marlvr",
   "language": "python",
   "name": "env_marlvr"
  },
  "language_info": {
   "codemirror_mode": {
    "name": "ipython",
    "version": 3
   },
   "file_extension": ".py",
   "mimetype": "text/x-python",
   "name": "python",
   "nbconvert_exporter": "python",
   "pygments_lexer": "ipython3",
   "version": "3.8.10"
  }
 },
 "nbformat": 4,
 "nbformat_minor": 2
}

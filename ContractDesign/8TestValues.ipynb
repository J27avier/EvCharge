{
 "cells": [
  {
   "cell_type": "code",
   "execution_count": 2,
   "metadata": {},
   "outputs": [],
   "source": [
    "import numpy as np\n",
    "import cvxpy as cp\n",
    "import matplotlib.pyplot as plt\n",
    "import matplotlib.lines as plt_lines\n",
    "from time_contracts import *\n",
    "from itertools import product\n",
    "import pandas as pd\n",
    "import seaborn as sns\n",
    "from matplotlib.patches import Rectangle\n",
    "from matplotlib.colors import LightSource\n",
    "from matplotlib import cm\n",
    "import matplotlib.colors as plt_colors"
   ]
  },
  {
   "cell_type": "code",
   "execution_count": 8,
   "metadata": {},
   "outputs": [
    {
     "name": "stdout",
     "output_type": "stream",
     "text": [
      "G\n",
      "[[0.19500247 0.25750736 0.34083724 0.46583479 0.71581439]\n",
      " [0.20749784 0.27000273 0.35333262 0.47833017 0.72830977]\n",
      " [0.22416459 0.28666948 0.36999936 0.49499691 0.74497651]\n",
      " [0.24916538 0.31167027 0.39500015 0.5199977  0.7699773 ]\n",
      " [0.29916117 0.36166606 0.44499595 0.5699935  0.8199731 ]]\n",
      "\n",
      "W\n",
      "[ 3.00023105  3.99986112  5.66653565  8.99997435 18.99913319]\n",
      "\n",
      "L\n",
      "[0.99999335 1.50003246 2.33333132 3.99996528 8.9995573 ]\n"
     ]
    }
   ],
   "source": [
    "G, W, L =  general_contracts(my_print=True, thetas_i = [1/1.5, 1/1.25, 1/1, 1/0.75, 1/0.5], thetas_j = [1/1.5, 1/1.25, 1/1, 1/0.75, 1/0.5])\n",
    "\n",
    "#G, W, L =  general_contracts(kappa1 = 0.1, kappa2 = 0.4, my_print=True)"
   ]
  }
 ],
 "metadata": {
  "kernelspec": {
   "display_name": "env_marlvr",
   "language": "python",
   "name": "env_marlvr"
  },
  "language_info": {
   "codemirror_mode": {
    "name": "ipython",
    "version": 3
   },
   "file_extension": ".py",
   "mimetype": "text/x-python",
   "name": "python",
   "nbconvert_exporter": "python",
   "pygments_lexer": "ipython3",
   "version": "3.8.10"
  }
 },
 "nbformat": 4,
 "nbformat_minor": 2
}

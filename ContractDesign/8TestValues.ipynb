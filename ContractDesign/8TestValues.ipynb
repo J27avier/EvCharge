{
 "cells": [
  {
   "cell_type": "code",
   "execution_count": 1,
   "metadata": {},
   "outputs": [],
   "source": [
    "import numpy as np\n",
    "import cvxpy as cp\n",
    "import matplotlib.pyplot as plt\n",
    "import matplotlib.lines as plt_lines\n",
    "from time_contracts import *\n",
    "from itertools import product\n",
    "import pandas as pd\n",
    "import seaborn as sns\n",
    "from matplotlib.patches import Rectangle\n",
    "from matplotlib.colors import LightSource\n",
    "from matplotlib import cm\n",
    "import matplotlib.colors as plt_colors"
   ]
  },
  {
   "cell_type": "code",
   "execution_count": 9,
   "metadata": {},
   "outputs": [
    {
     "data": {
      "text/plain": [
       "[0.6666666666666666, 0.8, 1, 1.3333333333333333, 2.0]"
      ]
     },
     "execution_count": 9,
     "metadata": {},
     "output_type": "execute_result"
    }
   ],
   "source": [
    "[1/1.5, 1/1.25, 1, 1/0.75, 1/0.5]"
   ]
  },
  {
   "cell_type": "code",
   "execution_count": 16,
   "metadata": {},
   "outputs": [
    {
     "name": "stdout",
     "output_type": "stream",
     "text": [
      "G\n",
      "[[0.29108015 0.40538145 0.60538478]\n",
      " [0.3139234  0.4282247  0.62822804]\n",
      " [0.35391854 0.46821985 0.66822318]]\n",
      "\n",
      "W\n",
      "[ 4.71536088  6.9996857  12.33237161]\n",
      "\n",
      "L\n",
      "[1.85710511 3.00011813 5.6668292 ]\n",
      "------------------------\n",
      "G\n",
      "[[0.11749908 0.18416575 0.28416575 0.45083241 0.60083241]\n",
      " [0.14249791 0.20916458 0.30916458 0.47583125 0.62583125]\n",
      " [0.15500012 0.22166678 0.32166678 0.48833345 0.63833345]\n",
      " [0.18832983 0.2549965  0.3549965  0.52166317 0.67166317]\n",
      " [0.22166335 0.28833002 0.38833002 0.55499669 0.70499669]\n",
      " [0.25499365 0.32166031 0.42166032 0.58832698 0.73832698]]\n",
      "\n",
      "W\n",
      "[ 0.87495402  2.7498663   4.00008689  8.99954443 15.66624835 23.99882139]\n",
      "\n",
      "L\n",
      "[ 1.  2.  4.  9. 15.]\n"
     ]
    }
   ],
   "source": [
    "G, W, L =  general_contracts(my_print=True)\n",
    "print('------------------------')\n",
    "G, W, L =  general_contracts(thetas_i = [0.5, 0.75, 1, 1.5, 2, 2.5], thetas_j=[0.5, 0.75, 1, 1.5, 2], c1=0.01, c2=0.05, kappa1 = 0.1, kappa2 = 0.4, my_print=True, integer=True)"
   ]
  }
 ],
 "metadata": {
  "kernelspec": {
   "display_name": "env_marlvr",
   "language": "python",
   "name": "env_marlvr"
  },
  "language_info": {
   "codemirror_mode": {
    "name": "ipython",
    "version": 3
   },
   "file_extension": ".py",
   "mimetype": "text/x-python",
   "name": "python",
   "nbconvert_exporter": "python",
   "pygments_lexer": "ipython3",
   "version": "3.8.10"
  }
 },
 "nbformat": 4,
 "nbformat_minor": 2
}

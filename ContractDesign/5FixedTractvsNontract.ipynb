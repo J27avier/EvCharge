{
 "cells": [
  {
   "attachments": {},
   "cell_type": "markdown",
   "metadata": {},
   "source": [
    "# Fixed term tractable vs non-tractable\n",
    "\n",
    "The purpose of this program is to measure the numerical difference between the tractable and non-tractable formulations of fixed term contracts.\n",
    "This is because we are doing the same thing with varable term contracts.\n",
    "By seeing how much the two formulations (which have been mathematically proven to be equivalent) differ, we can gain insight if the two formulations of variable term contracts are equivalent"
   ]
  },
  {
   "cell_type": "code",
   "execution_count": 8,
   "metadata": {},
   "outputs": [],
   "source": [
    "import numpy as np\n",
    "import cvxpy as cp\n",
    "import pandas as pd\n",
    "from math import floor, log10, isclose\n",
    "import matplotlib.pyplot as plt\n",
    "from contracts import get_contract, l_transpose, get_contract_non_tract, get_contract_saidur, get_contract_customtypes\n",
    "from sensitivity import sensitivity_experiment, expand_results, plot_sensitivity\n",
    "from tabulate import tabulate\n",
    "from tqdm.notebook import tqdm\n",
    "pd.set_option('display.max_rows', 500)\n",
    "pd.set_option('display.width', 1000)\n",
    "pd.set_option('display.max_columns', None)\n",
    "pd.set_option('display.expand_frame_repr', False)\n",
    "pd.set_option('max_colwidth', None)"
   ]
  },
  {
   "cell_type": "code",
   "execution_count": 12,
   "metadata": {},
   "outputs": [
    {
     "data": {
      "application/vnd.jupyter.widget-view+json": {
       "model_id": "0a2cbb30e5f646aaa9052da2fbee52fe",
       "version_major": 2,
       "version_minor": 0
      },
      "text/plain": [
       "  0%|          | 0/20 [00:00<?, ?it/s]"
      ]
     },
     "metadata": {},
     "output_type": "display_data"
    }
   ],
   "source": [
    "types = list(range(1,21))\n",
    "gammas = [0.05, 0.1, 0.5, 1]\n",
    "trials = 5\n",
    "l_err_abs_g = []\n",
    "l_err_abs_w = []\n",
    "l_err_rel_g = []\n",
    "l_err_rel_w = []\n",
    "\n",
    "for num_types in tqdm(types):\n",
    "    for gamma in gammas:\n",
    "        for trial in range(trials):\n",
    "            G_t, W_t = get_contract(num_types)\n",
    "            G_n, W_n = get_contract_non_tract(num_types)\n",
    "            err_rel_g = np.linalg.norm(G_t - G_n)/np.linalg.norm(G_t)\n",
    "            err_rel_w = np.linalg.norm(W_t - W_n)/np.linalg.norm(W_t)\n",
    "            l_err_rel_g.append(err_rel_g)\n",
    "            l_err_rel_w.append(err_rel_w)\n",
    "            l_err_abs_g.append(np.linalg.norm(G_t - G_n))\n",
    "            l_err_abs_w.append(np.linalg.norm(W_t - W_n))"
   ]
  },
  {
   "cell_type": "code",
   "execution_count": 13,
   "metadata": {},
   "outputs": [
    {
     "name": "stdout",
     "output_type": "stream",
     "text": [
      "Mean Absolute Error in G:  1.1859243933774052e-05\n",
      "Mean Absolute Error in W:  0.010623784795236943\n",
      "Mean Relative Error in G:  0.00013405313109107975\n",
      "Mean Relative Error in W:  0.00014914660042091463\n"
     ]
    },
    {
     "data": {
      "image/png": "[encoded data removed]",
      "text/plain": [
       "<Figure size 720x360 with 4 Axes>"
      ]
     },
     "metadata": {
      "needs_background": "light"
     },
     "output_type": "display_data"
    }
   ],
   "source": [
    "fig1 = plt.figure(figsize=(10,5))\n",
    "ax1 = fig1.add_subplot(2,2,1)\n",
    "ax2 = fig1.add_subplot(2,2,2) \n",
    "ax3 = fig1.add_subplot(2,2,3)\n",
    "ax4 = fig1.add_subplot(2,2,4)\n",
    "\n",
    "ax1.hist(l_err_abs_g, bins=100)\n",
    "ax1.set_title(\"Absolute Error in G\")\n",
    "ax2.hist(l_err_abs_w, bins=100)\n",
    "ax2.set_title(\"Absolute Error in W\")\n",
    "ax3.hist(l_err_rel_g, bins=100)\n",
    "ax3.set_title(\"Relative Error in G\")\n",
    "ax4.hist(l_err_rel_w, bins=100)\n",
    "ax4.set_title(\"Relative Error in W\")\n",
    "fig1.tight_layout()\n",
    "print(\"Mean Absolute Error in G: \", np.mean(l_err_abs_g))\n",
    "print(\"Mean Absolute Error in W: \", np.mean(l_err_abs_w))\n",
    "print(\"Mean Relative Error in G: \", np.mean(l_err_rel_g))\n",
    "print(\"Mean Relative Error in W: \", np.mean(l_err_rel_w))\n"
   ]
  },
  {
   "attachments": {},
   "cell_type": "markdown",
   "metadata": {},
   "source": [
    "One important thing that I notice here is that the errors in fixed-term variable contracts seem more \"uniformly distributed\", whereas the ones in variable term contracts are more \"exponentially distributed\". However, this could be due to the fact that that the only parameter that we modified is the number of types, not the value of the types, and gamma."
   ]
  },
  {
   "attachments": {},
   "cell_type": "markdown",
   "metadata": {},
   "source": []
  }
 ],
 "metadata": {
  "kernelspec": {
   "display_name": "env_marlvr",
   "language": "python",
   "name": "env_marlvr"
  },
  "language_info": {
   "codemirror_mode": {
    "name": "ipython",
    "version": 3
   },
   "file_extension": ".py",
   "mimetype": "text/x-python",
   "name": "python",
   "nbconvert_exporter": "python",
   "pygments_lexer": "ipython3",
   "version": "3.8.10"
  },
  "orig_nbformat": 4
 },
 "nbformat": 4,
 "nbformat_minor": 2
}

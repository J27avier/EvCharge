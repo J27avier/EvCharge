{
 "cells": [
  {
   "cell_type": "markdown",
   "id": "b7de1e4f-9509-4463-8e93-360f9b725132",
   "metadata": {},
   "source": [
    "# Modelling arrivals and departures of EVs as a Poisson distribution "
   ]
  },
  {
   "cell_type": "code",
   "execution_count": 17,
   "id": "81574b2f-8c35-40d4-a847-f9d9c9476274",
   "metadata": {},
   "outputs": [],
   "source": [
    "import matplotlib.pyplot as plt\n",
    "import pandas as pd\n",
    "import numpy as np\n",
    "import time\n",
    "import json\n",
    "import datetime\n",
    "from IPython.display import clear_output\n",
    "\n",
    "pd.set_option('display.max_rows', 500)"
   ]
  },
  {
   "cell_type": "code",
   "execution_count": 18,
   "id": "dc760274-64bc-4178-9b6c-5f9b69c9b9cc",
   "metadata": {},
   "outputs": [],
   "source": [
    "# Parameters\n",
    "columns = ['_id', 'clusterID', 'connectionTime', 'disconnectTime',\n",
    "           'doneChargingTime', 'kWhDelivered', 'sessionID', 'siteID',\n",
    "           'spaceID', 'stationID', 'timezone', 'userID'] #, 'userInputs']"
   ]
  },
  {
   "cell_type": "code",
   "execution_count": 19,
   "id": "adb470f7-0a92-4f37-b18f-30c5a0b61183",
   "metadata": {},
   "outputs": [],
   "source": [
    "with open(\"data/acndata_sessions.json\", \"r\") as read_file:\n",
    "    data1 = json.loads(read_file.read())\n",
    "with open(\"data/acndata_sessions_2.json\", \"r\") as read_file:\n",
    "    data2 = json.loads(read_file.read())"
   ]
  },
  {
   "cell_type": "code",
   "execution_count": 20,
   "id": "f06b5da4-0d87-4d95-a6ad-d0cd9e36cee9",
   "metadata": {},
   "outputs": [
    {
     "name": "stdout",
     "output_type": "stream",
     "text": [
      "Wed, 25 Apr 2018 11:08:04 GMT\n",
      "Tue, 12 Mar 2019 15:22:54 GMT\n"
     ]
    }
   ],
   "source": [
    "i = 0\n",
    "data1[\"_items\"][i][\"_id\"]\n",
    "print(data1[\"_items\"][0][\"connectionTime\"])\n",
    "print(data1[\"_items\"][17530][\"connectionTime\"])"
   ]
  },
  {
   "cell_type": "code",
   "execution_count": 21,
   "id": "d6954ea4-4332-47f0-bcd2-26c483caabdc",
   "metadata": {},
   "outputs": [
    {
     "name": "stdout",
     "output_type": "stream",
     "text": [
      "17531\n",
      "15087\n"
     ]
    }
   ],
   "source": [
    "print(len(data1[\"_items\"]))\n",
    "print(len(data2[\"_items\"]))"
   ]
  },
  {
   "cell_type": "code",
   "execution_count": 22,
   "id": "67a5f99c-0848-4feb-92b9-fe9042f9bd71",
   "metadata": {},
   "outputs": [],
   "source": [
    "def load_acnJSON(columns, file_path):\n",
    "    with open(file_path, \"r\") as read_file:\n",
    "        data = json.loads(read_file.read())\n",
    "    dict_data = dict.fromkeys(columns)\n",
    "    for key in dict_data.keys():\n",
    "        dict_data[key] = []\n",
    "        \n",
    "    for session in data[\"_items\"]:\n",
    "        for col in columns:\n",
    "            dict_data[col].append(session[col])\n",
    "        \n",
    "    df = pd.DataFrame.from_dict(dict_data)\n",
    "    return df\n",
    "        \n",
    "# Loading data in two overlapping files due to ACN's server's constraints\n",
    "df1 = load_acnJSON(columns, \"data/acndata_sessions.json\")  \n",
    "df2 = load_acnJSON(columns, \"data/acndata_sessions_2.json\")"
   ]
  },
  {
   "cell_type": "code",
   "execution_count": 23,
   "id": "8b6f5e62-f89d-4523-b93e-3b97cf795a18",
   "metadata": {},
   "outputs": [
    {
     "name": "stdout",
     "output_type": "stream",
     "text": [
      "id1: (unique, count) 17531 17531\n",
      "id2: (unique, count) 15087 15087\n",
      "ids: (unique, count) 31424 32618\n"
     ]
    }
   ],
   "source": [
    "# In WebClient id2 should be 15,087\n",
    "# In WebClient ids should be 31,424\n",
    "\n",
    "id1 = df1[\"_id\"].unique()\n",
    "id2 = df2[\"_id\"].unique()\n",
    "ids = np.concatenate((id1, id2))\n",
    "print(\"id1: (unique, count)\", len(np.unique(id1)), len(id1))\n",
    "print(\"id2: (unique, count)\", len(np.unique(id2)), len(id2))\n",
    "print(\"ids: (unique, count)\", len(np.unique(ids)), len(ids))"
   ]
  },
  {
   "cell_type": "code",
   "execution_count": 24,
   "id": "5f84f195-12e0-480e-98de-9d5da33adc22",
   "metadata": {},
   "outputs": [
    {
     "name": "stdout",
     "output_type": "stream",
     "text": [
      "Only one timezone: ['America/Los_Angeles']\n",
      "<class 'pandas.core.frame.DataFrame'>\n",
      "Int64Index: 31424 entries, 0 to 15086\n",
      "Data columns (total 21 columns):\n",
      " #   Column            Non-Null Count  Dtype                              \n",
      "---  ------            --------------  -----                              \n",
      " 0   _id               31424 non-null  object                             \n",
      " 1   clusterID         31424 non-null  object                             \n",
      " 2   connectionTime    31424 non-null  object                             \n",
      " 3   disconnectTime    31424 non-null  object                             \n",
      " 4   doneChargingTime  29369 non-null  object                             \n",
      " 5   kWhDelivered      31424 non-null  float64                            \n",
      " 6   sessionID         31424 non-null  object                             \n",
      " 7   siteID            31424 non-null  object                             \n",
      " 8   spaceID           31424 non-null  object                             \n",
      " 9   stationID         31424 non-null  object                             \n",
      " 10  timezone          31424 non-null  object                             \n",
      " 11  userID            16388 non-null  object                             \n",
      " 12  connectionDT      31424 non-null  datetime64[ns, America/Los_Angeles]\n",
      " 13  disconnectDT      31424 non-null  datetime64[ns, America/Los_Angeles]\n",
      " 14  doneChargingDT    29369 non-null  datetime64[ns, America/Los_Angeles]\n",
      " 15  connectionDate    31424 non-null  object                             \n",
      " 16  disconnectDate    31424 non-null  object                             \n",
      " 17  doneChargingDate  29369 non-null  object                             \n",
      " 18  connectionSec     31424 non-null  float64                            \n",
      " 19  disconnectSec     31424 non-null  float64                            \n",
      " 20  doneChargingSec   29369 non-null  float64                            \n",
      "dtypes: datetime64[ns, America/Los_Angeles](3), float64(4), object(14)\n",
      "memory usage: 5.3+ MB\n"
     ]
    }
   ],
   "source": [
    "# Processing dataset\n",
    "df_acn_all = pd.concat([df1, df2])\n",
    "df_acn_all = df_acn_all.drop_duplicates()\n",
    "print(\"Only one timezone:\", df_acn_all[\"timezone\"].unique())\n",
    "timezone = df_acn_all[\"timezone\"].unique()[0]\n",
    "\n",
    "df_acn_all[\"connectionDT\"]   = pd.to_datetime(df_acn_all[\"connectionTime\"], utc=True).dt.tz_convert(timezone)\n",
    "df_acn_all[\"disconnectDT\"]   = pd.to_datetime(df_acn_all[\"disconnectTime\"], utc=True).dt.tz_convert(timezone)\n",
    "df_acn_all[\"doneChargingDT\"] = pd.to_datetime(df_acn_all[\"doneChargingTime\"], utc=True).dt.tz_convert(timezone)\n",
    "\n",
    "df_acn_all[\"connectionDate\"]   = df_acn_all[\"connectionDT\"].apply(lambda x: x.date()) \n",
    "df_acn_all[\"disconnectDate\"]   = df_acn_all[\"disconnectDT\"].apply(lambda x: x.date()) \n",
    "df_acn_all[\"doneChargingDate\"] = df_acn_all[\"doneChargingDT\"].apply(lambda x: x.date()) \n",
    "\n",
    "df_acn_all[\"connectionSec\"]   = df_acn_all[\"connectionDT\"].apply(lambda x: datetime.timedelta(hours=x.hour,minutes=x.minute,seconds=x.second).total_seconds()) \n",
    "df_acn_all[\"disconnectSec\"]   = df_acn_all[\"disconnectDT\"].apply(lambda x: datetime.timedelta(hours=x.hour,minutes=x.minute,seconds=x.second).total_seconds()) \n",
    "df_acn_all[\"doneChargingSec\"] = df_acn_all[\"doneChargingDT\"].apply(lambda x: datetime.timedelta(hours=x.hour,minutes=x.minute,seconds=x.second).total_seconds()\\\n",
    "                                                                  if not x is pd.NaT else np.nan ) \n",
    "df_acn_all.info()"
   ]
  },
  {
   "cell_type": "code",
   "execution_count": 25,
   "id": "a55a1d0d-2b40-4427-85ec-97db4d87c91f",
   "metadata": {
    "tags": []
   },
   "outputs": [
    {
     "data": {
      "image/png": "[encoded data removed]",
      "text/plain": [
       "<Figure size 1152x720 with 3 Axes>"
      ]
     },
     "metadata": {
      "needs_background": "light"
     },
     "output_type": "display_data"
    }
   ],
   "source": [
    "x,y = np.unique(df_acn_all[\"connectionDate\"], return_counts=True)\n",
    "\n",
    "start_date = datetime.datetime.strptime(\"2019-01-01\", \"%Y-%m-%d\").date()\n",
    "end_date = datetime.datetime.strptime(\"2020-01-01\", \"%Y-%m-%d\").date()\n",
    "\n",
    "df_acn = df_acn_all[(start_date <= df_acn_all[\"connectionDate\"]) & (df_acn_all[\"connectionDate\"] < end_date)].reset_index(drop = True).copy()\n",
    "xs,ys = np.unique(df_acn[\"connectionDate\"], return_counts=True)\n",
    "\n",
    "start_date2 = datetime.datetime.strptime(\"2019-01-01\", \"%Y-%m-%d\").date()\n",
    "end_date2 = datetime.datetime.strptime(\"2019-03-01\", \"%Y-%m-%d\").date()\n",
    "df_acn_sub = df_acn_all[(start_date2 <= df_acn_all[\"connectionDate\"]) & (df_acn_all[\"connectionDate\"] < end_date2)]\n",
    "xs2, ys2 = np.unique(df_acn_sub[\"connectionDate\"], return_counts=True)\n",
    "\n",
    "fig1 = plt.figure(figsize=(16, 10))\n",
    "ax1 = fig1.add_subplot(3,1,1)\n",
    "ax1.bar(x,y, width=1)\n",
    "ax1.bar(xs,ys, color = \"firebrick\", width=1)\n",
    "ax1.bar(xs2,ys2, color = \"darkgreen\", width=1)\n",
    "ax1.set_xlabel(\"Date\")\n",
    "ax1.set_ylabel(\"Number of sessions\")\n",
    "ax1.set_title(\"The usage of the chargers is not constant through time\")\n",
    "\n",
    "ax2 = fig1.add_subplot(3,1,2)\n",
    "mavg_d = 7\n",
    "mavg = np.zeros((mavg_d))\n",
    "mavg_ys = np.zeros(ys.shape) \n",
    "for i, n in enumerate(ys):\n",
    "    mavg = np.roll(mavg, -1)\n",
    "    mavg[-1] = n\n",
    "    mavg_ys[i] = np.mean(mavg)\n",
    "    \n",
    "\n",
    "ax2.bar(xs,ys, color = 'firebrick', width=1)\n",
    "ax2.plot(xs,mavg_ys, label = f\"{mavg_d} day moving average\")\n",
    "ax2.bar(xs2,ys2, color = \"darkgreen\", width=1)\n",
    "ax2.set_xlabel(\"Date\")\n",
    "ax2.set_ylabel(\"Number of sessions\")\n",
    "ax2.set_title(\"Selecting a subset of dates\")\n",
    "ax2.legend()\n",
    "\n",
    "\n",
    "ax3 = fig1.add_subplot(3,1,3)\n",
    "ax3.bar(xs2,ys2, color = 'darkgreen', width = 1)\n",
    "ax3.set_xlabel(\"Date\")\n",
    "ax3.set_ylabel(\"Number of sessions\")\n",
    "ax3.set_title(\"Zomming in on 2019-01 and 2019-02\")\n",
    "\n",
    "fig1.tight_layout()\n"
   ]
  },
  {
   "cell_type": "code",
   "execution_count": 26,
   "id": "d8eeb000-79a3-4787-b6a6-52eb64c9803e",
   "metadata": {},
   "outputs": [
    {
     "data": {
      "text/html": [
       "<div>\n",
       "<style scoped>\n",
       "    .dataframe tbody tr th:only-of-type {\n",
       "        vertical-align: middle;\n",
       "    }\n",
       "\n",
       "    .dataframe tbody tr th {\n",
       "        vertical-align: top;\n",
       "    }\n",
       "\n",
       "    .dataframe thead th {\n",
       "        text-align: right;\n",
       "    }\n",
       "</style>\n",
       "<table border=\"1\" class=\"dataframe\">\n",
       "  <thead>\n",
       "    <tr style=\"text-align: right;\">\n",
       "      <th></th>\n",
       "      <th>kWhDelivered</th>\n",
       "      <th>connectionSec</th>\n",
       "      <th>disconnectSec</th>\n",
       "      <th>doneChargingSec</th>\n",
       "    </tr>\n",
       "  </thead>\n",
       "  <tbody>\n",
       "    <tr>\n",
       "      <th>count</th>\n",
       "      <td>10616.000000</td>\n",
       "      <td>10616.000000</td>\n",
       "      <td>10616.000000</td>\n",
       "      <td>10150.000000</td>\n",
       "    </tr>\n",
       "    <tr>\n",
       "      <th>mean</th>\n",
       "      <td>8.922078</td>\n",
       "      <td>42165.075735</td>\n",
       "      <td>59113.024586</td>\n",
       "      <td>50268.966700</td>\n",
       "    </tr>\n",
       "    <tr>\n",
       "      <th>std</th>\n",
       "      <td>9.155190</td>\n",
       "      <td>13417.459663</td>\n",
       "      <td>13344.489609</td>\n",
       "      <td>13888.555135</td>\n",
       "    </tr>\n",
       "    <tr>\n",
       "      <th>min</th>\n",
       "      <td>0.502000</td>\n",
       "      <td>34.000000</td>\n",
       "      <td>39.000000</td>\n",
       "      <td>28.000000</td>\n",
       "    </tr>\n",
       "    <tr>\n",
       "      <th>25%</th>\n",
       "      <td>2.635000</td>\n",
       "      <td>32474.000000</td>\n",
       "      <td>53438.250000</td>\n",
       "      <td>40270.000000</td>\n",
       "    </tr>\n",
       "    <tr>\n",
       "      <th>50%</th>\n",
       "      <td>6.233000</td>\n",
       "      <td>36958.500000</td>\n",
       "      <td>62152.500000</td>\n",
       "      <td>48755.000000</td>\n",
       "    </tr>\n",
       "    <tr>\n",
       "      <th>75%</th>\n",
       "      <td>11.898500</td>\n",
       "      <td>48874.750000</td>\n",
       "      <td>66971.250000</td>\n",
       "      <td>59953.250000</td>\n",
       "    </tr>\n",
       "    <tr>\n",
       "      <th>max</th>\n",
       "      <td>75.528000</td>\n",
       "      <td>86273.000000</td>\n",
       "      <td>86337.000000</td>\n",
       "      <td>86333.000000</td>\n",
       "    </tr>\n",
       "  </tbody>\n",
       "</table>\n",
       "</div>"
      ],
      "text/plain": [
       "       kWhDelivered  connectionSec  disconnectSec  doneChargingSec\n",
       "count  10616.000000   10616.000000   10616.000000     10150.000000\n",
       "mean       8.922078   42165.075735   59113.024586     50268.966700\n",
       "std        9.155190   13417.459663   13344.489609     13888.555135\n",
       "min        0.502000      34.000000      39.000000        28.000000\n",
       "25%        2.635000   32474.000000   53438.250000     40270.000000\n",
       "50%        6.233000   36958.500000   62152.500000     48755.000000\n",
       "75%       11.898500   48874.750000   66971.250000     59953.250000\n",
       "max       75.528000   86273.000000   86337.000000     86333.000000"
      ]
     },
     "execution_count": 26,
     "metadata": {},
     "output_type": "execute_result"
    }
   ],
   "source": [
    "df_acn.describe()"
   ]
  },
  {
   "cell_type": "code",
   "execution_count": 27,
   "id": "1c1fdd1f-f770-4c90-8725-87ad83db03e8",
   "metadata": {},
   "outputs": [
    {
     "data": {
      "text/html": [
       "<div>\n",
       "<style scoped>\n",
       "    .dataframe tbody tr th:only-of-type {\n",
       "        vertical-align: middle;\n",
       "    }\n",
       "\n",
       "    .dataframe tbody tr th {\n",
       "        vertical-align: top;\n",
       "    }\n",
       "\n",
       "    .dataframe thead th {\n",
       "        text-align: right;\n",
       "    }\n",
       "</style>\n",
       "<table border=\"1\" class=\"dataframe\">\n",
       "  <thead>\n",
       "    <tr style=\"text-align: right;\">\n",
       "      <th></th>\n",
       "      <th>_id</th>\n",
       "      <th>clusterID</th>\n",
       "      <th>connectionTime</th>\n",
       "      <th>disconnectTime</th>\n",
       "      <th>doneChargingTime</th>\n",
       "      <th>kWhDelivered</th>\n",
       "      <th>sessionID</th>\n",
       "      <th>siteID</th>\n",
       "      <th>spaceID</th>\n",
       "      <th>stationID</th>\n",
       "      <th>...</th>\n",
       "      <th>userID</th>\n",
       "      <th>connectionDT</th>\n",
       "      <th>disconnectDT</th>\n",
       "      <th>doneChargingDT</th>\n",
       "      <th>connectionDate</th>\n",
       "      <th>disconnectDate</th>\n",
       "      <th>doneChargingDate</th>\n",
       "      <th>connectionSec</th>\n",
       "      <th>disconnectSec</th>\n",
       "      <th>doneChargingSec</th>\n",
       "    </tr>\n",
       "  </thead>\n",
       "  <tbody>\n",
       "    <tr>\n",
       "      <th>0</th>\n",
       "      <td>5c412c1df9af8b12cb56c27c</td>\n",
       "      <td>0039</td>\n",
       "      <td>Tue, 01 Jan 2019 17:41:45 GMT</td>\n",
       "      <td>Tue, 01 Jan 2019 18:39:21 GMT</td>\n",
       "      <td>Tue, 01 Jan 2019 18:40:21 GMT</td>\n",
       "      <td>0.900</td>\n",
       "      <td>2_39_138_566_2019-01-01 17:41:44.784919</td>\n",
       "      <td>0002</td>\n",
       "      <td>CA-512</td>\n",
       "      <td>2-39-138-566</td>\n",
       "      <td>...</td>\n",
       "      <td>None</td>\n",
       "      <td>2019-01-01 09:41:45-08:00</td>\n",
       "      <td>2019-01-01 10:39:21-08:00</td>\n",
       "      <td>2019-01-01 10:40:21-08:00</td>\n",
       "      <td>2019-01-01</td>\n",
       "      <td>2019-01-01</td>\n",
       "      <td>2019-01-01</td>\n",
       "      <td>34905.0</td>\n",
       "      <td>38361.0</td>\n",
       "      <td>38421.0</td>\n",
       "    </tr>\n",
       "    <tr>\n",
       "      <th>1</th>\n",
       "      <td>5c412c1df9af8b12cb56c27d</td>\n",
       "      <td>0039</td>\n",
       "      <td>Tue, 01 Jan 2019 18:09:17 GMT</td>\n",
       "      <td>Wed, 02 Jan 2019 02:39:32 GMT</td>\n",
       "      <td>Tue, 01 Jan 2019 20:16:10 GMT</td>\n",
       "      <td>12.534</td>\n",
       "      <td>2_39_79_379_2019-01-01 18:09:16.991864</td>\n",
       "      <td>0002</td>\n",
       "      <td>CA-327</td>\n",
       "      <td>2-39-79-379</td>\n",
       "      <td>...</td>\n",
       "      <td>000000558</td>\n",
       "      <td>2019-01-01 10:09:17-08:00</td>\n",
       "      <td>2019-01-01 18:39:32-08:00</td>\n",
       "      <td>2019-01-01 12:16:10-08:00</td>\n",
       "      <td>2019-01-01</td>\n",
       "      <td>2019-01-01</td>\n",
       "      <td>2019-01-01</td>\n",
       "      <td>36557.0</td>\n",
       "      <td>67172.0</td>\n",
       "      <td>44170.0</td>\n",
       "    </tr>\n",
       "    <tr>\n",
       "      <th>2</th>\n",
       "      <td>5c412c1df9af8b12cb56c27e</td>\n",
       "      <td>0039</td>\n",
       "      <td>Tue, 01 Jan 2019 18:39:25 GMT</td>\n",
       "      <td>Tue, 01 Jan 2019 19:18:49 GMT</td>\n",
       "      <td>Tue, 01 Jan 2019 19:19:47 GMT</td>\n",
       "      <td>0.883</td>\n",
       "      <td>2_39_138_566_2019-01-01 18:39:24.566872</td>\n",
       "      <td>0002</td>\n",
       "      <td>CA-512</td>\n",
       "      <td>2-39-138-566</td>\n",
       "      <td>...</td>\n",
       "      <td>None</td>\n",
       "      <td>2019-01-01 10:39:25-08:00</td>\n",
       "      <td>2019-01-01 11:18:49-08:00</td>\n",
       "      <td>2019-01-01 11:19:47-08:00</td>\n",
       "      <td>2019-01-01</td>\n",
       "      <td>2019-01-01</td>\n",
       "      <td>2019-01-01</td>\n",
       "      <td>38365.0</td>\n",
       "      <td>40729.0</td>\n",
       "      <td>40787.0</td>\n",
       "    </tr>\n",
       "    <tr>\n",
       "      <th>3</th>\n",
       "      <td>5c412c1df9af8b12cb56c27f</td>\n",
       "      <td>0039</td>\n",
       "      <td>Tue, 01 Jan 2019 19:18:53 GMT</td>\n",
       "      <td>Tue, 01 Jan 2019 20:14:07 GMT</td>\n",
       "      <td>Tue, 01 Jan 2019 19:59:08 GMT</td>\n",
       "      <td>0.879</td>\n",
       "      <td>2_39_138_566_2019-01-01 19:18:52.843645</td>\n",
       "      <td>0002</td>\n",
       "      <td>CA-512</td>\n",
       "      <td>2-39-138-566</td>\n",
       "      <td>...</td>\n",
       "      <td>None</td>\n",
       "      <td>2019-01-01 11:18:53-08:00</td>\n",
       "      <td>2019-01-01 12:14:07-08:00</td>\n",
       "      <td>2019-01-01 11:59:08-08:00</td>\n",
       "      <td>2019-01-01</td>\n",
       "      <td>2019-01-01</td>\n",
       "      <td>2019-01-01</td>\n",
       "      <td>40733.0</td>\n",
       "      <td>44047.0</td>\n",
       "      <td>43148.0</td>\n",
       "    </tr>\n",
       "    <tr>\n",
       "      <th>4</th>\n",
       "      <td>5c412c1df9af8b12cb56c280</td>\n",
       "      <td>0039</td>\n",
       "      <td>Tue, 01 Jan 2019 21:05:57 GMT</td>\n",
       "      <td>Wed, 02 Jan 2019 02:03:02 GMT</td>\n",
       "      <td>Wed, 02 Jan 2019 01:59:27 GMT</td>\n",
       "      <td>16.136</td>\n",
       "      <td>2_39_79_378_2019-01-01 21:05:56.972890</td>\n",
       "      <td>0002</td>\n",
       "      <td>CA-326</td>\n",
       "      <td>2-39-79-378</td>\n",
       "      <td>...</td>\n",
       "      <td>000001135</td>\n",
       "      <td>2019-01-01 13:05:57-08:00</td>\n",
       "      <td>2019-01-01 18:03:02-08:00</td>\n",
       "      <td>2019-01-01 17:59:27-08:00</td>\n",
       "      <td>2019-01-01</td>\n",
       "      <td>2019-01-01</td>\n",
       "      <td>2019-01-01</td>\n",
       "      <td>47157.0</td>\n",
       "      <td>64982.0</td>\n",
       "      <td>64767.0</td>\n",
       "    </tr>\n",
       "  </tbody>\n",
       "</table>\n",
       "<p>5 rows × 21 columns</p>\n",
       "</div>"
      ],
      "text/plain": [
       "                        _id clusterID                 connectionTime  \\\n",
       "0  5c412c1df9af8b12cb56c27c      0039  Tue, 01 Jan 2019 17:41:45 GMT   \n",
       "1  5c412c1df9af8b12cb56c27d      0039  Tue, 01 Jan 2019 18:09:17 GMT   \n",
       "2  5c412c1df9af8b12cb56c27e      0039  Tue, 01 Jan 2019 18:39:25 GMT   \n",
       "3  5c412c1df9af8b12cb56c27f      0039  Tue, 01 Jan 2019 19:18:53 GMT   \n",
       "4  5c412c1df9af8b12cb56c280      0039  Tue, 01 Jan 2019 21:05:57 GMT   \n",
       "\n",
       "                  disconnectTime               doneChargingTime  kWhDelivered  \\\n",
       "0  Tue, 01 Jan 2019 18:39:21 GMT  Tue, 01 Jan 2019 18:40:21 GMT         0.900   \n",
       "1  Wed, 02 Jan 2019 02:39:32 GMT  Tue, 01 Jan 2019 20:16:10 GMT        12.534   \n",
       "2  Tue, 01 Jan 2019 19:18:49 GMT  Tue, 01 Jan 2019 19:19:47 GMT         0.883   \n",
       "3  Tue, 01 Jan 2019 20:14:07 GMT  Tue, 01 Jan 2019 19:59:08 GMT         0.879   \n",
       "4  Wed, 02 Jan 2019 02:03:02 GMT  Wed, 02 Jan 2019 01:59:27 GMT        16.136   \n",
       "\n",
       "                                 sessionID siteID spaceID     stationID  ...  \\\n",
       "0  2_39_138_566_2019-01-01 17:41:44.784919   0002  CA-512  2-39-138-566  ...   \n",
       "1   2_39_79_379_2019-01-01 18:09:16.991864   0002  CA-327   2-39-79-379  ...   \n",
       "2  2_39_138_566_2019-01-01 18:39:24.566872   0002  CA-512  2-39-138-566  ...   \n",
       "3  2_39_138_566_2019-01-01 19:18:52.843645   0002  CA-512  2-39-138-566  ...   \n",
       "4   2_39_79_378_2019-01-01 21:05:56.972890   0002  CA-326   2-39-79-378  ...   \n",
       "\n",
       "      userID              connectionDT              disconnectDT  \\\n",
       "0       None 2019-01-01 09:41:45-08:00 2019-01-01 10:39:21-08:00   \n",
       "1  000000558 2019-01-01 10:09:17-08:00 2019-01-01 18:39:32-08:00   \n",
       "2       None 2019-01-01 10:39:25-08:00 2019-01-01 11:18:49-08:00   \n",
       "3       None 2019-01-01 11:18:53-08:00 2019-01-01 12:14:07-08:00   \n",
       "4  000001135 2019-01-01 13:05:57-08:00 2019-01-01 18:03:02-08:00   \n",
       "\n",
       "             doneChargingDT connectionDate disconnectDate doneChargingDate  \\\n",
       "0 2019-01-01 10:40:21-08:00     2019-01-01     2019-01-01       2019-01-01   \n",
       "1 2019-01-01 12:16:10-08:00     2019-01-01     2019-01-01       2019-01-01   \n",
       "2 2019-01-01 11:19:47-08:00     2019-01-01     2019-01-01       2019-01-01   \n",
       "3 2019-01-01 11:59:08-08:00     2019-01-01     2019-01-01       2019-01-01   \n",
       "4 2019-01-01 17:59:27-08:00     2019-01-01     2019-01-01       2019-01-01   \n",
       "\n",
       "  connectionSec  disconnectSec  doneChargingSec  \n",
       "0       34905.0        38361.0          38421.0  \n",
       "1       36557.0        67172.0          44170.0  \n",
       "2       38365.0        40729.0          40787.0  \n",
       "3       40733.0        44047.0          43148.0  \n",
       "4       47157.0        64982.0          64767.0  \n",
       "\n",
       "[5 rows x 21 columns]"
      ]
     },
     "execution_count": 27,
     "metadata": {},
     "output_type": "execute_result"
    }
   ],
   "source": [
    "df_acn.head()"
   ]
  },
  {
   "cell_type": "code",
   "execution_count": 28,
   "id": "75ba2204-b100-415d-8214-62427dda36ec",
   "metadata": {},
   "outputs": [
    {
     "name": "stdout",
     "output_type": "stream",
     "text": [
      "0.0, 18.0 \t+ 0.0, 58.0 \t-> 0.0, 18.0, 58.0\n",
      "1.0, 5.0 \t+ 1.0, 35.0 \t-> 1.0, 5.0, 35.0\n",
      "2.0, 7.0 \t+ 2.0, 21.0 \t-> 2.0, 7.0, 21.0\n",
      "3.0, 1.0 \t+ 3.0, 13.0 \t-> 3.0, 1.0, 13.0\n",
      "4.0, 4.0 \t+ 4.0, 11.0 \t-> 4.0, 4.0, 11.0\n",
      "5.0, 24.0 \t+ 5.0, 8.0 \t-> 5.0, 24.0, 8.0\n",
      "6.0, 182.0 \t+ 6.0, 91.0 \t-> 6.0, 182.0, 91.0\n",
      "7.0, 400.0 \t+ 7.0, 127.0 \t-> 7.0, 400.0, 127.0\n",
      "8.0, 1950.0 \t+ 8.0, 93.0 \t-> 8.0, 1950.0, 93.0\n",
      "9.0, 2140.0 \t+ 9.0, 172.0 \t-> 9.0, 2140.0, 172.0\n",
      "10.0, 1390.0 \t+ 10.0, 238.0 \t-> 10.0, 1390.0, 238.0\n",
      "11.0, 644.0 \t+ 11.0, 424.0 \t-> 11.0, 644.0, 424.0\n",
      "12.0, 750.0 \t+ 12.0, 556.0 \t-> 12.0, 750.0, 556.0\n",
      "13.0, 701.0 \t+ 13.0, 410.0 \t-> 13.0, 701.0, 410.0\n",
      "14.0, 407.0 \t+ 14.0, 501.0 \t-> 14.0, 407.0, 501.0\n",
      "15.0, 281.0 \t+ 15.0, 654.0 \t-> 15.0, 281.0, 654.0\n",
      "16.0, 338.0 \t+ 16.0, 1331.0 \t-> 16.0, 338.0, 1331.0\n",
      "17.0, 335.0 \t+ 17.0, 2173.0 \t-> 17.0, 335.0, 2173.0\n",
      "18.0, 412.0 \t+ 18.0, 1545.0 \t-> 18.0, 412.0, 1545.0\n",
      "19.0, 238.0 \t+ 19.0, 952.0 \t-> 19.0, 238.0, 952.0\n",
      "20.0, 179.0 \t+ 20.0, 520.0 \t-> 20.0, 179.0, 520.0\n",
      "21.0, 127.0 \t+ 21.0, 349.0 \t-> 21.0, 127.0, 349.0\n",
      "22.0, 59.0 \t+ 22.0, 253.0 \t-> 22.0, 59.0, 253.0\n",
      "23.0, 24.0 \t+ 23.0, 81.0 \t-> 23.0, 24.0, 81.0\n",
      "\n",
      "Totals:\n",
      "\n",
      "Num sessions: 10616\n",
      "Num days: 364\n",
      "Avg. sessions per day 29.16\n"
     ]
    },
    {
     "data": {
      "text/plain": [
       "gid            276.000000\n",
       "arr_count    10616.000000\n",
       "dep_count    10616.000000\n",
       "arr_avg         29.164835\n",
       "dep_avg         29.164835\n",
       "dtype: float64"
      ]
     },
     "execution_count": 28,
     "metadata": {},
     "output_type": "execute_result"
    }
   ],
   "source": [
    "g_interval = 60*60 # group in 1 hour intervals (measured in seconds)\n",
    "df_acn[\"arrtime_gid\"] = df_acn[\"connectionSec\"] // g_interval\n",
    "df_acn[\"deptime_gid\"] = df_acn[\"disconnectSec\"] // g_interval\n",
    "\n",
    "\n",
    "gdf_arrcounts = df_acn.groupby(\"arrtime_gid\").agg({'_id': 'count'}).reset_index().rename(columns = {'_id': 'arr_count', 'arrtime_gid': 'gid'})\n",
    "gdf_depcounts = df_acn.groupby(\"deptime_gid\").agg({'_id': 'count'}).reset_index().rename(columns = {'_id': 'dep_count', 'deptime_gid': 'gid'})\n",
    "\n",
    "gdf_counts = gdf_arrcounts.join(gdf_depcounts.set_index('gid'), on = 'gid')\n",
    "\n",
    "# Verifying join... the ~~~fancy~~~ way\n",
    "for row_arr, row_dep, row_tot in zip(gdf_arrcounts.iterrows(), gdf_depcounts.iterrows(), gdf_counts.iterrows()):\n",
    "    print(f\"{row_arr[1].gid}, {row_arr[1].arr_count} \\t+ {row_dep[1].gid}, {row_dep[1].dep_count} \\t-> {row_tot[1].gid}, {row_tot[1].arr_count}, {row_tot[1].dep_count}\")\n",
    "\n",
    "num_sessions = df_acn.shape[0]\n",
    "num_days = df_acn[\"connectionDate\"].nunique() # Only date missing is 2019-12-25\n",
    "gdf_counts[\"arr_avg\"] = gdf_counts[\"arr_count\"] / num_days\n",
    "gdf_counts[\"dep_avg\"] = gdf_counts[\"dep_count\"] / num_days\n",
    "print(\"\\nTotals:\")\n",
    "print()\n",
    "print(\"Num sessions:\", num_sessions)\n",
    "print(\"Num days:\", num_days)\n",
    "print(f\"Avg. sessions per day {num_sessions/num_days:.2f}\")\n",
    "\n",
    "gdf_counts.sum()\n"
   ]
  },
  {
   "cell_type": "code",
   "execution_count": 29,
   "id": "7465450f-e8d5-4099-9294-d5ccf15d19d3",
   "metadata": {},
   "outputs": [
    {
     "data": {
      "text/plain": [
       "<matplotlib.legend.Legend at 0x7ffb0bfebe20>"
      ]
     },
     "execution_count": 29,
     "metadata": {},
     "output_type": "execute_result"
    },
    {
     "data": {
      "image/png": "[encoded data removed]",
      "text/plain": [
       "<Figure size 576x432 with 1 Axes>"
      ]
     },
     "metadata": {
      "needs_background": "light"
     },
     "output_type": "display_data"
    }
   ],
   "source": [
    "fig1 = plt.figure(figsize = (8,6))\n",
    "ax1 = fig1.add_subplot(1,1,1)\n",
    "\n",
    "ax1.plot(gdf_counts[\"gid\"].to_numpy(), gdf_counts[\"arr_avg\"].to_numpy(), label=\"Arriving\")\n",
    "ax1.plot(gdf_counts[\"gid\"].to_numpy(), gdf_counts[\"dep_avg\"].to_numpy(), label=\"Departing\")\n",
    "\n",
    "ax1.set_xticks(np.arange(0,24,1))\n",
    "ax1.grid()\n",
    "ax1.set_xlabel(\"Hour\")\n",
    "ax1.set_ylabel(\"Rate\")\n",
    "ax1.set_title(\"Average. number of cars doing __ at each hour of the day\")\n",
    "ax1.legend()\n"
   ]
  },
  {
   "cell_type": "code",
   "execution_count": 30,
   "id": "c4f8b3b0-c3cb-4c44-a90f-167ba90c2377",
   "metadata": {},
   "outputs": [],
   "source": [
    "gdf_counts.to_csv(\"outputs/gdf_counts.csv\", index=False)"
   ]
  },
  {
   "cell_type": "code",
   "execution_count": 31,
   "id": "097c4bbf-1045-41f4-8caa-9b22c046b250",
   "metadata": {},
   "outputs": [],
   "source": [
    "df_acn.to_csv(\"data/df_acn_raw.csv\", index = False)"
   ]
  }
 ],
 "metadata": {
  "kernelspec": {
   "display_name": "env_marlvr",
   "language": "python",
   "name": "env_marlvr"
  },
  "language_info": {
   "codemirror_mode": {
    "name": "ipython",
    "version": 3
   },
   "file_extension": ".py",
   "mimetype": "text/x-python",
   "name": "python",
   "nbconvert_exporter": "python",
   "pygments_lexer": "ipython3",
   "version": "3.8.10"
  }
 },
 "nbformat": 4,
 "nbformat_minor": 5
}

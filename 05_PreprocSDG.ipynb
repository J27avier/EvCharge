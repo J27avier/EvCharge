{
 "cells": [
  {
   "cell_type": "code",
   "execution_count": 1,
   "metadata": {},
   "outputs": [],
   "source": [
    "import pandas as pd\n",
    "import numpy as np\n",
    "import datetime\n",
    "from EvGym import config"
   ]
  },
  {
   "cell_type": "code",
   "execution_count": 2,
   "metadata": {},
   "outputs": [
    {
     "data": {
      "text/plain": [
       "Timedelta('0 days 02:19:58.800000')"
      ]
     },
     "execution_count": 2,
     "metadata": {},
     "output_type": "execute_result"
    }
   ],
   "source": [
    "pd.Timedelta(2.333, unit='h')"
   ]
  },
  {
   "cell_type": "code",
   "execution_count": 3,
   "metadata": {},
   "outputs": [],
   "source": [
    "file = \"data/data-SDG/0 Generated sample (AC,poisson_fit) Horizon =2015-01-01-to-2015-12-31.csv\"\n",
    "df_sdg = pd.read_csv(file, parse_dates = [\"Date\"])"
   ]
  },
  {
   "cell_type": "code",
   "execution_count": 6,
   "metadata": {},
   "outputs": [],
   "source": [
    "df_sdg[\"starttime_parking\"] = df_sdg[\"Date\"] + pd.to_timedelta(df_sdg[\"Arrival\"], unit='h')\n",
    "df_sdg[\"ts_arr\"] = np.floor((df_sdg[\"starttime_parking\"] - config.starttime_min).dt.total_seconds()/ config.timestep)\n",
    "df_sdg[\"ts_dep\"] = np.ceil(df_sdg[\"ts_arr\"] +  df_sdg[\"Connected_time\"])\n",
    "df_sdg[\"soc_arr\"] = np.clip(config.FINAL_SOC - 0.01 -df_sdg[\"Energy_required\"]**config.sdg_pot / config.sdg_norm**config.sdg_pot,\n",
    "                             0, config.FINAL_SOC)\n",
    "df_sdg[\"laxity\"] = (df_sdg[\"ts_dep\"] - df_sdg[\"ts_arr\"]) - ((config.FINAL_SOC - df_sdg[\"soc_arr\"])* config.B) / (config.alpha_c*config.eta_c)\n",
    "#df_elaad[\"laxity\"] = df_elaad[\"connected_time\"] - (config.FINAL_SOC - df_elaad[\"soc_arr\"]) * config.B / (config.alpha_c*config.eta_c)"
   ]
  },
  {
   "cell_type": "code",
   "execution_count": 7,
   "metadata": {},
   "outputs": [
    {
     "data": {
      "text/html": [
       "<div>\n",
       "<style scoped>\n",
       "    .dataframe tbody tr th:only-of-type {\n",
       "        vertical-align: middle;\n",
       "    }\n",
       "\n",
       "    .dataframe tbody tr th {\n",
       "        vertical-align: top;\n",
       "    }\n",
       "\n",
       "    .dataframe thead th {\n",
       "        text-align: right;\n",
       "    }\n",
       "</style>\n",
       "<table border=\"1\" class=\"dataframe\">\n",
       "  <thead>\n",
       "    <tr style=\"text-align: right;\">\n",
       "      <th></th>\n",
       "      <th>Arrival</th>\n",
       "      <th>Connected_time</th>\n",
       "      <th>Energy_required</th>\n",
       "      <th>ts_arr</th>\n",
       "      <th>ts_dep</th>\n",
       "      <th>soc_arr</th>\n",
       "      <th>laxity</th>\n",
       "    </tr>\n",
       "  </thead>\n",
       "  <tbody>\n",
       "    <tr>\n",
       "      <th>count</th>\n",
       "      <td>362125.000000</td>\n",
       "      <td>362125.000000</td>\n",
       "      <td>362125.000000</td>\n",
       "      <td>362125.000000</td>\n",
       "      <td>362125.000000</td>\n",
       "      <td>362125.000000</td>\n",
       "      <td>362125.000000</td>\n",
       "    </tr>\n",
       "    <tr>\n",
       "      <th>mean</th>\n",
       "      <td>13.317831</td>\n",
       "      <td>6.376973</td>\n",
       "      <td>7.517034</td>\n",
       "      <td>136128.706256</td>\n",
       "      <td>136135.586262</td>\n",
       "      <td>0.629196</td>\n",
       "      <td>4.350849</td>\n",
       "    </tr>\n",
       "    <tr>\n",
       "      <th>std</th>\n",
       "      <td>4.738733</td>\n",
       "      <td>5.129841</td>\n",
       "      <td>3.899081</td>\n",
       "      <td>2590.072153</td>\n",
       "      <td>2589.928154</td>\n",
       "      <td>0.239065</td>\n",
       "      <td>5.284336</td>\n",
       "    </tr>\n",
       "    <tr>\n",
       "      <th>min</th>\n",
       "      <td>0.076923</td>\n",
       "      <td>0.000181</td>\n",
       "      <td>0.000092</td>\n",
       "      <td>131496.000000</td>\n",
       "      <td>131499.000000</td>\n",
       "      <td>0.000000</td>\n",
       "      <td>-6.198516</td>\n",
       "    </tr>\n",
       "    <tr>\n",
       "      <th>25%</th>\n",
       "      <td>9.220000</td>\n",
       "      <td>2.234599</td>\n",
       "      <td>4.533464</td>\n",
       "      <td>133852.000000</td>\n",
       "      <td>133857.000000</td>\n",
       "      <td>0.500328</td>\n",
       "      <td>0.556507</td>\n",
       "    </tr>\n",
       "    <tr>\n",
       "      <th>50%</th>\n",
       "      <td>13.593750</td>\n",
       "      <td>4.501333</td>\n",
       "      <td>7.588365</td>\n",
       "      <td>136233.000000</td>\n",
       "      <td>136238.000000</td>\n",
       "      <td>0.656859</td>\n",
       "      <td>2.914062</td>\n",
       "    </tr>\n",
       "    <tr>\n",
       "      <th>75%</th>\n",
       "      <td>17.041667</td>\n",
       "      <td>9.859067</td>\n",
       "      <td>9.843516</td>\n",
       "      <td>138464.000000</td>\n",
       "      <td>138467.000000</td>\n",
       "      <td>0.827048</td>\n",
       "      <td>7.618851</td>\n",
       "    </tr>\n",
       "    <tr>\n",
       "      <th>max</th>\n",
       "      <td>23.952381</td>\n",
       "      <td>23.998291</td>\n",
       "      <td>23.965762</td>\n",
       "      <td>140255.000000</td>\n",
       "      <td>140273.000000</td>\n",
       "      <td>0.960000</td>\n",
       "      <td>23.925787</td>\n",
       "    </tr>\n",
       "  </tbody>\n",
       "</table>\n",
       "</div>"
      ],
      "text/plain": [
       "             Arrival  Connected_time  Energy_required         ts_arr  \\\n",
       "count  362125.000000   362125.000000    362125.000000  362125.000000   \n",
       "mean       13.317831        6.376973         7.517034  136128.706256   \n",
       "std         4.738733        5.129841         3.899081    2590.072153   \n",
       "min         0.076923        0.000181         0.000092  131496.000000   \n",
       "25%         9.220000        2.234599         4.533464  133852.000000   \n",
       "50%        13.593750        4.501333         7.588365  136233.000000   \n",
       "75%        17.041667        9.859067         9.843516  138464.000000   \n",
       "max        23.952381       23.998291        23.965762  140255.000000   \n",
       "\n",
       "              ts_dep        soc_arr         laxity  \n",
       "count  362125.000000  362125.000000  362125.000000  \n",
       "mean   136135.586262       0.629196       4.350849  \n",
       "std      2589.928154       0.239065       5.284336  \n",
       "min    131499.000000       0.000000      -6.198516  \n",
       "25%    133857.000000       0.500328       0.556507  \n",
       "50%    136238.000000       0.656859       2.914062  \n",
       "75%    138467.000000       0.827048       7.618851  \n",
       "max    140273.000000       0.960000      23.925787  "
      ]
     },
     "execution_count": 7,
     "metadata": {},
     "output_type": "execute_result"
    }
   ],
   "source": [
    "df_sdg.describe()"
   ]
  },
  {
   "cell_type": "code",
   "execution_count": null,
   "metadata": {},
   "outputs": [],
   "source": []
  }
 ],
 "metadata": {
  "kernelspec": {
   "display_name": "env_marlvr",
   "language": "python",
   "name": "env_marlvr"
  },
  "language_info": {
   "codemirror_mode": {
    "name": "ipython",
    "version": 3
   },
   "file_extension": ".py",
   "mimetype": "text/x-python",
   "name": "python",
   "nbconvert_exporter": "python",
   "pygments_lexer": "ipython3",
   "version": "3.8.10"
  },
  "orig_nbformat": 4
 },
 "nbformat": 4,
 "nbformat_minor": 2
}
